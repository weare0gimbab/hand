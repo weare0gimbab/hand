{
 "cells": [
  {
   "cell_type": "code",
   "execution_count": 1,
   "metadata": {
    "id": "Gk-PejwBtQL-"
   },
   "outputs": [],
   "source": [
    "import os\n",
    "\n",
    "# dataset 폴더 경로\n",
    "dataset_dir = \"/content/dataset\"\n",
    "\n",
    "# dataset 폴더가 없으면 생성\n",
    "if not os.path.exists(dataset_dir):\n",
    "    os.makedirs(dataset_dir)\n"
   ]
  },
  {
   "cell_type": "code",
   "execution_count": null,
   "metadata": {
    "colab": {
     "base_uri": "https://localhost:8080/"
    },
    "id": "5KuEs80vi8_9",
    "outputId": "991f7429-5b82-4e3f-887f-928bdc335b51"
   },
   "outputs": [
    {
     "name": "stdout",
     "output_type": "stream",
     "text": [
      "/content/dataset\n",
      "  % Total    % Received % Xferd  Average Speed   Time    Time     Time  Current\n",
      "                                 Dload  Upload   Total   Spent    Left  Speed\n",
      "100   894  100   894    0     0   3250      0 --:--:-- --:--:-- --:--:--  3239\n",
      "100 27.6M  100 27.6M    0     0  13.9M      0  0:00:01  0:00:01 --:--:-- 30.6M\n",
      "Archive:  roboflow.zip\n",
      " extracting: README.dataset.txt      \n",
      " extracting: README.roboflow.txt     \n",
      " extracting: data.yaml               \n",
      "   creating: test/\n",
      "   creating: test/images/\n",
      " extracting: test/images/ck0kcoc8ik6ni0848clxs0vif_jpeg.rf.8b4629777ffe1d349cc970ee8af59eac.jpg  \n",
      " extracting: test/images/ck0kd4afx8g470701watkwxut_jpeg.rf.bb5a1f2c2b04be20c948fd3c5cec33ff.jpg  \n",
      " extracting: test/images/ck0kdhymna0b10721v4wntit8_jpeg.rf.a08e34d04fb672ce6cf8e94e810ec81d.jpg  \n",
      " extracting: test/images/ck0kepbs9kdym0848hgpcf3y9_jpeg.rf.d0a63becb54a83b6b026f4b38a42933b.jpg  \n",
      " extracting: test/images/ck0kewsaha6hh07215jgx1bp2_jpeg.rf.1a375d20560d0de016bb524921f7b2a9.jpg  \n",
      " extracting: test/images/ck0kfhu4n8q7f0701ixmonyig_jpeg.rf.a3cc5282520b3bac90718bdd5528bd76.jpg  \n",
      " extracting: test/images/ck0kfjen48qhj0701wjkosmel_jpeg.rf.49b365cc7135deee1332e6657401abc5.jpg  \n",
      " extracting: test/images/ck0khrg9xan7u0721mn5rxpzo_jpeg.rf.1f545d6c898ea9bad6147d7833f9b83f.jpg  \n",
      " extracting: test/images/ck0khu2xz94nj070165dkfirk_jpeg.rf.d511cbdb4c1162cf08d710561abef2b3.jpg  \n",
      " extracting: test/images/ck0kmf5q58yik0944gdwwrqnt_jpeg.rf.acd14651f0f7c3762be88a81ee82e1a2.jpg  \n",
      " extracting: test/images/ck0kmfd7ibcib0721v08q1jv0_jpeg.rf.8965bf83aff0df8ea94290a16227d8c9.jpg  \n",
      " extracting: test/images/ck0kmftzekfwv0a46aj0nh5dz_jpeg.rf.a9f20064706442166518aaa4f5274d5a.jpg  \n",
      " extracting: test/images/ck0kn8y5y9y3507018k5p06ma_jpeg.rf.466b2fb63a73c0138cf75b3ddc71d490.jpg  \n",
      " extracting: test/images/ck0kn966blrt008482afk6mhy_jpeg.rf.87c1a2bec2d604d4201f5a4f1c202b7c.jpg  \n",
      " extracting: test/images/ck0kosu846k350794gya7bot0_jpeg.rf.e980ecef63c864103fc6d8f4d8ed7ded.jpg  \n",
      " extracting: test/images/ck0kotq5d99760944cc8w1pib_jpeg.rf.4d35dd1389fe98aab8adac1b815a4c54.jpg  \n",
      " extracting: test/images/ck0kp6k1p6lxe0794by4thy6r_jpeg.rf.733c90fe7469837d908925254d5893a9.jpg  \n",
      " extracting: test/images/ck0l8cfmgahkk0838nbgj26un_jpeg.rf.9346ac5d03cd252adb085d4b6b798779.jpg  \n",
      " extracting: test/images/ck0l9uumy9b4i0863izsuks74_jpeg.rf.688da3ca009efc20f792d1aa922f3131.jpg  \n",
      " extracting: test/images/ck0l9wcc5cyhb07010g94nwxz_jpeg.rf.a07888dc547b1654322d69f89c99c97c.jpg  \n",
      " extracting: test/images/ck0lwjms6i2ru0701i4l78d84_jpeg.rf.c8b672bf13df0aba47c419fd470550fb.jpg  \n",
      " extracting: test/images/ck0lxa18hic880701ux5axl97_jpeg.rf.abdfc2e5ff468070ce99f220db3a15ac.jpg  \n",
      " extracting: test/images/ck0lxeugahhve09449l5anbuj_jpeg.rf.a3c5bd1746c8dd2af0169ac6acdd153d.jpg  \n",
      " extracting: test/images/ck0m1n0c1hbus0863ti6kd58t_jpeg.rf.c3bc60f4e459ac4aafcbec9e6b431358.jpg  \n",
      " extracting: test/images/ck0nd5l7girkp0848rd5cwpcq_jpeg.rf.3f8e309fbb0b728a8803d20bc601612a.jpg  \n",
      " extracting: test/images/ck0nds16a43eg08630h6n5un1_jpeg.rf.511fed6888aaa4f07f57429d24232531.jpg  \n",
      " extracting: test/images/ck0nehpd69bax0721onacbe33_jpeg.rf.02ed50fbcb97fee8681eece1df7f397d.jpg  \n",
      " extracting: test/images/ck0nepj3s015b0a88py3wvbqu_jpeg.rf.01b8d358da600d8494a1cee81cceeef8.jpg  \n",
      " extracting: test/images/ck0nfo0y4a2a00721ek5g056r_jpeg.rf.070d4dacf3babbc0c0d472c9c718cf6e.jpg  \n",
      " extracting: test/images/ck0nfsgb3a5cl0721k678jfzb_jpeg.rf.0f824c313fff7794aa4e6ff5f1c2a877.jpg  \n",
      " extracting: test/images/ck0nftcfgka7e0848a9ie2b3b_jpeg.rf.84df14e175a2c1d4dcf5c8e63cc10eae.jpg  \n",
      " extracting: test/images/ck0nftsdy5xck0838qb0yk262_jpeg.rf.ec4588c6d55556f54dbed1721c9e1c99.jpg  \n",
      " extracting: test/images/ck0oukl7vtoje0944m2ijpxlm_jpeg.rf.3e89e27cf03f8b54615254b2eccffb63.jpg  \n",
      " extracting: test/images/ck0ovkzw8secm0863zxuv11su_jpeg.rf.9a01b3c931df829098903cb86c986a6e.jpg  \n",
      " extracting: test/images/ck0ow7vs07tuz08485n4yz5si_jpeg.rf.179fc0e594223ca188a8b9cd8c4f51ba.jpg  \n",
      " extracting: test/images/ck0qbex0ljri20721b1v9gyp5_jpeg.rf.eae8792b09ab268303cf7faf5c6d9018.jpg  \n",
      " extracting: test/images/ck0qbsnz6fcn40863jl1deoe9_jpeg.rf.0c35c819492fa1861c2dac1137c9579d.jpg  \n",
      " extracting: test/images/ck0qd918zic840701hnezgpgy_jpeg.rf.30de65aa3639b8a113db71a11bc2726c.jpg  \n",
      " extracting: test/images/ck0qdgpy2ksso0721wbiaedz7_jpeg.rf.09a1a15cb63a9ec50be391f5afc5e199.jpg  \n",
      " extracting: test/images/ck0rp8yjl4f5b0838yi4z8ub1_jpeg.rf.c52a2a36149132c02b54dd563a7e8ae8.jpg  \n",
      " extracting: test/images/ck0rqdyeq4kxa08633xv2wqe1_jpeg.rf.30df6babe258cdc1d5a4e042262665e4.jpg  \n",
      " extracting: test/images/ck0rqf6p055aw0838g7rq1u9v_jpeg.rf.6d20312e29819ab26cdf6da38f885548.jpg  \n",
      " extracting: test/images/ck0rqkhjb4o7k0863lhsglv38_jpeg.rf.bead4c393b360becf1513484f1814b97.jpg  \n",
      " extracting: test/images/ck0rql046icek0a462kapdu97_jpeg.rf.61cb5eb5e971b2d2c3c9767b473834fe.jpg  \n",
      " extracting: test/images/ck0t2zodcyvqs0a46wwxb53xm_jpeg.rf.591428193ebc323cd1c39f73030dc388.jpg  \n",
      " extracting: test/images/ck0t421swni18070115tymsht_jpeg.rf.65fa44d722ea0176af1238e3de09e129.jpg  \n",
      " extracting: test/images/ck0t4z1yrkmfv0794t2oqhd3f_jpeg.rf.17653d46c3eef1fd7ca6cdd2d6ad810a.jpg  \n",
      " extracting: test/images/ck0t59c0wnw4607010uyziiam_jpeg.rf.e89b3a30a70f49c1bb6bf32df71f0e29.jpg  \n",
      " extracting: test/images/ck0t73htzoi4l0944t1g4vr7e_jpeg.rf.261287ed49bbd14aa161a46f8f233eb1.jpg  \n",
      " extracting: test/images/ck0t7cczuqxtt07212nj5eznh_jpeg.rf.1a9299c8658d89f6271dba2aeefe074d.jpg  \n",
      " extracting: test/images/ck0tszlepw02k0721zr71djfj_jpeg.rf.2c8ed6a3dc364fde6f615b9aaaadcde3.jpg  \n",
      " extracting: test/images/ck0tt2h2btoz109449lxjh5hi_jpeg.rf.82e2314a97bfb41f1a153a166726bd8a.jpg  \n",
      " extracting: test/images/ck0twbr4hwf330721j3vv8j30_jpeg.rf.9d5b13b7676972682caea0e57b46b462.jpg  \n",
      " extracting: test/images/ck0twvs9zu5t00944ltnvijnz_jpeg.rf.f16fd720d3e940c5c4243fcfe42152cc.jpg  \n",
      " extracting: test/images/ck0txg39r6n250848puinmu6k_jpeg.rf.e9d299883b83be675ea891c5cfccfd32.jpg  \n",
      " extracting: test/images/ck0txsbnlsx040838wocuy68k_jpeg.rf.c2fc10e141acf05a539ae23d0c18aca1.jpg  \n",
      " extracting: test/images/ck0txvaz6ub6h09447ux3qyyt_jpeg.rf.90dbe0e14cc5fbd2839da69287e9fb6d.jpg  \n",
      " extracting: test/images/ck0ty797gwmyd0721weeb3b90_jpeg.rf.9430b12a32c87425c3aac1afa654086a.jpg  \n",
      " extracting: test/images/ck0tyhipjwo1707211p8ov4bm_jpeg.rf.1914b7a9869e5df6d5ddcc811948c045.jpg  \n",
      " extracting: test/images/ck0tyvz1p6ssd0848z1brl0fl_jpeg.rf.636c995ea7ccc146d6cb54b7104d49b4.jpg  \n",
      " extracting: test/images/ck0tzjni6sjt50863e6a6a8fl_jpeg.rf.46d343d22cd08c90668cc0d50bc52a2d.jpg  \n",
      " extracting: test/images/ck0tzkkd8ulz70701xe5upkxe_jpeg.rf.902b7349e36e0120669f00c3cce74aeb.jpg  \n",
      " extracting: test/images/ck0tznjlaumey0701fbjp1dbu_jpeg.rf.afec6aece1269a9f92aee1aab90a75b0.jpg  \n",
      " extracting: test/images/ck0tzttgusl7o0863k0kfvcid_jpeg.rf.e7e63b78205057a6cca97e1a9f243c27.jpg  \n",
      " extracting: test/images/ck0tzwr6a6y270848xgzmj6hq_jpeg.rf.5cdce9f947c838e9948821a67a2e5cbf.jpg  \n",
      " extracting: test/images/ck0tzzys2sm6b0863k8qyy7hp_jpeg.rf.bed377d6bb1fe0d5ac11d08324055def.jpg  \n",
      " extracting: test/images/ck0u03onjuosl0701rhy18f7o_jpeg.rf.6d25fe2db3709d569fa3da46c80d05a8.jpg  \n",
      " extracting: test/images/ck0u0e1zzwydk07210xx5o9vv_jpeg.rf.608a7432b8a3f61474a7062a6057a434.jpg  \n",
      " extracting: test/images/ck0uivtpc841h0a46ydgo7566_jpeg.rf.00134176dc2985f6029cddca1bb82930.jpg  \n",
      " extracting: test/images/ck0ujfqoy85bw0a46u3lgcx88_jpeg.rf.44daac330e0425d0aaf88933bfccf2e3.jpg  \n",
      " extracting: test/images/ck0ujik07yqmk0721cwatmrh8_jpeg.rf.64cc19ddd2a40ff58073b3397ab7f466.jpg  \n",
      " extracting: test/images/ck0ujkl8y85nx0a4678ht59jh_jpeg.rf.b637ddfa23b935bf48c28df4f7d93665.jpg  \n",
      " extracting: test/images/ck0ujmglz85u10a468qt0d4fc_jpeg.rf.18d02755e8c96c330cbe6169073b14ce.jpg  \n",
      " extracting: test/images/ck0ujw76nui2g0863hz7l7uqo_jpeg.rf.f6012893d20f44f903489d57c35ca95d.jpg  \n",
      "   creating: test/labels/\n",
      " extracting: test/labels/ck0kcoc8ik6ni0848clxs0vif_jpeg.rf.8b4629777ffe1d349cc970ee8af59eac.txt  \n",
      " extracting: test/labels/ck0kd4afx8g470701watkwxut_jpeg.rf.bb5a1f2c2b04be20c948fd3c5cec33ff.txt  \n",
      " extracting: test/labels/ck0kdhymna0b10721v4wntit8_jpeg.rf.a08e34d04fb672ce6cf8e94e810ec81d.txt  \n",
      " extracting: test/labels/ck0kepbs9kdym0848hgpcf3y9_jpeg.rf.d0a63becb54a83b6b026f4b38a42933b.txt  \n",
      " extracting: test/labels/ck0kewsaha6hh07215jgx1bp2_jpeg.rf.1a375d20560d0de016bb524921f7b2a9.txt  \n",
      " extracting: test/labels/ck0kfhu4n8q7f0701ixmonyig_jpeg.rf.a3cc5282520b3bac90718bdd5528bd76.txt  \n",
      " extracting: test/labels/ck0kfjen48qhj0701wjkosmel_jpeg.rf.49b365cc7135deee1332e6657401abc5.txt  \n",
      " extracting: test/labels/ck0khrg9xan7u0721mn5rxpzo_jpeg.rf.1f545d6c898ea9bad6147d7833f9b83f.txt  \n",
      " extracting: test/labels/ck0khu2xz94nj070165dkfirk_jpeg.rf.d511cbdb4c1162cf08d710561abef2b3.txt  \n",
      " extracting: test/labels/ck0kmf5q58yik0944gdwwrqnt_jpeg.rf.acd14651f0f7c3762be88a81ee82e1a2.txt  \n",
      " extracting: test/labels/ck0kmfd7ibcib0721v08q1jv0_jpeg.rf.8965bf83aff0df8ea94290a16227d8c9.txt  \n",
      " extracting: test/labels/ck0kmftzekfwv0a46aj0nh5dz_jpeg.rf.a9f20064706442166518aaa4f5274d5a.txt  \n",
      " extracting: test/labels/ck0kn8y5y9y3507018k5p06ma_jpeg.rf.466b2fb63a73c0138cf75b3ddc71d490.txt  \n",
      " extracting: test/labels/ck0kn966blrt008482afk6mhy_jpeg.rf.87c1a2bec2d604d4201f5a4f1c202b7c.txt  \n",
      " extracting: test/labels/ck0kosu846k350794gya7bot0_jpeg.rf.e980ecef63c864103fc6d8f4d8ed7ded.txt  \n",
      " extracting: test/labels/ck0kotq5d99760944cc8w1pib_jpeg.rf.4d35dd1389fe98aab8adac1b815a4c54.txt  \n",
      " extracting: test/labels/ck0kp6k1p6lxe0794by4thy6r_jpeg.rf.733c90fe7469837d908925254d5893a9.txt  \n",
      " extracting: test/labels/ck0l8cfmgahkk0838nbgj26un_jpeg.rf.9346ac5d03cd252adb085d4b6b798779.txt  \n",
      " extracting: test/labels/ck0l9uumy9b4i0863izsuks74_jpeg.rf.688da3ca009efc20f792d1aa922f3131.txt  \n",
      " extracting: test/labels/ck0l9wcc5cyhb07010g94nwxz_jpeg.rf.a07888dc547b1654322d69f89c99c97c.txt  \n",
      " extracting: test/labels/ck0lwjms6i2ru0701i4l78d84_jpeg.rf.c8b672bf13df0aba47c419fd470550fb.txt  \n",
      " extracting: test/labels/ck0lxa18hic880701ux5axl97_jpeg.rf.abdfc2e5ff468070ce99f220db3a15ac.txt  \n",
      " extracting: test/labels/ck0lxeugahhve09449l5anbuj_jpeg.rf.a3c5bd1746c8dd2af0169ac6acdd153d.txt  \n",
      " extracting: test/labels/ck0m1n0c1hbus0863ti6kd58t_jpeg.rf.c3bc60f4e459ac4aafcbec9e6b431358.txt  \n",
      " extracting: test/labels/ck0nd5l7girkp0848rd5cwpcq_jpeg.rf.3f8e309fbb0b728a8803d20bc601612a.txt  \n",
      " extracting: test/labels/ck0nds16a43eg08630h6n5un1_jpeg.rf.511fed6888aaa4f07f57429d24232531.txt  \n",
      " extracting: test/labels/ck0nehpd69bax0721onacbe33_jpeg.rf.02ed50fbcb97fee8681eece1df7f397d.txt  \n",
      " extracting: test/labels/ck0nepj3s015b0a88py3wvbqu_jpeg.rf.01b8d358da600d8494a1cee81cceeef8.txt  \n",
      " extracting: test/labels/ck0nfo0y4a2a00721ek5g056r_jpeg.rf.070d4dacf3babbc0c0d472c9c718cf6e.txt  \n",
      " extracting: test/labels/ck0nfsgb3a5cl0721k678jfzb_jpeg.rf.0f824c313fff7794aa4e6ff5f1c2a877.txt  \n",
      " extracting: test/labels/ck0nftcfgka7e0848a9ie2b3b_jpeg.rf.84df14e175a2c1d4dcf5c8e63cc10eae.txt  \n",
      " extracting: test/labels/ck0nftsdy5xck0838qb0yk262_jpeg.rf.ec4588c6d55556f54dbed1721c9e1c99.txt  \n",
      " extracting: test/labels/ck0oukl7vtoje0944m2ijpxlm_jpeg.rf.3e89e27cf03f8b54615254b2eccffb63.txt  \n",
      " extracting: test/labels/ck0ovkzw8secm0863zxuv11su_jpeg.rf.9a01b3c931df829098903cb86c986a6e.txt  \n",
      " extracting: test/labels/ck0ow7vs07tuz08485n4yz5si_jpeg.rf.179fc0e594223ca188a8b9cd8c4f51ba.txt  \n",
      " extracting: test/labels/ck0qbex0ljri20721b1v9gyp5_jpeg.rf.eae8792b09ab268303cf7faf5c6d9018.txt  \n",
      " extracting: test/labels/ck0qbsnz6fcn40863jl1deoe9_jpeg.rf.0c35c819492fa1861c2dac1137c9579d.txt  \n",
      " extracting: test/labels/ck0qd918zic840701hnezgpgy_jpeg.rf.30de65aa3639b8a113db71a11bc2726c.txt  \n",
      " extracting: test/labels/ck0qdgpy2ksso0721wbiaedz7_jpeg.rf.09a1a15cb63a9ec50be391f5afc5e199.txt  \n",
      " extracting: test/labels/ck0rp8yjl4f5b0838yi4z8ub1_jpeg.rf.c52a2a36149132c02b54dd563a7e8ae8.txt  \n",
      " extracting: test/labels/ck0rqdyeq4kxa08633xv2wqe1_jpeg.rf.30df6babe258cdc1d5a4e042262665e4.txt  \n",
      " extracting: test/labels/ck0rqf6p055aw0838g7rq1u9v_jpeg.rf.6d20312e29819ab26cdf6da38f885548.txt  \n",
      " extracting: test/labels/ck0rqkhjb4o7k0863lhsglv38_jpeg.rf.bead4c393b360becf1513484f1814b97.txt  \n",
      " extracting: test/labels/ck0rql046icek0a462kapdu97_jpeg.rf.61cb5eb5e971b2d2c3c9767b473834fe.txt  \n",
      " extracting: test/labels/ck0t2zodcyvqs0a46wwxb53xm_jpeg.rf.591428193ebc323cd1c39f73030dc388.txt  \n",
      " extracting: test/labels/ck0t421swni18070115tymsht_jpeg.rf.65fa44d722ea0176af1238e3de09e129.txt  \n",
      " extracting: test/labels/ck0t4z1yrkmfv0794t2oqhd3f_jpeg.rf.17653d46c3eef1fd7ca6cdd2d6ad810a.txt  \n",
      " extracting: test/labels/ck0t59c0wnw4607010uyziiam_jpeg.rf.e89b3a30a70f49c1bb6bf32df71f0e29.txt  \n",
      " extracting: test/labels/ck0t73htzoi4l0944t1g4vr7e_jpeg.rf.261287ed49bbd14aa161a46f8f233eb1.txt  \n",
      " extracting: test/labels/ck0t7cczuqxtt07212nj5eznh_jpeg.rf.1a9299c8658d89f6271dba2aeefe074d.txt  \n",
      " extracting: test/labels/ck0tszlepw02k0721zr71djfj_jpeg.rf.2c8ed6a3dc364fde6f615b9aaaadcde3.txt  \n",
      " extracting: test/labels/ck0tt2h2btoz109449lxjh5hi_jpeg.rf.82e2314a97bfb41f1a153a166726bd8a.txt  \n",
      " extracting: test/labels/ck0twbr4hwf330721j3vv8j30_jpeg.rf.9d5b13b7676972682caea0e57b46b462.txt  \n",
      " extracting: test/labels/ck0twvs9zu5t00944ltnvijnz_jpeg.rf.f16fd720d3e940c5c4243fcfe42152cc.txt  \n",
      " extracting: test/labels/ck0txg39r6n250848puinmu6k_jpeg.rf.e9d299883b83be675ea891c5cfccfd32.txt  \n",
      " extracting: test/labels/ck0txsbnlsx040838wocuy68k_jpeg.rf.c2fc10e141acf05a539ae23d0c18aca1.txt  \n",
      " extracting: test/labels/ck0txvaz6ub6h09447ux3qyyt_jpeg.rf.90dbe0e14cc5fbd2839da69287e9fb6d.txt  \n",
      " extracting: test/labels/ck0ty797gwmyd0721weeb3b90_jpeg.rf.9430b12a32c87425c3aac1afa654086a.txt  \n",
      " extracting: test/labels/ck0tyhipjwo1707211p8ov4bm_jpeg.rf.1914b7a9869e5df6d5ddcc811948c045.txt  \n",
      " extracting: test/labels/ck0tyvz1p6ssd0848z1brl0fl_jpeg.rf.636c995ea7ccc146d6cb54b7104d49b4.txt  \n",
      " extracting: test/labels/ck0tzjni6sjt50863e6a6a8fl_jpeg.rf.46d343d22cd08c90668cc0d50bc52a2d.txt  \n",
      " extracting: test/labels/ck0tzkkd8ulz70701xe5upkxe_jpeg.rf.902b7349e36e0120669f00c3cce74aeb.txt  \n",
      " extracting: test/labels/ck0tznjlaumey0701fbjp1dbu_jpeg.rf.afec6aece1269a9f92aee1aab90a75b0.txt  \n",
      " extracting: test/labels/ck0tzttgusl7o0863k0kfvcid_jpeg.rf.e7e63b78205057a6cca97e1a9f243c27.txt  \n",
      " extracting: test/labels/ck0tzwr6a6y270848xgzmj6hq_jpeg.rf.5cdce9f947c838e9948821a67a2e5cbf.txt  \n",
      " extracting: test/labels/ck0tzzys2sm6b0863k8qyy7hp_jpeg.rf.bed377d6bb1fe0d5ac11d08324055def.txt  \n",
      " extracting: test/labels/ck0u03onjuosl0701rhy18f7o_jpeg.rf.6d25fe2db3709d569fa3da46c80d05a8.txt  \n",
      " extracting: test/labels/ck0u0e1zzwydk07210xx5o9vv_jpeg.rf.608a7432b8a3f61474a7062a6057a434.txt  \n",
      " extracting: test/labels/ck0uivtpc841h0a46ydgo7566_jpeg.rf.00134176dc2985f6029cddca1bb82930.txt  \n",
      " extracting: test/labels/ck0ujfqoy85bw0a46u3lgcx88_jpeg.rf.44daac330e0425d0aaf88933bfccf2e3.txt  \n",
      " extracting: test/labels/ck0ujik07yqmk0721cwatmrh8_jpeg.rf.64cc19ddd2a40ff58073b3397ab7f466.txt  \n",
      " extracting: test/labels/ck0ujkl8y85nx0a4678ht59jh_jpeg.rf.b637ddfa23b935bf48c28df4f7d93665.txt  \n",
      " extracting: test/labels/ck0ujmglz85u10a468qt0d4fc_jpeg.rf.18d02755e8c96c330cbe6169073b14ce.txt  \n",
      " extracting: test/labels/ck0ujw76nui2g0863hz7l7uqo_jpeg.rf.f6012893d20f44f903489d57c35ca95d.txt  \n",
      "   creating: train/\n",
      "   creating: train/images/\n",
      " extracting: train/images/ck0k99e6p79go0944lmxivkmv_jpeg.rf.035851b1218826a8d8e1f6cff055da7a.jpg  \n",
      " extracting: train/images/ck0k99r7bir3f0a460bctrlmy_jpeg.rf.0520c5989e9d6326d3beb346e7edc7c2.jpg  \n",
      " extracting: train/images/ck0k9dg0vjxcg0848rmqzl38w_jpeg.rf.aa2243c64fd18ad4e8c179d09c12cbfc.jpg  \n",
      " extracting: train/images/ck0k9etuqjxhh0848k6i1mw2f_jpeg.rf.65e16bd6d3135e530e8e7677b83b6481.jpg  \n",
      " extracting: train/images/ck0k9ghqt7a8l0944mcvy0jsx_jpeg.rf.5b55501a403c70b4dba61727046660b5.jpg  \n",
      " extracting: train/images/ck0k9jss09oxq0721c8pd7eds_jpeg.rf.fa5ce52e0ebc5762bee66acd5bc1aa1d.jpg  \n",
      " extracting: train/images/ck0kcaec57i7s0944jkpjyecx_jpeg.rf.0dbf4b042f0b6abc7a9f1a42a82a20dd.jpg  \n",
      " extracting: train/images/ck0kcbvwl4tja0794csyimfqu_jpeg.rf.9b8fccc32c80221a31a78bc6b8c54b39.jpg  \n",
      " extracting: train/images/ck0kcju199xgd0721ljl6cd2n_jpeg.rf.1b068071c8dfc4cf3573f0a0e217f523.jpg  \n",
      " extracting: train/images/ck0kck2czj0l10a46f6xkvofl_jpeg.rf.678c741e4261415dc135ecaf38d4581d.jpg  \n",
      " extracting: train/images/ck0kcljocj0qo0a46rzj3y211_jpeg.rf.5745457a99cce20a1ed09c59819d1d6b.jpg  \n",
      " extracting: train/images/ck0kcn7u1j0vk0a46lr8si8zl_jpeg.rf.ab05dcea54504926189eaf13d19802ec.jpg  \n",
      " extracting: train/images/ck0kcnh1p4uns0794bs53wqam_jpeg.rf.1a912c1d8dea7ad3ad9bc870fe7a62d1.jpg  \n",
      " extracting: train/images/ck0kcouioj11m0a46yjyp0zlc_jpeg.rf.5d515391615546df6369aa216c2fac53.jpg  \n",
      " extracting: train/images/ck0kcpbi29y0x0721g7dlzzcs_jpeg.rf.ece36ca553147b2de60b98934d7ac108.jpg  \n",
      " extracting: train/images/ck0kcsfho4r010863q5sjbub6_jpeg.rf.3a31a5fb805e6a96549f786bafb8906f.jpg  \n",
      " extracting: train/images/ck0kcso214r0r0863m2otgmja_jpeg.rf.b48fb357a1a6847855385883a548e024.jpg  \n",
      " extracting: train/images/ck0kcubsi4r530863gt6or3em_jpeg.rf.85b35b9cbcbe849c2b67784936eed59f.jpg  \n",
      " extracting: train/images/ck0kcurm6j1k50a464wsovbw2_jpeg.rf.489c2d0fab9adffcd45e4e8ca8f26346.jpg  \n",
      " extracting: train/images/ck0kcv9km4vc70794bkufs7xw_jpeg.rf.296a193767cce26f7120ac749a472a17.jpg  \n",
      " extracting: train/images/ck0kcy2pmj1v70a464cl53bkw_jpeg.rf.b77a5b90fda05cd6f76d1dfa1383a790.jpg  \n",
      " extracting: train/images/ck0kcz0wr67xc0838pqo5w48a_jpeg.rf.1a24e68b83db5f7902f2119b1a2fe002.jpg  \n",
      " extracting: train/images/ck0kd21cfj2810a46eicmjtng_jpeg.rf.92bda2dbaf58e1e37a1fd333b2e0b7f4.jpg  \n",
      " extracting: train/images/ck0kd70pu4w7b07946742zfpg_jpeg.rf.1d003cc575564d535e0d78de10cf2179.jpg  \n",
      " extracting: train/images/ck0kd7h8nj2m70a469e4k6x92_jpeg.rf.f645d6becaa1da2654c27198f8a2651f.jpg  \n",
      " extracting: train/images/ck0kd86qe8gf507018qw8usfe_jpeg.rf.04a3091cdb2674d667aa79b142f77db6.jpg  \n",
      " extracting: train/images/ck0kd8g4e9zka0721qprbwtsa_jpeg.rf.978e6c96079ad1f0cc58731412de2cc2.jpg  \n",
      " extracting: train/images/ck0kd8vmh68nl083835g4ngoc_jpeg.rf.c902cfa6716233a9c92df404d67030be.jpg  \n",
      " extracting: train/images/ck0kdc75e4wgn0794wltgjwdw_jpeg.rf.d6e58c1f6882247f6f923fd4918c8b97.jpg  \n",
      " extracting: train/images/ck0kdeqv8a00m0721x8avt6qe_jpeg.rf.ccb567cc23cf7f9a2ceeb4634041509a.jpg  \n",
      " extracting: train/images/ck0kdgfrn7loi0944bc5njxd7_jpeg.rf.e77b9a3d458cca0a65c750a0e39b2036.jpg  \n",
      " extracting: train/images/ck0kdgpnj8gvt0701oaod540q_jpeg.rf.bc941fefccb53c1c7067d832f2489e28.jpg  \n",
      " extracting: train/images/ck0kdh8yok8rw08486abmn3z3_jpeg.rf.685972e3f6aeb5a3ffdb843becb9e56e.jpg  \n",
      " extracting: train/images/ck0kdhizwj37t0a461n7bsvun_jpeg.rf.6d618207aa9bed9805920f9625f0c67b.jpg  \n",
      " extracting: train/images/ck0kdklhl8h7h07015yka75gg_jpeg.rf.75afbde9ce791d335ed4015d2a6f679b.jpg  \n",
      " extracting: train/images/ck0kdobka8hev07019b3gbgq6_jpeg.rf.251260d5aab5ecf4bb65f65b3190ca1b.jpg  \n",
      " extracting: train/images/ck0kdox8w69td0838i6leuzy9_jpeg.rf.333d536f32a8de44a092dd547d2f1632.jpg  \n",
      " extracting: train/images/ck0kdpfyk4t8v08633b9u5zhe_jpeg.rf.ff2afd2c799d7ce3dbf8e4588e60fda5.jpg  \n",
      " extracting: train/images/ck0kdra5c7mjh0944w97n0exh_jpeg.rf.9c74c6aa1eddac85e5e0b25cd6659bae.jpg  \n",
      " extracting: train/images/ck0kdsrnk4tm80863omawzddc_jpeg.rf.139bfa85f859e3e320650de1fec49e69.jpg  \n",
      " extracting: train/images/ck0kdvg6tj4hn0a46k06job5k_jpeg.rf.fa065ac54cfb77706875d2b1aef49e0e.jpg  \n",
      " extracting: train/images/ck0kdxyxd8iat0701jbwd0oq6_jpeg.rf.e362ca6c6b22ae89c23f0400eba85291.jpg  \n",
      " extracting: train/images/ck0ken8886dvt0838isatschp_jpeg.rf.56d26b51cd92328bb4a46f85383e8724.jpg  \n",
      " extracting: train/images/ck0kengxx4xiw0863hvii9d2r_jpeg.rf.5df40233b458e08108b47ae229a5e4c6.jpg  \n",
      " extracting: train/images/ck0keo0re4xll086378211i65_jpeg.rf.08a1bd4e2e0d1690e1a2d6f8b6986e45.jpg  \n",
      " extracting: train/images/ck0keop2ya51r072149ntr73o_jpeg.rf.1d5ea2dd88e831d44b09eca11f96969c.jpg  \n",
      " extracting: train/images/ck0kepk22a57e07215s22fyiv_jpeg.rf.ac37062f6f5732e0544d31eee82cadda.jpg  \n",
      " extracting: train/images/ck0keprw9ke1d08483vmle7ed_jpeg.rf.d74bb474ba405e41ce3e4c6528dc297c.jpg  \n",
      " extracting: train/images/ck0keq7xa4xxd0863otmigtsy_jpeg.rf.0a9ebb276957d1f41e4e01067287be3f.jpg  \n",
      " extracting: train/images/ck0keqofqkeab0848eq712ch1_jpeg.rf.70559e98cbae0bde190e097105a74ce3.jpg  \n",
      " extracting: train/images/ck0kfk23ukj1m0848e93um98b_jpeg.rf.457fd102e55b69a1ec55dd1d50b90b6b.jpg  \n",
      " extracting: train/images/ck0kfljfp7vuk09441308dug1_jpeg.rf.dc55db65a3baa4ff7ed9768c00cc81f7.jpg  \n",
      " extracting: train/images/ck0kfmg3p6jh90838qxnikor1_jpeg.rf.c940db5cb0499c51a3e30d63ebb6f584.jpg  \n",
      " extracting: train/images/ck0kfnjva6jp60838d6vqyxq2_jpeg.rf.7c607da0dfd4b5f5ca371c0906a45fe6.jpg  \n",
      " extracting: train/images/ck0khrpvr6w7p08381txzz4na_jpeg.rf.e8b802a44e4fe52b71fbab310155d3c4.jpg  \n",
      " extracting: train/images/ck0khrzkh940s0701k1i2tfe3_jpeg.rf.5859ae844258dafa1e533e73248cac64.jpg  \n",
      " extracting: train/images/ck0khsg8rangi07215h1hso72_jpeg.rf.217c82b0228f11b9b3ab269631fa5376.jpg  \n",
      " extracting: train/images/ck0kht0vs5k2r079428olg3jt_jpeg.rf.d5030fcc4a23818e5098008df0a1afb2.jpg  \n",
      " extracting: train/images/ck0khttiojrab0a46z2tgb5rd_jpeg.rf.10ff9460ea9b030c8efa9bcb310b90d7.jpg  \n",
      " extracting: train/images/ck0khubxx5khq0794ja58vgv5_jpeg.rf.5d2db56a537ce7f2d661b00d403d3cc0.jpg  \n",
      " extracting: train/images/ck0kk7o8o5vu70794mj0deixq_jpeg.rf.536fcd8063fead4cc8308ef8d59f9fc9.jpg  \n",
      " extracting: train/images/ck0kkep0vb0nz0721g3sq0a4g_jpeg.rf.dd0d3963e97103fd24b0302cba1d3b2c.jpg  \n",
      " extracting: train/images/ck0kkg0u65u3q0863z6w2psqp_jpeg.rf.80b296c2869e29872d0e01490464314e.jpg  \n",
      " extracting: train/images/ck0kkg80v5x900794hcgsb4e1_jpeg.rf.c14e4f9813670fcb8bc4bc762fb0afa8.jpg  \n",
      " extracting: train/images/ck0kkgh0ik3y20a46kzrit8v2_jpeg.rf.d67b266cfd13ae5f09666bfda12df841.jpg  \n",
      " extracting: train/images/ck0kkgwvk9hhg0701edmbvr7r_jpeg.rf.72b0cbcbdd84a2f967e4d56a8a994552.jpg  \n",
      " extracting: train/images/ck0kkizhblbln0848zygsqz0h_jpeg.rf.ea0e69b1a5fcc169eb7722c2ffb949d6.jpg  \n",
      " extracting: train/images/ck0kkjnqo5xx10794xzpyur0y_jpeg.rf.361ec46e7f260dfa9c55a465a3bb8150.jpg  \n",
      " extracting: train/images/ck0kkthj17c9g0838c3vjfndl_jpeg.rf.28218aa602fae59569067f2808f1f324.jpg  \n",
      " extracting: train/images/ck0kkv2jf8pil09448qnz1ndu_jpeg.rf.fa40e68bec965ba376f16ed65cb1347d.jpg  \n",
      " extracting: train/images/ck0kkwqeq5zxe07942ouxkr5q_jpeg.rf.89770a57522ae5b594273df49cfd2981.jpg  \n",
      " extracting: train/images/ck0kkxafs5wwc08631zxdpdyd_jpeg.rf.9e1b653ce1ab7f179d9d895cc60afadc.jpg  \n",
      " extracting: train/images/ck0kky5oy7d3s08381yd0i465_jpeg.rf.6874685b468e778c76cc2d41a289e65d.jpg  \n",
      " extracting: train/images/ck0kkywt08q2d0944abjjfi8q_jpeg.rf.4fa41d3d5059b6dede94326121edc4b3.jpg  \n",
      " extracting: train/images/ck0kkzh767dc70838hdq9sv4u_jpeg.rf.0b0271134a25ee82a6b453646c87f96b.jpg  \n",
      " extracting: train/images/ck0kkzzufk6zy0a464la26n1c_jpeg.rf.efaf28715b3f2f29a3f0da43da02a280.jpg  \n",
      " extracting: train/images/ck0kl079lk71f0a46m6yo4q9m_jpeg.rf.a327c1da1f0fa7a679d36644d715874d.jpg  \n",
      " extracting: train/images/ck0kl0ifc5xd60863hxynsup8_jpeg.rf.33d4dc037a04cd39656b00a3e78bf3d8.jpg  \n",
      " extracting: train/images/ck0kl11aa7dlt0838zoqikube_jpeg.rf.140ba9c5ddb91da4fede2608634f754d.jpg  \n",
      " extracting: train/images/ck0kl1k8d9ks80701twyaq08t_jpeg.rf.41c4a2bd886e7b4beb388fc8e04fb6f0.jpg  \n",
      " extracting: train/images/ck0kl34jm7e2s08384qcp85ih_jpeg.rf.64420adc07446599124be8b0c86d11d7.jpg  \n",
      " extracting: train/images/ck0kl3bjt5xyz0863ru5wbw27_jpeg.rf.74c0c9a18873df6308953374f38fc72e.jpg  \n",
      " extracting: train/images/ck0kl3hgk8qyh0944gjtwyh6h_jpeg.rf.85b34d8cb8d16bc37f64dded2353d2d7.jpg  \n",
      " extracting: train/images/ck0kl3wpd616z079452ea8lq2_jpeg.rf.c9ef393eca807516bb64ed1f77d1c329.jpg  \n",
      " extracting: train/images/ck0kl4d8y7e9x0838i33y0nta_jpeg.rf.d57cde80b3d701666c78b64f7bae4ddf.jpg  \n",
      " extracting: train/images/ck0kl5uir7ej708386nnh95ra_jpeg.rf.786c13aa05537a5beafde2dcaafa6c9f.jpg  \n",
      " extracting: train/images/ck0klcevilg5n0848axl4ww0k_jpeg.rf.8336b312bb4f97701a551845eb1d6223.jpg  \n",
      " extracting: train/images/ck0klds7p9myv07018b68zcsu_jpeg.rf.70111b543b1fd156a55df6337171de99.jpg  \n",
      " extracting: train/images/ck0km3uktkdxc0a46uf6e417v_jpeg.rf.b37895e0f3e5352335d9ecb08f96c27e.jpg  \n",
      " extracting: train/images/ck0km415y8wk90944mab9i4lr_jpeg.rf.4752cae94d6e0c422fc6a3246bcce661.jpg  \n",
      " extracting: train/images/ck0km4hlk63zp0863ur0owhkg_jpeg.rf.c21e125782c726a343832cbf44531e8b.jpg  \n",
      " extracting: train/images/ck0km4pkh640f086302no99ma_jpeg.rf.1ea949e058e123aaedcc9f42d190f1a6.jpg  \n",
      " extracting: train/images/ck0km5c8vke4q0a46trc774lh_jpeg.rf.54df74147f9f229967ebc00333348e30.jpg  \n",
      " extracting: train/images/ck0km5x3u9r910701d3yfjhtv_jpeg.rf.269fd83e84d226fb0d3a931ce723f2be.jpg  \n",
      " extracting: train/images/ck0kmem9m68vr07947lx0jam1_jpeg.rf.4971c28003ae470aca04fa915a129574.jpg  \n",
      " extracting: train/images/ck0kmewv08ygm0944br9j606r_jpeg.rf.7f1cf8002fff325e67bc83dd880f5b70.jpg  \n",
      " extracting: train/images/ck0kmgevm69ac0794mihosd3p_jpeg.rf.1594072fa91a653f18e22fff1cee6267.jpg  \n",
      " extracting: train/images/ck0kmh9hhkg5e0a46we9ywaxl_jpeg.rf.05a2d3d0278ae39a0a626bfd173d6b94.jpg  \n",
      " extracting: train/images/ck0kmhpz99t9w0701ftiu8jlx_jpeg.rf.99a4808a82d63b38b57fc93991730528.jpg  \n",
      " extracting: train/images/ck0kmi067lmu70848mrnfi0rc_jpeg.rf.a31f55cd786e5155b79470fb2a7faea0.jpg  \n",
      " extracting: train/images/ck0kmi7k47m0i08380dwkjuc1_jpeg.rf.4eb64423f00a96430a04ad636eb18895.jpg  \n",
      " extracting: train/images/ck0kmpmy67n4j08386u8554cs_jpeg.rf.89faad475147ff77905709359f200fb2.jpg  \n",
      " extracting: train/images/ck0kmr5ewkhpq0a46nuv73id4_jpeg.rf.eefd3b3e4bc495f0be37f429b5221ead.jpg  \n",
      " extracting: train/images/ck0kmrvn590jl0944asem2ofh_jpeg.rf.d2d17e7e7b937478c360cb889bc2dcda.jpg  \n",
      " extracting: train/images/ck0kmtk7c90w60944bjhqhm4j_jpeg.rf.7d0d231f2974389d1a30caa1e483200b.jpg  \n",
      " extracting: train/images/ck0kn591g92v60944tmg09bpa_jpeg.rf.e5899097b18526fc481119ec8f5b656c.jpg  \n",
      " extracting: train/images/ck0kn6a6093460944dnwl19so_jpeg.rf.eaa9e57f5453024b7f67474c23ce8fbd.jpg  \n",
      " extracting: train/images/ck0kn8eh393ib0944lkiizn3w_jpeg.rf.2a2ff93d00da25b7f769f204b8d67dfc.jpg  \n",
      " extracting: train/images/ck0kn9jfn6eb50794lzp777i0_jpeg.rf.2eace5fef4dbf7ba77de72c68b4aaaff.jpg  \n",
      " extracting: train/images/ck0knam319ybv0701clozevt3_jpeg.rf.01d252cb506d60495e9f965a4cf48418.jpg  \n",
      " extracting: train/images/ck0knvsi36h390794sjhcf0ri_jpeg.rf.38e187dbd800f3f50d6dd3290d370ab1.jpg  \n",
      " extracting: train/images/ck0knw1mc96cu09446iq0ugae_jpeg.rf.28c2e0ae1ad16136f73352045962d516.jpg  \n",
      " extracting: train/images/ck0koqfpl6g0x0863mmghhzwg_jpeg.rf.e4096a41d191d035f061c7e7be01d05c.jpg  \n",
      " extracting: train/images/ck0koqsqta39h0701f6xas96g_jpeg.rf.c02e070823cd4e7e32fc80985c39d789.jpg  \n",
      " extracting: train/images/ck0korwq7kq730a465vnctqhc_jpeg.rf.d31a5db033fffacd8293d649856293b9.jpg  \n",
      " extracting: train/images/ck0kosbce7vpn0838c5telfw3_jpeg.rf.9a37414f8df1d8ac3e50c0547ee9805e.jpg  \n",
      " extracting: train/images/ck0kosmizkqdq0a46xgz65fgt_jpeg.rf.0f153f3fc51f5bfcc7092ec75b52d92b.jpg  \n",
      " extracting: train/images/ck0kot81t6k5g079474qsyev2_jpeg.rf.c8ae702ba7632a54a7203ec46fef65ad.jpg  \n",
      " extracting: train/images/ck0kovirm99fg0944fdv57hd8_jpeg.rf.99290255a4d7b1b8397af118f9fa1f1b.jpg  \n",
      " extracting: train/images/ck0kow7lga3y30701f2yvt2b2_jpeg.rf.ecf01b0da90868c719b611d91b39ffaa.jpg  \n",
      " extracting: train/images/ck0l7xwvu94160794ed6vldx0_jpeg.rf.830f7a6710900b02f4c7a09e7a949c6e.jpg  \n",
      " extracting: train/images/ck0l8askp96bh0794bppil14t_jpeg.rf.d00754fce81830149f3584d6ade4e481.jpg  \n",
      " extracting: train/images/ck0l8b13joiy30848vj3d2ndb_jpeg.rf.378c69f82ef9c274a1e8eb6d835b6660.jpg  \n",
      " extracting: train/images/ck0l8bhz891hy086381o84nhd_jpeg.rf.b34dd7fedd0a245a89843faf85150ff9.jpg  \n",
      " extracting: train/images/ck0l8bqss96gu0794pchtppli_jpeg.rf.e17bf9e0a389c74071cbe09081eb69ff.jpg  \n",
      " extracting: train/images/ck0l8di4xoje408487bsrbpj9_jpeg.rf.5b4d11d296d120acdd63e1e54ccc2ace.jpg  \n",
      " extracting: train/images/ck0l8e146nb1h0a46oop6lane_jpeg.rf.3bef8e59f2111cbea0cc48015e63e698.jpg  \n",
      " extracting: train/images/ck0l939lbnftj0a46atyx4hh4_jpeg.rf.33eeef4de47224ea2043febf7b6fc3dc.jpg  \n",
      " extracting: train/images/ck0l97837c0ta0944wnryuimb_jpeg.rf.11d4e888f0875aa8b07ea67d4b3b4210.jpg  \n",
      " extracting: train/images/ck0l9d0tt981g0863dmttkl8h_jpeg.rf.cdc1449d65b480488a9804f446c402e7.jpg  \n",
      " extracting: train/images/ck0l9dfokcv7o07013t4kgamc_jpeg.rf.a96fed0753b14130e42f31fd8d68438d.jpg  \n",
      " extracting: train/images/ck0l9vmuparhg0838oe20j0bd_jpeg.rf.ef939ad40b43a4c66054c5da14275db8.jpg  \n",
      " extracting: train/images/ck0l9xgch9grx0794i0878xu3_jpeg.rf.cf1e618e34680202cdbffa88c5dde147.jpg  \n",
      " extracting: train/images/ck0l9xvyaot920848tv62nd7o_jpeg.rf.17c2d9afcd4a802758d2898de36e43dc.jpg  \n",
      " extracting: train/images/ck0l9zam2nl6c0a46g4g3m6c4_jpeg.rf.5e458c3dce687543aadd8a0f4ced2004.jpg  \n",
      " extracting: train/images/ck0lwextoec1a0863lou65q4l_jpeg.rf.617475107e06edf72f385c44eec2232f.jpg  \n",
      " extracting: train/images/ck0lwfg8yjmbz07219irceyfl_jpeg.rf.9b5a201db64bd64de373b3b6e5cd12a4.jpg  \n",
      " extracting: train/images/ck0lwg0retsfg0848hqi60tlt_jpeg.rf.3025c97e8deb2f2899cbe49461437ae6.jpg  \n",
      " extracting: train/images/ck0lwgsmatsrm0848br00vfki_jpeg.rf.324fd4d4db28e2d3e27e1ee048653fdb.jpg  \n",
      " extracting: train/images/ck0lwh1i7ed810863a8ql1pat_jpeg.rf.a985f44b16d2c79e1092dd1788f1a996.jpg  \n",
      " extracting: train/images/ck0lwirdeh6zk0944n5uj6q6i_jpeg.rf.beb382bc3df8be917ce1555d278bdc2a.jpg  \n",
      " extracting: train/images/ck0lwlv9fjpfg07217xwy7qne_jpeg.rf.1a89d41ad9addf3f1652773b1068412e.jpg  \n",
      " extracting: train/images/ck0lx3s62sysz0a46pq7rsuuw_jpeg.rf.41cc7ec49c9f3200873818a54c62ecb4.jpg  \n",
      " extracting: train/images/ck0lx4d8sg0df083816ox14r4_jpeg.rf.7a8604dc083afa6cdd0515b29af1d8de.jpg  \n",
      " extracting: train/images/ck0lx4sqkjw920721qbehquxz_jpeg.rf.e7d42763ee20d742ec143f95cbf373cf.jpg  \n",
      " extracting: train/images/ck0lx50eojwbq0721qtix2xqg_jpeg.rf.22fb33351d1489a8f6ae310f8044feb3.jpg  \n",
      " extracting: train/images/ck0lx5e5rhf4f0944ldgqzhf1_jpeg.rf.3d1684b7da6d298a3ddd6e9c51a4cbc2.jpg  \n",
      " extracting: train/images/ck0lx68q2szgt0a460zlk49kf_jpeg.rf.0f6a8471f17e56b15221fb885dd51f40.jpg  \n",
      " extracting: train/images/ck0lx7plvg1e50838ps3cuu9h_jpeg.rf.5df3f1a05e60204647ea601876ec7ac1.jpg  \n",
      " extracting: train/images/ck0lx8c34u38a08480v1hz7dz_jpeg.rf.62b4addf5b2865b979346e676db1f907.jpg  \n",
      " extracting: train/images/ck0lx9h4ejxlm07213g6pz1n5_jpeg.rf.4a30c435f5acc7f53903c9126e69da73.jpg  \n",
      " extracting: train/images/ck0lx9tk9g22n0838e6v5csum_jpeg.rf.4d09c9c7f3bd465a477a968d5e35616c.jpg  \n",
      " extracting: train/images/ck0lxcldkid0h0701q2hvnu98_jpeg.rf.e9d122974e39e352e0a7501ef768718f.jpg  \n",
      " extracting: train/images/ck0lxdhtohhdr0944vck0s787_jpeg.rf.3e2449768aa23a32f11eaad5e009f8b4.jpg  \n",
      " extracting: train/images/ck0lxekamu4wa0848z3xssbek_jpeg.rf.9dc2b9d0b5f9d423270c5cec27d575d3.jpg  \n",
      " extracting: train/images/ck0lxfa6uepfr0863exlzozuc_jpeg.rf.b31cd3b0caca370b4d2a7dfb3e9fee94.jpg  \n",
      " extracting: train/images/ck0lxgqhheq2b08638gu6tna1_jpeg.rf.a478e7551b36a9021292245c2c812166.jpg  \n",
      " extracting: train/images/ck0lxhbtdewio0794g9qrp7o9_jpeg.rf.570551b254670717f037da0e98d28863.jpg  \n",
      " extracting: train/images/ck0lxhudct3ac0a46446v80ie_jpeg.rf.e82cf40e85c95c941bb2f1e6b79fd863.jpg  \n",
      " extracting: train/images/ck0lyf2lnhyy10944t8eb842u_jpeg.rf.ce489168cc3c9f5e7df796c885a30097.jpg  \n",
      " extracting: train/images/ck0lyfhltum8h0848fs747twi_jpeg.rf.819ae8db656586c4feeb6b0da9a4eec8.jpg  \n",
      " extracting: train/images/ck0lyghgkfe8a0794h5pz92p7_jpeg.rf.8615b3d2078b8c0c37bfb2aab25e15d9.jpg  \n",
      " extracting: train/images/ck0lygt2vkh030721ufglqzq9_jpeg.rf.4b24424e16b0ad52d905945ef322ce40.jpg  \n",
      " extracting: train/images/ck0lyh3mpi04c094450wwwb9g_jpeg.rf.3a4f3cf6a9e2415a0bb50093f40212cb.jpg  \n",
      " extracting: train/images/ck0lzxfw9iyx50944qfn9yxxl_jpeg.rf.8e472728888dc25f5b0fd118abdfe15d.jpg  \n",
      " extracting: train/images/ck0lzyygqj00t0944qnwlwjf2_jpeg.rf.fbbbc2b4e6b9dd5b8242be555a897ed4.jpg  \n",
      " extracting: train/images/ck0m0ch9ugnna07940o8x989j_jpeg.rf.0101cdb46a16b3fde020710836b4af0b.jpg  \n",
      " extracting: train/images/ck0m0dejchvnj08381f1xtpqs_jpeg.rf.90bdfa908276f45cb20d30ebb225c40a.jpg  \n",
      " extracting: train/images/ck0m0f8x4hwsq0838adn9hkti_jpeg.rf.02c20dbd46efee307ec38486fc3f5da2.jpg  \n",
      " extracting: train/images/ck0m0gpkagpzy0794ulwtreu6_jpeg.rf.4bc502850e879dd40bd056961bec7f31.jpg  \n",
      " extracting: train/images/ck0m14kd9vbfd0a46f2gcpvjf_jpeg.rf.c49003cb0729e8f494413b31f42c151f.jpg  \n",
      " extracting: train/images/ck0m15edijrbs0944olo8aqra_jpeg.rf.52e8a4303ab036982c78805ec336835e.jpg  \n",
      " extracting: train/images/ck0m15mtdwdk30848aglnguy1_jpeg.rf.9fd271f87669440c9448fec8f0248336.jpg  \n",
      " extracting: train/images/ck0m1643sidi5083850vpmnkb_jpeg.rf.fbbe02a32c796d693e4d3c6f3e81a70e.jpg  \n",
      " extracting: train/images/ck0m1m206hgy907944qxlvo5i_jpeg.rf.e496ad2cbe926d62bf0963945c209928.jpg  \n",
      " extracting: train/images/ck0m1maf2vnl30a46vnjvga3r_jpeg.rf.eecd77e33b3da8be70b8d3390ace85df.jpg  \n",
      " extracting: train/images/ck0m1mrauhbpe0863qyvhhrcx_jpeg.rf.5dadeb671f3492e18f6ebcdd65285a54.jpg  \n",
      " extracting: train/images/ck0m1nvd7hi5g0794ixq4uhub_jpeg.rf.e775cb83a1957693c6e0d9d7d3f95317.jpg  \n",
      " extracting: train/images/ck0na20uvg69k0a46b7cgr9rd_jpeg.rf.b5c07e27352b2ab5b63f05e8d1aadbca.jpg  \n",
      " extracting: train/images/ck0na2cdf1uf40794qwk129rm_jpeg.rf.25bda548e55a3fd3f5158b780d168895.jpg  \n",
      " extracting: train/images/ck0na2ozl2ejz08633ausfi26_jpeg.rf.726e4ba9c48a347e68cc56479f131bf3.jpg  \n",
      " extracting: train/images/ck0na2zrshcs50848i2690yin_jpeg.rf.7a39d65d76617f693f52f6144332ea93.jpg  \n",
      " extracting: train/images/ck0na3ee97aa6072160kaqfv8_jpeg.rf.1bf6d86665234ceeb5fafb1ba804cb50.jpg  \n",
      " extracting: train/images/ck0na5s461w2n0794ifd5c5cs_jpeg.rf.fa60c06a0da1f8d35af461f44eb7b995.jpg  \n",
      " extracting: train/images/ck0na66fi7cky0721kx2rj68t_jpeg.rf.f0e6702bd324dc61cf4f31478c6b2603.jpg  \n",
      " extracting: train/images/ck0na7jmkg9gj0a46p7jofg58_jpeg.rf.023825dac5dc5fbd89bbd5d83f89a5a8.jpg  \n",
      " extracting: train/images/ck0na9q14gaaa0a46ghbnn940_jpeg.rf.2498c8c55a2484af381b64824743cf97.jpg  \n",
      " extracting: train/images/ck0nabd8whgv30848prwciv2b_jpeg.rf.460cd444851e64d108d16eeb3238199b.jpg  \n",
      " extracting: train/images/ck0nabl6wgb5q0a46x056c88j_jpeg.rf.7975be881984de1f7e172284326d5c4c.jpg  \n",
      " extracting: train/images/ck0ncji892we50794albpt7x4_jpeg.rf.9ff5e8dc64a0b04ce0a802bbd8e86f17.jpg  \n",
      " extracting: train/images/ck0ncrfj130c40794scji9fm2_jpeg.rf.e496f4b2df3e743bcb12f63182a3dbf6.jpg  \n",
      " extracting: train/images/ck0ncrvqe47qd08384wqzjlk9_jpeg.rf.65162b81b23566a46791ca9ef3018fcd.jpg  \n",
      " extracting: train/images/ck0nct2ia48au0838bivpmmn6_jpeg.rf.58f3be0857dad3341d9c78f815627923.jpg  \n",
      " extracting: train/images/ck0nctujv31lz0794ow6lj285_jpeg.rf.3f2f78a73479abe1321bc4ca31dfc497.jpg  \n",
      " extracting: train/images/ck0ncwdaxhgtf0a46wezybiq2_jpeg.rf.e1fafb3aba0497f4c834a16883672701.jpg  \n",
      " extracting: train/images/ck0ncwmnt6hyp07016zypssxs_jpeg.rf.5038ca1f5cdf93056bf4a55a345a13ca.jpg  \n",
      " extracting: train/images/ck0ncye0iiouc0848ostst7bq_jpeg.rf.be5d0f452dbe6f8a417b9dffc48b71ed.jpg  \n",
      " extracting: train/images/ck0nd98ujhlfg0a46hhco18rf_jpeg.rf.8e239f5ba8045c6acbf54234796128fd.jpg  \n",
      " extracting: train/images/ck0ndbtmr8oa50721hzgxpue8_jpeg.rf.98eed4485749aa292c11bfba07625367.jpg  \n",
      " extracting: train/images/ck0ndcirh69sn0944tmwamh75_jpeg.rf.189c54c4fb6ee1d72226e876b613b29a.jpg  \n",
      " extracting: train/images/ck0ndfo8l6ov10701vn095htn_jpeg.rf.9b84723a9e3806a07f4ba65c1ac89861.jpg  \n",
      " extracting: train/images/ck0ndgh043xns0863o9d4l0kk_jpeg.rf.ad4917ae707a577f9fef768e65029914.jpg  \n",
      " extracting: train/images/ck0ndoj9r8u8w07216trgrwuz_jpeg.rf.b43b5ab2970d7b610b7ec6ad50ae1e51.jpg  \n",
      " extracting: train/images/ck0ndugzs6hv90944q18viki9_jpeg.rf.ad8568fed3dc8b7b644c67efecbb9757.jpg  \n",
      " extracting: train/images/ck0ndwu8pj3180848zonjasmz_jpeg.rf.cf341dfba711fbaa425f7b0e8c5e456a.jpg  \n",
      " extracting: train/images/ck0ndxi6w6j5f0944tbx465xr_jpeg.rf.28d056588212efc17d54250b7f77b577.jpg  \n",
      " extracting: train/images/ck0ndxwjf3icx0794m3hlih4u_jpeg.rf.5f397085cad8af247c8a0674b9a67806.jpg  \n",
      " extracting: train/images/ck0ndy9p207ai0738n7khflbr_jpeg.rf.0e8ffba013c7dbdbca425451eaa90fd1.jpg  \n",
      " extracting: train/images/ck0nefzg24hv30863efhq3fp1_jpeg.rf.41edcde58daab549a1e3d2ac14b30449.jpg  \n",
      " extracting: train/images/ck0negpok9ao50721aw0ozvpl_jpeg.rf.a38e1ae1ffb81f88c8e7b13052a3e043.jpg  \n",
      " extracting: train/images/ck0neh5qnjfoh0848s35xyyj8_jpeg.rf.8ee77066e3ea2e00b914a2ca79353505.jpg  \n",
      " extracting: train/images/ck0nem99k9e9v0721yu2dtiqq_jpeg.rf.5a06cc52462c4dcadb3a74d3f3874cf3.jpg  \n",
      " extracting: train/images/ck0nene10jjcw08481qmhh4wj_jpeg.rf.c9871f3286e6f97e1d4d25d96df1d762.jpg  \n",
      " extracting: train/images/ck0nett9672gj0944feegfre7_jpeg.rf.867d54429e883f2896c934fd8ae99668.jpg  \n",
      " extracting: train/images/ck0nexpddii7b0a463cb74ti7_jpeg.rf.80335414ee9689f5ceb4a8a5feabd966.jpg  \n",
      " extracting: train/images/ck0nf3wev47fm0794xfr1xuhs_jpeg.rf.025a886c2323bc0eb8b24cabfc681aab.jpg  \n",
      " extracting: train/images/ck0nf4ks0js7z0848cku0h6t5_jpeg.rf.d406f9db90a5286932149187bb9ae070.jpg  \n",
      " extracting: train/images/ck0nf4rw3093h0a886by1nwca_jpeg.rf.3c169639b6d7abb01c879573821f91e6.jpg  \n",
      " extracting: train/images/ck0nf53eo78rg0944btmudhsc_jpeg.rf.7761bf0c5f266292eb35a0b1c51783eb.jpg  \n",
      " extracting: train/images/ck0nfms4c59l108632rf19agc_jpeg.rf.57b8d097c1ffb42ed602b8018753e42d.jpg  \n",
      " extracting: train/images/ck0nfnbw45srt083889319uj8_jpeg.rf.091dbaf5088a42db9bfecf39178eeebc.jpg  \n",
      " extracting: train/images/ck0nfoxrpj0xh0a46qv68gp45_jpeg.rf.2aea62f0d0ba459a9eb532369e5e529e.jpg  \n",
      " extracting: train/images/ck0nfpjig5u9z0838mgcq82oz_jpeg.rf.78af90cc8dcf3cde57438b0e2b576240.jpg  \n",
      " extracting: train/images/ck0nfrec983h90701yvzbsczw_jpeg.rf.42e7c50048de34469ef1fa90563790de.jpg  \n",
      " extracting: train/images/ck0nfuci585lm0701jw9i5zhj_jpeg.rf.780ea7d50c01236a2a9d4d03eda1d8ce.jpg  \n",
      " extracting: train/images/ck0nfxm5e5gq50863tqwxrgft_jpeg.rf.d58b0a6b0eb2a0d518d8454db06199a0.jpg  \n",
      " extracting: train/images/ck0nfz8fe60yr0838az9x331y_jpeg.rf.152d851a0f20d6f573a9f6f250204a9c.jpg  \n",
      " extracting: train/images/ck0ng3jtr5k7j08637da4685p_jpeg.rf.171ec9dcca7f2f15a6ea120b618d945f.jpg  \n",
      " extracting: train/images/ck0ng3zz98boz07013zyds00f_jpeg.rf.e40e57c921769f8371a0310f39e796d5.jpg  \n",
      " extracting: train/images/ck0ng4fa263vn083809qkbt4y_jpeg.rf.d577c7aecd3d674eac02e89ae4f5ce2f.jpg  \n",
      " extracting: train/images/ck0ng5zyb5lrz086320xihwm8_jpeg.rf.feb1d8a9088cbddc422d12bb51629620.jpg  \n",
      " extracting: train/images/ck0ngm4b3jk5e0a46nplsw4xb_jpeg.rf.a8bb6e7e544239d9fa85ac701cae37d1.jpg  \n",
      " extracting: train/images/ck0ngmfoyjka50a46cagrxpig_jpeg.rf.b56c9e63661229064c68f3360e6c3e0c.jpg  \n",
      " extracting: train/images/ck0oukbtwsjxp083897f03qo4_jpeg.rf.41ad39e5f5023959a03b1e61d93e7424.jpg  \n",
      " extracting: train/images/ck0oukw23toun0944nstsyx8g_jpeg.rf.725c1e40188ada6da183777c91520dbd.jpg  \n",
      " extracting: train/images/ck0oulkapr2bj0794zz57fbjp_jpeg.rf.ace3c245aa0f7dc06f29099284a1b1be.jpg  \n",
      " extracting: train/images/ck0oulyr8sldl0838tkv3hqk8_jpeg.rf.f3ac94ace79c957d33904e37a086349a.jpg  \n",
      " extracting: train/images/ck0oumds8r2ws0794yqsnls8v_jpeg.rf.012d2c43910a089d6fec492c2b914840.jpg  \n",
      " extracting: train/images/ck0ounp7qrrb80863c0xidr4j_jpeg.rf.fdcd05e62f85264689f32990913feadb.jpg  \n",
      " extracting: train/images/ck0ounuswsms108388flcbazi_jpeg.rf.a9f4e239c0f708a7ce7c767d7e968f61.jpg  \n",
      " extracting: train/images/ck0ovlupvx57v0721dn80vmur_jpeg.rf.20701caaa1c3c263bfba0b52914bc810.jpg  \n",
      " extracting: train/images/ck0ovtzvntedo08385kjpyx6a_jpeg.rf.e7f852447532daeefb963845a94e1f5b.jpg  \n",
      " extracting: train/images/ck0ovvrza6e0e0a46doaio091_jpeg.rf.f1700a3be120b1b80631405b50a8975d.jpg  \n",
      " extracting: train/images/ck0owo8knvext07012gernxb0_jpeg.rf.d59fd6116629a05a3c8e6b11e5465f55.jpg  \n",
      " extracting: train/images/ck0qb7h0asvnf0a46l0myka01_jpeg.rf.8ca32cb473bc329df2bbb29575c3e2d0.jpg  \n",
      " extracting: train/images/ck0qb7vltsvwp0a46e656bv6u_jpeg.rf.642b271f9f48a73deb97d24d2b471485.jpg  \n",
      " extracting: train/images/ck0qb8cz6tfnt0848glf38bpe_jpeg.rf.b27022571ef7b9a910830eeffde9bd30.jpg  \n",
      " extracting: train/images/ck0qb93azjo480721ojf86ytj_jpeg.rf.0658191ccf3ef3dc7533eca8568b60d1.jpg  \n",
      " extracting: train/images/ck0qb9do2fwc708385reizk6h_jpeg.rf.8353ce140548c4b5d4ab719c8245c229.jpg  \n",
      " extracting: train/images/ck0qb9rg6tgo40848b6pmbrod_jpeg.rf.1afb0937b46939a096fa2fffa2639d37.jpg  \n",
      " extracting: train/images/ck0qba5yvh45x0944qw0oaamw_jpeg.rf.d548f788d81a572f39907164ea6c1bba.jpg  \n",
      " extracting: train/images/ck0qbakbhjoyy0721qw4fut6n_jpeg.rf.86688323b760bc89ab6a94169de5910e.jpg  \n",
      " extracting: train/images/ck0qbaubof1z40863w0scvpra_jpeg.rf.0cf7f4324a6fecd547297a7e34fa21e9.jpg  \n",
      " extracting: train/images/ck0qbedgvf3qu08637yvo02cq_jpeg.rf.ebc6cb1fe15faeeb074bbef5df3a5ec8.jpg  \n",
      " extracting: train/images/ck0qbn4c2to820848neklprj5_jpeg.rf.edbf13d246dafcace687af99558821c9.jpg  \n",
      " extracting: train/images/ck0qbnvn6hk6w0701x0mcjvq8_jpeg.rf.dae439c3ddfdef76b1c1e360c545aac1.jpg  \n",
      " extracting: train/images/ck0qbo5snhkcv0701pwtwt35x_jpeg.rf.7dd6750b851e1f342192b20a93614c0a.jpg  \n",
      " extracting: train/images/ck0qbolrmhccn0944s970z7xn_jpeg.rf.0852866b4cc61c2dc67072fddf5b017b.jpg  \n",
      " extracting: train/images/ck0qbp5dkg5920838gygl8n4f_jpeg.rf.2b8f08f85050f64aa005b2f40b5b3684.jpg  \n",
      " extracting: train/images/ck0qbrxq0fc870863u9dy1xsl_jpeg.rf.109b574c27fa09fdc65125fc9214e872.jpg  \n",
      " extracting: train/images/ck0qbu8qqenrd0794vafe93ht_jpeg.rf.56922521101c85ef92f3a867c3081e9a.jpg  \n",
      " extracting: train/images/ck0qbwggghon207016zt7rz5a_jpeg.rf.b4942deb8997e12422a3fd6ab01ca2cd.jpg  \n",
      " extracting: train/images/ck0qc5zvxk5mi0721s96pwrwt_jpeg.rf.02fdb76282d22d4a6ab7a5b09b8cf6b9.jpg  \n",
      " extracting: train/images/ck0qc6lwsetj70794bennfrza_jpeg.rf.1dfce6db30573c065d5669ed2545479c.jpg  \n",
      " extracting: train/images/ck0qc7df7fjr30863hqmtj5i3_jpeg.rf.bb9c7f696d4c4186a11148ad463aa2f5.jpg  \n",
      " extracting: train/images/ck0qc7xskeu3r07948qg5ycne_jpeg.rf.a37fcfa48611702445cc9601afdba946.jpg  \n",
      " extracting: train/images/ck0qc8ib3k6v40721gt60o67m_jpeg.rf.e9516a96becadb93de954363e16ec5e1.jpg  \n",
      " extracting: train/images/ck0qc8qkohujb0701aq2988oa_jpeg.rf.f2a84ac565b7b243b36ae40493668d9e.jpg  \n",
      " extracting: train/images/ck0qd4sisfz1x0863riapvr9k_jpeg.rf.0d074512f215ea0855dc51c3be17779f.jpg  \n",
      " extracting: train/images/ck0qd50hwi1k10944i25e7al9_jpeg.rf.dc4e8422676e7baad2e36433c32553dd.jpg  \n",
      " extracting: train/images/ck0qd5it1i1wl0944fqp8vf9c_jpeg.rf.5f7b7bf98795a5a88fe2240e3a838059.jpg  \n",
      " extracting: train/images/ck0qd5yquiaiq07016q73qoz3_jpeg.rf.858d8803108224ec00b7d914b47b6aae.jpg  \n",
      " extracting: train/images/ck0qd6v51ib0j0701sf2wolfq_jpeg.rf.6358b8f49047b12d1f6c20668bff8a39.jpg  \n",
      " extracting: train/images/ck0qd7cyiib8f0701npyn63rc_jpeg.rf.0d08de7a03fcfca3e485ed18091f4b19.jpg  \n",
      " extracting: train/images/ck0qd7oxtgwug08385hhoh6c6_jpeg.rf.ed34a7e543981c7060fe65e63c03952f.jpg  \n",
      " extracting: train/images/ck0qd7zf9fax10794ucj3kmt5_jpeg.rf.4bdd8939122eb2279dbdf809cf9a9b39.jpg  \n",
      " extracting: train/images/ck0qd8gs6ko7j0721x25cv4o3_jpeg.rf.005f5707706e4d68702bbf8e0ce96a63.jpg  \n",
      " extracting: train/images/ck0qdf4hwkrzf0721pwn991sv_jpeg.rf.b361b52c1172c6504c67b4f19f9fc544.jpg  \n",
      " extracting: train/images/ck0rp7ech84jq0721s8wfw8tz_jpeg.rf.f49f246eef35370ed9da3d797409fa3c.jpg  \n",
      " extracting: train/images/ck0rp7n2684q30721hrzu5r15_jpeg.rf.0b0176d3f60909e544ab691e5ce7470d.jpg  \n",
      " extracting: train/images/ck0rp7ve43ul20863ldcq568m_jpeg.rf.2242e2aef5279e55b32ce34e7a154ea0.jpg  \n",
      " extracting: train/images/ck0rp8d7p858s0721qrjixerv_jpeg.rf.29ba67ef2f3092df9ebe3adf2a77e2e9.jpg  \n",
      " extracting: train/images/ck0rp95tf2vg70794wbjk2kk3_jpeg.rf.64942fab8cdbf6edab115881cc2180c3.jpg  \n",
      " extracting: train/images/ck0rp9iochje10a46pq920puz_jpeg.rf.b57dbfcab2e3f4b15b88f1895a440510.jpg  \n",
      " extracting: train/images/ck0rp9zh85rbh0944g0fanl6o_jpeg.rf.3e6d03d3e66153e3461f5a6ed25960b5.jpg  \n",
      " extracting: train/images/ck0rpaam92wcd0794b9wy12ks_jpeg.rf.ac541642eb5d4b002e19dbb0049e8273.jpg  \n",
      " extracting: train/images/ck0rpe8ja3z6m0863q1narygs_jpeg.rf.751b9497645f516d0e98cd415c7fad51.jpg  \n",
      " extracting: train/images/ck0rpemia2zhr0794cdnvuzck_jpeg.rf.ed929ea4f567b42d1bc217371c742329.jpg  \n",
      " extracting: train/images/ck0rpfqrnhnon0a46jv1r8s8w_jpeg.rf.a567ba27398a0c227fa75451bb27aa3d.jpg  \n",
      " extracting: train/images/ck0rpg5vz5vk20944kk0yhjy5_jpeg.rf.b492365ac3b96ced581dec7e1520b8b8.jpg  \n",
      " extracting: train/images/ck0rpimt3ifig0848hijlm44t_jpeg.rf.46ad991e0932f88c7b6acf6628566240.jpg  \n",
      " extracting: train/images/ck0rpixgt5x8l0944oojfpa2o_jpeg.rf.6c2183ba04dd7ec031b4d6c922aaf16c.jpg  \n",
      " extracting: train/images/ck0rpje8d32fg07940gwkympb_jpeg.rf.4f70a0ac72f6655d356cc9f414fe8eeb.jpg  \n",
      " extracting: train/images/ck0rpjxds42tv0863ke8nrsmn_jpeg.rf.3d619fc088a888f7c7cc57c98a4f6498.jpg  \n",
      " extracting: train/images/ck0rqflbw4lvd0863gyi0mzp1_jpeg.rf.69d64ebbcff31c6be13e7228d41d83d1.jpg  \n",
      " extracting: train/images/ck0rqfvfjizmt0848qs0rsd4l_jpeg.rf.5a5fcbfc5606e1668f8c201c7005090f.jpg  \n",
      " extracting: train/images/ck0rqgv1m8wok07216g2getrt_jpeg.rf.22c0ebfb67cc9ad7415929c8053d1f80.jpg  \n",
      " extracting: train/images/ck0rqkoz2587n08387o17rv73_jpeg.rf.dac0a1efdb35bccefe81abe469913116.jpg  \n",
      " extracting: train/images/ck0rqlgco58j50838724x6rym_jpeg.rf.b5b8263fb657e6a09f94583c21fc28ea.jpg  \n",
      " extracting: train/images/ck0rqph585aki0838q1hxpf6k_jpeg.rf.cf14cc4db9c987427a392c960f1c779a.jpg  \n",
      " extracting: train/images/ck0rqq0y3j4tu0848p884qvn1_jpeg.rf.654a70a2e86f0270af759b46d38ea769.jpg  \n",
      " extracting: train/images/ck0rqrdr86mhp09441c8d69w7_jpeg.rf.5d625e0924bab6f9f7d86084bff7af98.jpg  \n",
      " extracting: train/images/ck0rr05k797je0721hrz4bw9e_jpeg.rf.031b5346c52c69e28fc9345ca7b28010.jpg  \n",
      " extracting: train/images/ck0rr132a3x9r0794yhwyho26_jpeg.rf.23012d1f295110126949db4f75f9a8ea.jpg  \n",
      " extracting: train/images/ck0rr40pt71p40701fl50vzfa_jpeg.rf.6b2b4ec7e343403a173a2d8c9ec0d2c5.jpg  \n",
      " extracting: train/images/ck0rr4nj43za20794o7o3btuw_jpeg.rf.8657366d6deb4dc4f58216778b1159d6.jpg  \n",
      " extracting: train/images/ck0rr6bfa9b3w0721aw5unwdy_jpeg.rf.00982c053d66c090d55b3d775a722aff.jpg  \n",
      " extracting: train/images/ck0rr7nhf6w970944cb2nnlih_jpeg.rf.fad95509baaee973c9d5a6db10c3f314.jpg  \n",
      " extracting: train/images/ck0rrpwlvj04d0a46r4th0cjf_jpeg.rf.ae43d5efbbcc58b183c5ed045605b4c6.jpg  \n",
      " extracting: train/images/ck0t1qg3kyft90a46nddriu6k_jpeg.rf.c4b243f8509a87ad5bdb0ed3c1a4e953.jpg  \n",
      " extracting: train/images/ck0t1r1esms8s0701jmlvghkw_jpeg.rf.5acffb2bbf6c7f579d73f8ff3c85209a.jpg  \n",
      " extracting: train/images/ck0t1umd5jowc0794my89kbsj_jpeg.rf.3bec00ba14295b43ff0ca24e3582396d.jpg  \n",
      " extracting: train/images/ck0t1ywwdmqkf0944mhiw5huk_jpeg.rf.bb77413dc1cb70d1f2e52b6f003b2bd9.jpg  \n",
      " extracting: train/images/ck0t1zwemkseu08636i7fpksi_jpeg.rf.15e6c66d7c667787bfb8151a7751affb.jpg  \n",
      " extracting: train/images/ck0t20os6mrcb0944xrc0wamx_jpeg.rf.ee4ee7ff297cbc0aadd8bc31c4067d1d.jpg  \n",
      " extracting: train/images/ck0t235u3msgt0944a7jzn8hp_jpeg.rf.46fbbbd711da478f5db7e61287216aa5.jpg  \n",
      " extracting: train/images/ck0t24ndxkug60863id6f8pfc_jpeg.rf.5e489fbf3eadafbe13567c4cac0baad3.jpg  \n",
      " extracting: train/images/ck0t252udmxqz070188sd9z1u_jpeg.rf.662ccf2f0209e1cdf677221ac65da60e.jpg  \n",
      " extracting: train/images/ck0t2d3kbyou40a46a56kl6x8_jpeg.rf.3da673071f90e10d5f5161f42a8b7f85.jpg  \n",
      " extracting: train/images/ck0t2fzvhlj200838b26ckwda_jpeg.rf.1c8882654e4d82f7f030d590568a3382.jpg  \n",
      " extracting: train/images/ck0t2gf1wypnz0a4651vbm3b5_jpeg.rf.b93c64f987f4faa915f9df79de73fb86.jpg  \n",
      " extracting: train/images/ck0t2kogeyqy50a46u6e56yb9_jpeg.rf.20a8132299113e73e6263029256d5049.jpg  \n",
      " extracting: train/images/ck0t2pyk3l0ym08636r4hqnty_jpeg.rf.7ca69164d2ca64a00e9c2d1219e7d966.jpg  \n",
      " extracting: train/images/ck0t2tlmmzfds0848mvj42ujg_jpeg.rf.e9652791f14278f94e777c81d78f9857.jpg  \n",
      " extracting: train/images/ck0t2wfsipdoc07218586ezt0_jpeg.rf.4ec027210133d1a092f7cefe7f86c23a.jpg  \n",
      " extracting: train/images/ck0t2z9knn3060944ppcr9fkn_jpeg.rf.55fb31c0cd4fdfe0551c1da30f27713a.jpg  \n",
      " extracting: train/images/ck0t3htqxn88w09443dhqtzrh_jpeg.rf.51b48656089fe4ab9d7f0b0dc63d530e.jpg  \n",
      " extracting: train/images/ck0t3iu3flv0k0838lql92x5b_jpeg.rf.d9fe218889dedb1a545b98b76d43d41f.jpg  \n",
      " extracting: train/images/ck0t3kjngndaa0701i76i8q2c_jpeg.rf.7b33ab9af657e3432533388b4519bb60.jpg  \n",
      " extracting: train/images/ck0t3r291z3xb0a46a6hx1rak_jpeg.rf.f9feb1317bbf81fb69035cc286af96fe.jpg  \n",
      " extracting: train/images/ck0t3r8twkazh0794uxyta3xz_jpeg.rf.9ec29e65e34503b73401e911707d4fc1.jpg  \n",
      " extracting: train/images/ck0t3s74cnfks070126deykt2_jpeg.rf.e83ffc98b2dd129c1a6df088d5191aca.jpg  \n",
      " extracting: train/images/ck0t3zlhdz6180a46kq06kflk_jpeg.rf.695d8a1806cebba8ed79a9465c077b48.jpg  \n",
      " extracting: train/images/ck0t3zt3lnd7u0944gqvvuxtw_jpeg.rf.316a77febbcc8240fe5c521cdedbe5f0.jpg  \n",
      " extracting: train/images/ck0t40rhdz68s0a46ekx049a6_jpeg.rf.00403179fe5f0eb665e4af5845be125e.jpg  \n",
      " extracting: train/images/ck0t45urenix00701imio8cdw_jpeg.rf.a2ce10899a67ad830a33928f80299233.jpg  \n",
      " extracting: train/images/ck0t4kdl1nlyb07011sj8qjd8_jpeg.rf.0a712e797adaffd2ba69b30c0005fe83.jpg  \n",
      " extracting: train/images/ck0t4pic2zxuv0848rp6npxiw_jpeg.rf.51acc548074c7c4f16893509aaf50fa5.jpg  \n",
      " extracting: train/images/ck0t4s7ibnk170944ffcd9q57_jpeg.rf.54d950346af8537f20351059c79b91cf.jpg  \n",
      " extracting: train/images/ck0t4sh7pnk3v09447wbxifkk_jpeg.rf.d723fb8fb9b160e3b61d523345284d2a.jpg  \n",
      " extracting: train/images/ck0t50qh5zfpc0a46o2ppy49w_jpeg.rf.4260774858fd1aac08234c8601f3e984.jpg  \n",
      " extracting: train/images/ck0t5243y02ss0848d4w8z1bl_jpeg.rf.073eb5726a7f3fca2caa57b085c7b655.jpg  \n",
      " extracting: train/images/ck0t52agrlp0p0863vg9f8svy_jpeg.rf.3b90acd0b60f2a45cb879c106a4d11da.jpg  \n",
      " extracting: train/images/ck0t52natq0it07218mpku7q5_jpeg.rf.18fa7308a214c8870ca0ce19768957ba.jpg  \n",
      " extracting: train/images/ck0t58uo4nvw40701ubn1fua7_jpeg.rf.da5481cdd88087908cd2c42ad46b2658.jpg  \n",
      " extracting: train/images/ck0t592vckr6p07949h19oxce_jpeg.rf.4957f384420110763cc2a3d067da7ef2.jpg  \n",
      " extracting: train/images/ck0t5k7tonwo20944nfnbqogm_jpeg.rf.da7dd21c39b298b5d1354d7b0448c81e.jpg  \n",
      " extracting: train/images/ck0t5n2jlkxuc07940mygjo8f_jpeg.rf.743e0e7964a1983568c0323735ea9d91.jpg  \n",
      " extracting: train/images/ck0t5nqi3zqqj0a46iyhhhw7b_jpeg.rf.998b4f14452e077f192f88e3842b9501.jpg  \n",
      " extracting: train/images/ck0t5oyi1mlpd08385ihi4js3_jpeg.rf.a2dd8f265c56cd1b9ae4d1a0a2a3d30a.jpg  \n",
      " extracting: train/images/ck0t5tq5hmo8508389vjkpile_jpeg.rf.b7db6d196e09c4695d4da7fd0854a18a.jpg  \n",
      " extracting: train/images/ck0t5wu9ao70b0701rdv7c7af_jpeg.rf.cc0f00f739a08c1d6337f7f6e32ce03d.jpg  \n",
      " extracting: train/images/ck0t5xpty0hyp08488g6a7n6l_jpeg.rf.8884944ed861a984fd4fa4955e71cd48.jpg  \n",
      " extracting: train/images/ck0t6c6eg0n3m08483m1afytd_jpeg.rf.bd34ea97915de5348293b62b301df38f.jpg  \n",
      " extracting: train/images/ck0t6nixgmcop0863zbzsc32e_jpeg.rf.250078e3e4e42da9963f5edec7f25e88.jpg  \n",
      " extracting: train/images/ck0t6o7hrlbs407944kyd1i2r_jpeg.rf.1fcdad3f89301e29a312afd29b8be5fd.jpg  \n",
      " extracting: train/images/ck0t6v4mw07810a46gj9vqfvu_jpeg.rf.bb2af326ad7e053d0f41d82152936273.jpg  \n",
      " extracting: train/images/ck0t6z888oklq0701ri4jser9_jpeg.rf.d8566287c945e4bfc9a47f699bfc0fed.jpg  \n",
      " extracting: train/images/ck0t6zwah09e20a4695tura09_jpeg.rf.4f785256363fd90cb8a95a7d23e0f5a2.jpg  \n",
      " extracting: train/images/ck0t734s0mizv0863sujq0i7p_jpeg.rf.b37b89bf3712f1791e2f97c5a16aa48c.jpg  \n",
      " extracting: train/images/ck0t74gx40b5u0a46s72no2dg_jpeg.rf.57da3c38696a55082327c502be780c59.jpg  \n",
      " extracting: train/images/ck0t75ti6on9t07015p6wbjle_jpeg.rf.d4ca4e1f7adb43de81445ccbe0f71098.jpg  \n",
      " extracting: train/images/ck0t765i5mk8j0863od0a5ghy_jpeg.rf.e1c441f3237ce54181cc06b916ccf313.jpg  \n",
      " extracting: train/images/ck0t782sh0yo80848y50f5ugf_jpeg.rf.5429663116454a8c5ce5ebbfa41dbe3f.jpg  \n",
      " extracting: train/images/ck0t7czov10bf08489elv37go_jpeg.rf.17785297d266595162723c94f9bcf835.jpg  \n",
      " extracting: train/images/ck0t7hsj2on2s094444drdqs0_jpeg.rf.f52b5068fa822561ff8f0e200dc451a0.jpg  \n",
      " extracting: train/images/ck0t7iosiorq50701wgtb048m_jpeg.rf.1302b4c1947454fa5c96ee6b5377c641.jpg  \n",
      " extracting: train/images/ck0t7o8ovlpsl0794ci1p3k3a_jpeg.rf.7255338cf66d7fd15d9a75b7e87f0550.jpg  \n",
      " extracting: train/images/ck0t7s2o0ne4408387zvqn6pr_jpeg.rf.5524a3a3693d51037c48223b690362e2.jpg  \n",
      " extracting: train/images/ck0t7yaokmuhl0863v1rlsm5p_jpeg.rf.62c77619d32f766079b9e3320f8510a3.jpg  \n",
      " extracting: train/images/ck0t81ysfnhui0838yucfeszk_jpeg.rf.a0adf8c4222766877b5a807c7ac8b1cd.jpg  \n",
      " extracting: train/images/ck0tssirhrq1u0863eoicr5bp_jpeg.rf.3e1b0f61a6d074bec7c5b973a96f57e6.jpg  \n",
      " extracting: train/images/ck0tsvw19vzj90721zgwt6zcu_jpeg.rf.cf6612354723744280bb097e50446b3e.jpg  \n",
      " extracting: train/images/ck0tsw61gqm680794v186apwr_jpeg.rf.1dd2f58789da8b976d4822ffdab29b03.jpg  \n",
      " extracting: train/images/ck0tswxwqqmau0794imifdgnh_jpeg.rf.ec35749524df8e91f4398a24e9e87e55.jpg  \n",
      " extracting: train/images/ck0tsx6f1rqmc08631bs71ker_jpeg.rf.70f288faaf29ee8c354bc3f20320febe.jpg  \n",
      " extracting: train/images/ck0tsymgpsbmm0838ci72jvcf_jpeg.rf.d4d1f4ce36dfe12001ec0d35ea58dc2f.jpg  \n",
      " extracting: train/images/ck0tsyvp361ow084867dinue0_jpeg.rf.d47c7f4008f3cd76c7e1428677a676ce.jpg  \n",
      " extracting: train/images/ck0tsz3b0624008481fmfbt28_jpeg.rf.84cf8a28b2a98547fccdad89cc3cb3f2.jpg  \n",
      " extracting: train/images/ck0tszu61qmo10794stj6lmkj_jpeg.rf.74610774501419ad96bf232c9f58838e.jpg  \n",
      " extracting: train/images/ck0tt0dkysbs70838q7t3vnr9_jpeg.rf.164a535f7e60defc9ad1b4f58836ab31.jpg  \n",
      " extracting: train/images/ck0tt357asc4k0838zbkl0wrd_jpeg.rf.bbd799b63b5ccabf50da4f83c6f2434a.jpg  \n",
      " extracting: train/images/ck0tt3hm6tsh90701m4t0sq7e_jpeg.rf.bf573bb3cc96443e940c0e1b2a554dd1.jpg  \n",
      " extracting: train/images/ck0twb97n5uc20a46en2e2spb_jpeg.rf.e507096fae49dae5649e7f4e895d6f8f.jpg  \n",
      " extracting: train/images/ck0twbzbz6hga0848z3sx5lsi_jpeg.rf.9efd0db058b58c0e86f627c2ed3d328a.jpg  \n",
      " extracting: train/images/ck0twef0nu7ej0701ku08izg4_jpeg.rf.1fe4b32547d4ed034980da37cfa48a07.jpg  \n",
      " extracting: train/images/ck0twhqawsr970838xj2topr5_jpeg.rf.3f1612dab0ef612792c9866e780b52c4.jpg  \n",
      " extracting: train/images/ck0twi6d05v8f0a469q54h3iq_jpeg.rf.9e19708c84c6b0e1e696621aba134117.jpg  \n",
      " extracting: train/images/ck0twkzggsrnb0838b6na9joz_jpeg.rf.4144934d16650df3e5a346a1943793a0.jpg  \n",
      " extracting: train/images/ck0twl6pqwg6c0721ja81m52m_jpeg.rf.a8b03e4b1a1200e7ebbbec17e9a4e818.jpg  \n",
      " extracting: train/images/ck0twwuxz6k9i0848br68e8wm_jpeg.rf.e030f5f045919b341af6350a986d278b.jpg  \n",
      " extracting: train/images/ck0twzs19s8ld08632qx4gg12_jpeg.rf.17d7f2e556ae6c66c4f533fef4fe10ac.jpg  \n",
      " extracting: train/images/ck0tx10f0r4n40794pbbiu6iw_jpeg.rf.e2375405bbe7a5a307420051f164add7.jpg  \n",
      " extracting: train/images/ck0tx2twm5xya0a46rieclafo_jpeg.rf.6cb4bd5df71d1c5c2e0aedf48114f10c.jpg  \n",
      " extracting: train/images/ck0tx3bpm5y140a46ul6hlru8_jpeg.rf.5e4ca9c6161cc1cc916b43759c5651e3.jpg  \n",
      " extracting: train/images/ck0tx3rohwiml0721wn578q0e_jpeg.rf.c23153704db212f6fb1d673ef173b0f1.jpg  \n",
      " extracting: train/images/ck0tx7k0tr5rz0794r2twuz1o_jpeg.rf.67068839164b779c940323e5dc947e50.jpg  \n",
      " extracting: train/images/ck0tx9epawjk50721w6282v2c_jpeg.rf.adc7853dfe39ef993eeba0ed3292186a.jpg  \n",
      " extracting: train/images/ck0txdhj9wk390721me7hmajn_jpeg.rf.0b9072848081252656285ddaab966c7a.jpg  \n",
      " extracting: train/images/ck0txfme8sat90863ybrk8lzv_jpeg.rf.929ceb5b917912aa2761d897e28cf56c.jpg  \n",
      " extracting: train/images/ck0txgdlcsvs8083883yrxqar_jpeg.rf.b9cfd13cbd0644961135ac43731fe225.jpg  \n",
      " extracting: train/images/ck0txgnxxud4y0701d5z7lpx7_jpeg.rf.7c53c82d64933f2062ad37195fb14522.jpg  \n",
      " extracting: train/images/ck0txmpuosbkk0863coq4p42u_jpeg.rf.a752cde3b9f280f5aead544deb94aed0.jpg  \n",
      " extracting: train/images/ck0txn3y1uaec0944bo6m4q6c_jpeg.rf.f46ac4d6b598065a331421706191b669.jpg  \n",
      " extracting: train/images/ck0txo8iyue140701jnymorwf_jpeg.rf.3d9a2e443551de47ba1b2a88280d408a.jpg  \n",
      " extracting: train/images/ck0txp6s8ue5b0701zx9qjwwe_jpeg.rf.d99829abfdfcd1ac783cbf63afb2e141.jpg  \n",
      " extracting: train/images/ck0txrkyx611l0a46u3b4n8bb_jpeg.rf.aa1ad8376fd26661f3771abccbd1d143.jpg  \n",
      " extracting: train/images/ck0txs402uehd070195c9mfko_jpeg.rf.b47277846338d037c30f92e0213833d5.jpg  \n",
      " extracting: train/images/ck0txsj116ojr0848emet52dc_jpeg.rf.3b78709ffaa76d0042f6560a02eb3373.jpg  \n",
      " extracting: train/images/ck0txus39scfk0863py0w15qb_jpeg.rf.9576388a3db2bcfad7af2402710fae96.jpg  \n",
      " extracting: train/images/ck0txvj9m6otr0848fayj9tte_jpeg.rf.3c297c7d21cbe8563aba079db5bffc65.jpg  \n",
      " extracting: train/images/ck0txw47261iz0a46k76oyfzj_jpeg.rf.af3dfd2ec9adef7cd9c7e57e79ff8598.jpg  \n",
      " extracting: train/images/ck0txwcn1scmo0863p2fmcq09_jpeg.rf.5b5bf0ad74e7e8e33bce805420176d39.jpg  \n",
      " extracting: train/images/ck0txwk8k6owz0848gejqchq8_jpeg.rf.d431e6a3cf29ca3c97bda4035c2e26fa.jpg  \n",
      " extracting: train/images/ck0txx0ddscoq0863bm1ntw9g_jpeg.rf.d4a3a846ce3b75ac6df3f0290adc7ef8.jpg  \n",
      " extracting: train/images/ck0ty5rb66pry08483lgrlmhz_jpeg.rf.421725f5dafec43a5de105843c9def78.jpg  \n",
      " extracting: train/images/ck0ty7yegwn140721h5wixp2h_jpeg.rf.24f23d741874697a2aebd86b8968c470.jpg  \n",
      " extracting: train/images/ck0ty9cx4r9qk0794foscpnun_jpeg.rf.465ff93707dc7996d3cd3b7576117150.jpg  \n",
      " extracting: train/images/ck0tya1tfr9sz0794w5roonwp_jpeg.rf.0db0a4a0a57c433e550c669676380d58.jpg  \n",
      " extracting: train/images/ck0tyaitfuchg0944iz87630d_jpeg.rf.998c6176beeff89d6257ca171307b473.jpg  \n",
      " extracting: train/images/ck0tyexsuugj1070158ffdyyt_jpeg.rf.2e9d7c24d0366304aae6f03fdbbf349a.jpg  \n",
      " extracting: train/images/ck0tyfppk6qqc0848u6xtpzgx_jpeg.rf.288099a51913c76a030ce91555ac3929.jpg  \n",
      " extracting: train/images/ck0tyjzuxsewd0863g6vu5zec_jpeg.rf.1267d7caad633514f05f20a5279f9582.jpg  \n",
      " extracting: train/images/ck0tylooksf3f0863s6tbwxhx_jpeg.rf.8f4a749954974bc5e10dc29869c4cbdf.jpg  \n",
      " extracting: train/images/ck0tyq31o6ryb08488lus3geb_jpeg.rf.952ddb3f74c7e559d41ce47c20e0e9db.jpg  \n",
      " extracting: train/images/ck0tyt1orui7t0701sxkqcrnt_jpeg.rf.c36812de3c09ed71c03a3f269c2223b2.jpg  \n",
      " extracting: train/images/ck0tyt8nmui9l0701fr3lsu7s_jpeg.rf.1ad8f25014d4b35f799598a10661b7cb.jpg  \n",
      " extracting: train/images/ck0tyucu3uekj0944f3usafki_jpeg.rf.ad394d6c48fd8c0906ce0ac8f4568298.jpg  \n",
      " extracting: train/images/ck0tywg9ruew50944r0qom5i0_jpeg.rf.045581ac714cf654e0725d1f8e192ccb.jpg  \n",
      " extracting: train/images/ck0tyx4x7t16i0838grtlspkh_jpeg.rf.e1d9c642a95a536ae63fdbf498815c0d.jpg  \n",
      " extracting: train/images/ck0tyxvkx6t1d0848kk4vfkrb_jpeg.rf.a38ddfd3863bcaad9a265c57a56f02ef.jpg  \n",
      " extracting: train/images/ck0tyzb4kwq9407210i0lbk6v_jpeg.rf.10b0732365f4a35069e26031ae48603d.jpg  \n",
      " extracting: train/images/ck0tz2vh7wqqw0721qe4odmlu_jpeg.rf.8e9a88e1a568ff4f100cf57a219250d5.jpg  \n",
      " extracting: train/images/ck0tz35vrt1xh08382lzzsg2v_jpeg.rf.fbfc29bec37e3eae4805a0cc7f74ff80.jpg  \n",
      " extracting: train/images/ck0tz3qdjt20v0838pjjz36dn_jpeg.rf.d78b31fccbc803886b4037c800f2c5e7.jpg  \n",
      " extracting: train/images/ck0tz4dsmshgh08637pfl2z1c_jpeg.rf.b03bf3d9ee3f53a5e8ee298181290d1c.jpg  \n",
      " extracting: train/images/ck0tz4vu9wr2707210cs2d85i_jpeg.rf.0d07d523ff8a7385975c0546e3ed3013.jpg  \n",
      " extracting: train/images/ck0tz7lcnugfi0944xj04x69y_jpeg.rf.ae59697a3961edc473319ea1edf1566f.jpg  \n",
      " extracting: train/images/ck0tzh0mmsjb70863m9jdqypg_jpeg.rf.6b4347c866f9e0768115f0ce603f0b3b.jpg  \n",
      " extracting: train/images/ck0tzmo81wtq50721yer41mgt_jpeg.rf.afb4e1c9346de07f87219b9f5acf477a.jpg  \n",
      " extracting: train/images/ck0tzncx5rg970794klhrot7p_jpeg.rf.507c2a4d85d04020575e470af370337e.jpg  \n",
      " extracting: train/images/ck0tzox41umlv0701crxo159j_jpeg.rf.e8dbba80529101120c53cdbf682d6b3b.jpg  \n",
      " extracting: train/images/ck0tzp3rvummy07010t4dolzz_jpeg.rf.c714652d0c504a149b83071ca4b8bd13.jpg  \n",
      " extracting: train/images/ck0tzphn3t5by0838ge18vkq7_jpeg.rf.f15891396160c6c83e3b052fd5d235f2.jpg  \n",
      " extracting: train/images/ck0tzpp8dskmt0863jjiyujwl_jpeg.rf.8774dae60a89c1a7230a85abb2acb4a6.jpg  \n",
      " extracting: train/images/ck0tzpygswuae0721bhuvjofj_jpeg.rf.9be0b873779f91d86f8a0b713a67f134.jpg  \n",
      " extracting: train/images/ck0tzqdzqwucd07218blh12ir_jpeg.rf.7b142d2dda7d0e123d58679c4b321445.jpg  \n",
      " extracting: train/images/ck0tzu01r69vw0a464th4yn43_jpeg.rf.b3629ef5809d61bee0fa0208337eff76.jpg  \n",
      " extracting: train/images/ck0tzuao2wuuv0721d9vb3uvm_jpeg.rf.b22278e5e19f63a0a95634c876aeb3b1.jpg  \n",
      " extracting: train/images/ck0tzvykb6xxf0848pysx89eg_jpeg.rf.542cb9bc1eee62aa5eb4b4ac3e13a648.jpg  \n",
      " extracting: train/images/ck0tzw6en6xyw0848myghrsxc_jpeg.rf.a757a5641f161d4d3072d0f41e4afd3a.jpg  \n",
      " extracting: train/images/ck0tzxdcpslr10863f9172aju_jpeg.rf.1f702dd0c1a3d5ec2838bc92374f3222.jpg  \n",
      " extracting: train/images/ck0tzza3ut6ra0838aef1ubfa_jpeg.rf.d8738fff54d7ecf5e5d281969b2c4795.jpg  \n",
      " extracting: train/images/ck0u00h8m6yow0848u1pohlak_jpeg.rf.faa14c3337ceadc7f78c40379226f78f.jpg  \n",
      " extracting: train/images/ck0u01dbyuoe30701p6pfzb0q_jpeg.rf.dc34aba657747af88bf1eec63f19ea6b.jpg  \n",
      " extracting: train/images/ck0u02mwv6bah0a467209caub_jpeg.rf.4946e8ee4a4af8ff2dddd94c59d3d2ef.jpg  \n",
      " extracting: train/images/ck0u07w91ulq009446ol1bta4_jpeg.rf.05a02ac3bf9a27f86cc6c315a72ff6c7.jpg  \n",
      " extracting: train/images/ck0u095lit8ti08381w4noa0x_jpeg.rf.bd10a2fd9541e77cad818da589290152.jpg  \n",
      " extracting: train/images/ck0u0dcgdwy9r072177202gnd_jpeg.rf.ed8b6721555e8d9aba61dce9a162f6df.jpg  \n",
      " extracting: train/images/ck0u0dtzbt9mu08385juqmknt_jpeg.rf.07952a8adcc6bcd57f02407bb25c93cd.jpg  \n",
      " extracting: train/images/ck0u0gs1d71m70848obwsy04a_jpeg.rf.9d2a66f2846a0e53d523face7aa0ac1c.jpg  \n",
      " extracting: train/images/ck0u0hkwqurd207012dbpgjhf_jpeg.rf.147659f5c8eb1bc7d72e6038a08886ac.jpg  \n",
      " extracting: train/images/ck0u0i88bunv00944unevdbqg_jpeg.rf.d20e47a3a4c4cec68381d5f113f985d8.jpg  \n",
      " extracting: train/images/ck0u0ihp7sq1z086335c6h592_jpeg.rf.60d64a3d41a4fa422f94a17d8294b296.jpg  \n",
      " extracting: train/images/ck0u0iymarljc079432rld6ur_jpeg.rf.049e444971d411f2bc15d14189f8ebc9.jpg  \n",
      " extracting: train/images/ck0u0jzlqsqbn0863uii3azjh_jpeg.rf.fbdb4c44be18f3c2fa695b1b6b670b16.jpg  \n",
      " extracting: train/images/ck0u0l462sqjj0863jgtyd84b_jpeg.rf.c4ce1970c78664d09fd0e89d04c6b869.jpg  \n",
      " extracting: train/images/ck0u0muhduoik0944fwbze43u_jpeg.rf.74bd00e3d0c2bb38628bd3d60bc56572.jpg  \n",
      " extracting: train/images/ck0u0nf3ftb7n083861jt62o2_jpeg.rf.cd876ad735a6b63314285acf94d9b387.jpg  \n",
      " extracting: train/images/ck0u0obru6f6u0a46axncdx9n_jpeg.rf.a1d7c0c1b0cd06e7f8ba492cdfee2cf2.jpg  \n",
      " extracting: train/images/ck0u0y7byrnvd0794vpqdexro_jpeg.rf.513b6ca1d70a6023bc57e0040b811bb3.jpg  \n",
      " extracting: train/images/ck0u0zahz74ln0848lonhk1xg_jpeg.rf.7cb0fa04dc9b397b8ff07e625eb2aefa.jpg  \n",
      " extracting: train/images/ck0u0znmjuuay0701hyc6trun_jpeg.rf.57c4424df242fccdb67494c4d2bc22b7.jpg  \n",
      " extracting: train/images/ck0u101es74sl08484y0z9pb6_jpeg.rf.caf350c36e933cf2c1a1059225801aaa.jpg  \n",
      " extracting: train/images/ck0u10zeh74ym0848ow29lc1l_jpeg.rf.8de8ba24b1b198759056a236d93a7cbe.jpg  \n",
      " extracting: train/images/ck0u13g18uv1x070166k2ew3t_jpeg.rf.9105a3ace2fbeb2dfa3d74117355464c.jpg  \n",
      " extracting: train/images/ck0u13mbhte0v0838nxz2zdkf_jpeg.rf.ea7ac3c4de6eb11b8eb611eb4607088c.jpg  \n",
      " extracting: train/images/ck0u14y7arp5c0794llhscme5_jpeg.rf.b9a8d990ee70e43ff692e1ad75c6df7d.jpg  \n",
      " extracting: train/images/ck0u155em6hy90a46mm9izvjz_jpeg.rf.0307a95d00420a74d0682b038bcb13f5.jpg  \n",
      " extracting: train/images/ck0u15ceurp8s079478ps17by_jpeg.rf.01cba46fbff586f903728080476df7d9.jpg  \n",
      " extracting: train/images/ck0u97a47vo2h0944rwxehqpl_jpeg.rf.89ceb69362b56d99b46492fbb5397c2d.jpg  \n",
      " extracting: train/images/ck0u98ba1xzpe0721rgjjjun5_jpeg.rf.c8cc83fd4689caf4aff86fee001b8a16.jpg  \n",
      " extracting: train/images/ck0u98uysslwa0794bmd4n7fd_jpeg.rf.664b134d0c3a1562477a9687c044c745.jpg  \n",
      " extracting: train/images/ck0u9dw5dsmcv07947ss72195_jpeg.rf.1e895018c6b1b258086e70c22f9d37b4.jpg  \n",
      " extracting: train/images/ck0u9e8u77f9y0a46i2qc7hje_jpeg.rf.a3d2e2112949e6b909551dd3f33dddfd.jpg  \n",
      " extracting: train/images/ck0ug2o6ku8b708632bp2y2zn_jpeg.rf.42ce49a52b1b8f3c1cec74019dede23a.jpg  \n",
      " extracting: train/images/ck0ug2zaqt3zf0794joucwcgf_jpeg.rf.19cb77fe0f8cf5b9648d2056f4a5fbba.jpg  \n",
      " extracting: train/images/ck0ug3gjz7wk00a46ikj346zv_jpeg.rf.c965066b7e947133c6e047b4b977aa9e.jpg  \n",
      " extracting: train/images/ck0ug3zlfw61d09445i888ftl_jpeg.rf.24816998199d65c37ac73ca9a297dc81.jpg  \n",
      " extracting: train/images/ck0uj9sgjyq2b0721813otzrx_jpeg.rf.46cdc9351db024ad70108beebd5bc4f9.jpg  \n",
      " extracting: train/images/ck0ujb0z98s2k08487aup4zlv_jpeg.rf.f7782299c142e682f20fa934e9f8d5ce.jpg  \n",
      " extracting: train/images/ck0ujirqowixt07012814w3ox_jpeg.rf.af7d2c5ce6bcfedb6ffd891231b412c8.jpg  \n",
      " extracting: train/images/ck0ujle3ouhd20863udrln8yl_jpeg.rf.7fc4afb2782e4051e67f7107b0005f26.jpg  \n",
      " extracting: train/images/ck0ujo3wrv2130838pn66pvj4_jpeg.rf.ace164faea7387c83c08a68c7b37d736.jpg  \n",
      " extracting: train/images/ck0ujoiltwezp0944u48gk6wn_jpeg.rf.ff498f4094583e78e66034d107ad0285.jpg  \n",
      " extracting: train/images/ck0ujvtjvyrjx0721f1bk9yvy_jpeg.rf.7ced4af432a3d02214f5c6ed5159ba7f.jpg  \n",
      " extracting: train/images/ck0ujwlr98tkt0848fudx9cb3_jpeg.rf.a06824e458bc658304e03c577aa85c16.jpg  \n",
      " extracting: train/images/ck0ujxg4qyroe0721yt57ymqa_jpeg.rf.0c16dbb547f7c6d169dbb0234e411afd.jpg  \n",
      " extracting: train/images/ck0ujy91ete1p0794u8tbqbox_jpeg.rf.26e3ae02741d31dc087d31af9286950f.jpg  \n",
      " extracting: train/images/ck0ujzue9uicd08638rcyl1ro_jpeg.rf.5a0992ce884d2cfd32964002e7599489.jpg  \n",
      " extracting: train/images/ck0uk2i9z86xl0a46gizlif59_jpeg.rf.8729e25833976180a9f3b2a7511789e8.jpg  \n",
      " extracting: train/images/ck0uk4wf8875i0a46hztpqvip_jpeg.rf.7a25fd32be8f8e700adb8bfadb0061d1.jpg  \n",
      " extracting: train/images/ck0uk5cl3877p0a468qm2bfay_jpeg.rf.05f4f2a5f4efa69243aac572e05e5216.jpg  \n",
      " extracting: train/images/ck0uk5rawysf20721e35n6nk5_jpeg.rf.60dd824179a3b989558f39a245d746d6.jpg  \n",
      " extracting: train/images/ck0uk75x5ysls0721e5a9j891_jpeg.rf.00d7fd8503e1e0e6a66294f3db79b346.jpg  \n",
      " extracting: train/images/ck0ukgesfwh7f0944smkfpncd_jpeg.rf.796bc7793dcf63a411bbb692fc734dc5.jpg  \n",
      " extracting: train/images/ck0ukglh8v4be0838snyl10yu_jpeg.rf.d1be73932e5973c718b1635e2181b31f.jpg  \n",
      " extracting: train/images/ck0ukhfkfv4f10838ulu89xc8_jpeg.rf.1f875dfb8db3493d5d910236a5343bd0.jpg  \n",
      " extracting: train/images/ck0ukhrm7wh9z0944dld49omk_jpeg.rf.e34dffbbe4bdc445193672cf547bb600.jpg  \n",
      " extracting: train/images/ck0ukig53tfv30794pt4u6ude_jpeg.rf.2ecc68215cab4d68d0a22b78b0327018.jpg  \n",
      " extracting: train/images/ck0ukjmceuk3t0863k4o3i8g4_jpeg.rf.37d48b6e7770d656a7fdfbf311aa50c4.jpg  \n",
      " extracting: train/images/ck0ukjupkwhfa0944r6gu3mh8_jpeg.rf.1d0b41b95001867438a9867fda448ddb.jpg  \n",
      " extracting: train/images/ck0ukk30lwlt9070113ad7m2j_jpeg.rf.b11eceafee595fed74046181725c1d95.jpg  \n",
      " extracting: train/images/ck0ukkr2f8vml0848uyh1iw50_jpeg.rf.22c704f3f83a1947293534fb1cda1482.jpg  \n",
      " extracting: train/images/ck0ukkz8tytsn0721y70sud46_jpeg.rf.18cbd5352f166266b09e38e04afa7394.jpg  \n",
      " extracting: train/images/ck0uklx72wly70701px5wl6fw_jpeg.rf.cb1683418c777e1d072763d02d84465b.jpg  \n",
      "   creating: train/labels/\n",
      " extracting: train/labels/ck0k99e6p79go0944lmxivkmv_jpeg.rf.035851b1218826a8d8e1f6cff055da7a.txt  \n",
      " extracting: train/labels/ck0k99r7bir3f0a460bctrlmy_jpeg.rf.0520c5989e9d6326d3beb346e7edc7c2.txt  \n",
      " extracting: train/labels/ck0k9dg0vjxcg0848rmqzl38w_jpeg.rf.aa2243c64fd18ad4e8c179d09c12cbfc.txt  \n",
      " extracting: train/labels/ck0k9etuqjxhh0848k6i1mw2f_jpeg.rf.65e16bd6d3135e530e8e7677b83b6481.txt  \n",
      " extracting: train/labels/ck0k9ghqt7a8l0944mcvy0jsx_jpeg.rf.5b55501a403c70b4dba61727046660b5.txt  \n",
      " extracting: train/labels/ck0k9jss09oxq0721c8pd7eds_jpeg.rf.fa5ce52e0ebc5762bee66acd5bc1aa1d.txt  \n",
      " extracting: train/labels/ck0kcaec57i7s0944jkpjyecx_jpeg.rf.0dbf4b042f0b6abc7a9f1a42a82a20dd.txt  \n",
      " extracting: train/labels/ck0kcbvwl4tja0794csyimfqu_jpeg.rf.9b8fccc32c80221a31a78bc6b8c54b39.txt  \n",
      " extracting: train/labels/ck0kcju199xgd0721ljl6cd2n_jpeg.rf.1b068071c8dfc4cf3573f0a0e217f523.txt  \n",
      " extracting: train/labels/ck0kck2czj0l10a46f6xkvofl_jpeg.rf.678c741e4261415dc135ecaf38d4581d.txt  \n",
      " extracting: train/labels/ck0kcljocj0qo0a46rzj3y211_jpeg.rf.5745457a99cce20a1ed09c59819d1d6b.txt  \n",
      " extracting: train/labels/ck0kcn7u1j0vk0a46lr8si8zl_jpeg.rf.ab05dcea54504926189eaf13d19802ec.txt  \n",
      " extracting: train/labels/ck0kcnh1p4uns0794bs53wqam_jpeg.rf.1a912c1d8dea7ad3ad9bc870fe7a62d1.txt  \n",
      " extracting: train/labels/ck0kcouioj11m0a46yjyp0zlc_jpeg.rf.5d515391615546df6369aa216c2fac53.txt  \n",
      " extracting: train/labels/ck0kcpbi29y0x0721g7dlzzcs_jpeg.rf.ece36ca553147b2de60b98934d7ac108.txt  \n",
      " extracting: train/labels/ck0kcsfho4r010863q5sjbub6_jpeg.rf.3a31a5fb805e6a96549f786bafb8906f.txt  \n",
      " extracting: train/labels/ck0kcso214r0r0863m2otgmja_jpeg.rf.b48fb357a1a6847855385883a548e024.txt  \n",
      " extracting: train/labels/ck0kcubsi4r530863gt6or3em_jpeg.rf.85b35b9cbcbe849c2b67784936eed59f.txt  \n",
      " extracting: train/labels/ck0kcurm6j1k50a464wsovbw2_jpeg.rf.489c2d0fab9adffcd45e4e8ca8f26346.txt  \n",
      " extracting: train/labels/ck0kcv9km4vc70794bkufs7xw_jpeg.rf.296a193767cce26f7120ac749a472a17.txt  \n",
      " extracting: train/labels/ck0kcy2pmj1v70a464cl53bkw_jpeg.rf.b77a5b90fda05cd6f76d1dfa1383a790.txt  \n",
      " extracting: train/labels/ck0kcz0wr67xc0838pqo5w48a_jpeg.rf.1a24e68b83db5f7902f2119b1a2fe002.txt  \n",
      " extracting: train/labels/ck0kd21cfj2810a46eicmjtng_jpeg.rf.92bda2dbaf58e1e37a1fd333b2e0b7f4.txt  \n",
      " extracting: train/labels/ck0kd70pu4w7b07946742zfpg_jpeg.rf.1d003cc575564d535e0d78de10cf2179.txt  \n",
      " extracting: train/labels/ck0kd7h8nj2m70a469e4k6x92_jpeg.rf.f645d6becaa1da2654c27198f8a2651f.txt  \n",
      " extracting: train/labels/ck0kd86qe8gf507018qw8usfe_jpeg.rf.04a3091cdb2674d667aa79b142f77db6.txt  \n",
      " extracting: train/labels/ck0kd8g4e9zka0721qprbwtsa_jpeg.rf.978e6c96079ad1f0cc58731412de2cc2.txt  \n",
      " extracting: train/labels/ck0kd8vmh68nl083835g4ngoc_jpeg.rf.c902cfa6716233a9c92df404d67030be.txt  \n",
      " extracting: train/labels/ck0kdc75e4wgn0794wltgjwdw_jpeg.rf.d6e58c1f6882247f6f923fd4918c8b97.txt  \n",
      " extracting: train/labels/ck0kdeqv8a00m0721x8avt6qe_jpeg.rf.ccb567cc23cf7f9a2ceeb4634041509a.txt  \n",
      " extracting: train/labels/ck0kdgfrn7loi0944bc5njxd7_jpeg.rf.e77b9a3d458cca0a65c750a0e39b2036.txt  \n",
      " extracting: train/labels/ck0kdgpnj8gvt0701oaod540q_jpeg.rf.bc941fefccb53c1c7067d832f2489e28.txt  \n",
      " extracting: train/labels/ck0kdh8yok8rw08486abmn3z3_jpeg.rf.685972e3f6aeb5a3ffdb843becb9e56e.txt  \n",
      " extracting: train/labels/ck0kdhizwj37t0a461n7bsvun_jpeg.rf.6d618207aa9bed9805920f9625f0c67b.txt  \n",
      " extracting: train/labels/ck0kdklhl8h7h07015yka75gg_jpeg.rf.75afbde9ce791d335ed4015d2a6f679b.txt  \n",
      " extracting: train/labels/ck0kdobka8hev07019b3gbgq6_jpeg.rf.251260d5aab5ecf4bb65f65b3190ca1b.txt  \n",
      " extracting: train/labels/ck0kdox8w69td0838i6leuzy9_jpeg.rf.333d536f32a8de44a092dd547d2f1632.txt  \n",
      " extracting: train/labels/ck0kdpfyk4t8v08633b9u5zhe_jpeg.rf.ff2afd2c799d7ce3dbf8e4588e60fda5.txt  \n",
      " extracting: train/labels/ck0kdra5c7mjh0944w97n0exh_jpeg.rf.9c74c6aa1eddac85e5e0b25cd6659bae.txt  \n",
      " extracting: train/labels/ck0kdsrnk4tm80863omawzddc_jpeg.rf.139bfa85f859e3e320650de1fec49e69.txt  \n",
      " extracting: train/labels/ck0kdvg6tj4hn0a46k06job5k_jpeg.rf.fa065ac54cfb77706875d2b1aef49e0e.txt  \n",
      " extracting: train/labels/ck0kdxyxd8iat0701jbwd0oq6_jpeg.rf.e362ca6c6b22ae89c23f0400eba85291.txt  \n",
      " extracting: train/labels/ck0ken8886dvt0838isatschp_jpeg.rf.56d26b51cd92328bb4a46f85383e8724.txt  \n",
      " extracting: train/labels/ck0kengxx4xiw0863hvii9d2r_jpeg.rf.5df40233b458e08108b47ae229a5e4c6.txt  \n",
      " extracting: train/labels/ck0keo0re4xll086378211i65_jpeg.rf.08a1bd4e2e0d1690e1a2d6f8b6986e45.txt  \n",
      " extracting: train/labels/ck0keop2ya51r072149ntr73o_jpeg.rf.1d5ea2dd88e831d44b09eca11f96969c.txt  \n",
      " extracting: train/labels/ck0kepk22a57e07215s22fyiv_jpeg.rf.ac37062f6f5732e0544d31eee82cadda.txt  \n",
      " extracting: train/labels/ck0keprw9ke1d08483vmle7ed_jpeg.rf.d74bb474ba405e41ce3e4c6528dc297c.txt  \n",
      " extracting: train/labels/ck0keq7xa4xxd0863otmigtsy_jpeg.rf.0a9ebb276957d1f41e4e01067287be3f.txt  \n",
      " extracting: train/labels/ck0keqofqkeab0848eq712ch1_jpeg.rf.70559e98cbae0bde190e097105a74ce3.txt  \n",
      " extracting: train/labels/ck0kfk23ukj1m0848e93um98b_jpeg.rf.457fd102e55b69a1ec55dd1d50b90b6b.txt  \n",
      " extracting: train/labels/ck0kfljfp7vuk09441308dug1_jpeg.rf.dc55db65a3baa4ff7ed9768c00cc81f7.txt  \n",
      " extracting: train/labels/ck0kfmg3p6jh90838qxnikor1_jpeg.rf.c940db5cb0499c51a3e30d63ebb6f584.txt  \n",
      " extracting: train/labels/ck0kfnjva6jp60838d6vqyxq2_jpeg.rf.7c607da0dfd4b5f5ca371c0906a45fe6.txt  \n",
      " extracting: train/labels/ck0khrpvr6w7p08381txzz4na_jpeg.rf.e8b802a44e4fe52b71fbab310155d3c4.txt  \n",
      " extracting: train/labels/ck0khrzkh940s0701k1i2tfe3_jpeg.rf.5859ae844258dafa1e533e73248cac64.txt  \n",
      " extracting: train/labels/ck0khsg8rangi07215h1hso72_jpeg.rf.217c82b0228f11b9b3ab269631fa5376.txt  \n",
      " extracting: train/labels/ck0kht0vs5k2r079428olg3jt_jpeg.rf.d5030fcc4a23818e5098008df0a1afb2.txt  \n",
      " extracting: train/labels/ck0khttiojrab0a46z2tgb5rd_jpeg.rf.10ff9460ea9b030c8efa9bcb310b90d7.txt  \n",
      " extracting: train/labels/ck0khubxx5khq0794ja58vgv5_jpeg.rf.5d2db56a537ce7f2d661b00d403d3cc0.txt  \n",
      " extracting: train/labels/ck0kk7o8o5vu70794mj0deixq_jpeg.rf.536fcd8063fead4cc8308ef8d59f9fc9.txt  \n",
      " extracting: train/labels/ck0kkep0vb0nz0721g3sq0a4g_jpeg.rf.dd0d3963e97103fd24b0302cba1d3b2c.txt  \n",
      " extracting: train/labels/ck0kkg0u65u3q0863z6w2psqp_jpeg.rf.80b296c2869e29872d0e01490464314e.txt  \n",
      " extracting: train/labels/ck0kkg80v5x900794hcgsb4e1_jpeg.rf.c14e4f9813670fcb8bc4bc762fb0afa8.txt  \n",
      " extracting: train/labels/ck0kkgh0ik3y20a46kzrit8v2_jpeg.rf.d67b266cfd13ae5f09666bfda12df841.txt  \n",
      " extracting: train/labels/ck0kkgwvk9hhg0701edmbvr7r_jpeg.rf.72b0cbcbdd84a2f967e4d56a8a994552.txt  \n",
      " extracting: train/labels/ck0kkizhblbln0848zygsqz0h_jpeg.rf.ea0e69b1a5fcc169eb7722c2ffb949d6.txt  \n",
      " extracting: train/labels/ck0kkjnqo5xx10794xzpyur0y_jpeg.rf.361ec46e7f260dfa9c55a465a3bb8150.txt  \n",
      " extracting: train/labels/ck0kkthj17c9g0838c3vjfndl_jpeg.rf.28218aa602fae59569067f2808f1f324.txt  \n",
      " extracting: train/labels/ck0kkv2jf8pil09448qnz1ndu_jpeg.rf.fa40e68bec965ba376f16ed65cb1347d.txt  \n",
      " extracting: train/labels/ck0kkwqeq5zxe07942ouxkr5q_jpeg.rf.89770a57522ae5b594273df49cfd2981.txt  \n",
      " extracting: train/labels/ck0kkxafs5wwc08631zxdpdyd_jpeg.rf.9e1b653ce1ab7f179d9d895cc60afadc.txt  \n",
      " extracting: train/labels/ck0kky5oy7d3s08381yd0i465_jpeg.rf.6874685b468e778c76cc2d41a289e65d.txt  \n",
      " extracting: train/labels/ck0kkywt08q2d0944abjjfi8q_jpeg.rf.4fa41d3d5059b6dede94326121edc4b3.txt  \n",
      " extracting: train/labels/ck0kkzh767dc70838hdq9sv4u_jpeg.rf.0b0271134a25ee82a6b453646c87f96b.txt  \n",
      " extracting: train/labels/ck0kkzzufk6zy0a464la26n1c_jpeg.rf.efaf28715b3f2f29a3f0da43da02a280.txt  \n",
      " extracting: train/labels/ck0kl079lk71f0a46m6yo4q9m_jpeg.rf.a327c1da1f0fa7a679d36644d715874d.txt  \n",
      " extracting: train/labels/ck0kl0ifc5xd60863hxynsup8_jpeg.rf.33d4dc037a04cd39656b00a3e78bf3d8.txt  \n",
      " extracting: train/labels/ck0kl11aa7dlt0838zoqikube_jpeg.rf.140ba9c5ddb91da4fede2608634f754d.txt  \n",
      " extracting: train/labels/ck0kl1k8d9ks80701twyaq08t_jpeg.rf.41c4a2bd886e7b4beb388fc8e04fb6f0.txt  \n",
      " extracting: train/labels/ck0kl34jm7e2s08384qcp85ih_jpeg.rf.64420adc07446599124be8b0c86d11d7.txt  \n",
      " extracting: train/labels/ck0kl3bjt5xyz0863ru5wbw27_jpeg.rf.74c0c9a18873df6308953374f38fc72e.txt  \n",
      " extracting: train/labels/ck0kl3hgk8qyh0944gjtwyh6h_jpeg.rf.85b34d8cb8d16bc37f64dded2353d2d7.txt  \n",
      " extracting: train/labels/ck0kl3wpd616z079452ea8lq2_jpeg.rf.c9ef393eca807516bb64ed1f77d1c329.txt  \n",
      " extracting: train/labels/ck0kl4d8y7e9x0838i33y0nta_jpeg.rf.d57cde80b3d701666c78b64f7bae4ddf.txt  \n",
      " extracting: train/labels/ck0kl5uir7ej708386nnh95ra_jpeg.rf.786c13aa05537a5beafde2dcaafa6c9f.txt  \n",
      " extracting: train/labels/ck0klcevilg5n0848axl4ww0k_jpeg.rf.8336b312bb4f97701a551845eb1d6223.txt  \n",
      " extracting: train/labels/ck0klds7p9myv07018b68zcsu_jpeg.rf.70111b543b1fd156a55df6337171de99.txt  \n",
      " extracting: train/labels/ck0km3uktkdxc0a46uf6e417v_jpeg.rf.b37895e0f3e5352335d9ecb08f96c27e.txt  \n",
      " extracting: train/labels/ck0km415y8wk90944mab9i4lr_jpeg.rf.4752cae94d6e0c422fc6a3246bcce661.txt  \n",
      " extracting: train/labels/ck0km4hlk63zp0863ur0owhkg_jpeg.rf.c21e125782c726a343832cbf44531e8b.txt  \n",
      " extracting: train/labels/ck0km4pkh640f086302no99ma_jpeg.rf.1ea949e058e123aaedcc9f42d190f1a6.txt  \n",
      " extracting: train/labels/ck0km5c8vke4q0a46trc774lh_jpeg.rf.54df74147f9f229967ebc00333348e30.txt  \n",
      " extracting: train/labels/ck0km5x3u9r910701d3yfjhtv_jpeg.rf.269fd83e84d226fb0d3a931ce723f2be.txt  \n",
      " extracting: train/labels/ck0kmem9m68vr07947lx0jam1_jpeg.rf.4971c28003ae470aca04fa915a129574.txt  \n",
      " extracting: train/labels/ck0kmewv08ygm0944br9j606r_jpeg.rf.7f1cf8002fff325e67bc83dd880f5b70.txt  \n",
      " extracting: train/labels/ck0kmgevm69ac0794mihosd3p_jpeg.rf.1594072fa91a653f18e22fff1cee6267.txt  \n",
      " extracting: train/labels/ck0kmh9hhkg5e0a46we9ywaxl_jpeg.rf.05a2d3d0278ae39a0a626bfd173d6b94.txt  \n",
      " extracting: train/labels/ck0kmhpz99t9w0701ftiu8jlx_jpeg.rf.99a4808a82d63b38b57fc93991730528.txt  \n",
      " extracting: train/labels/ck0kmi067lmu70848mrnfi0rc_jpeg.rf.a31f55cd786e5155b79470fb2a7faea0.txt  \n",
      " extracting: train/labels/ck0kmi7k47m0i08380dwkjuc1_jpeg.rf.4eb64423f00a96430a04ad636eb18895.txt  \n",
      " extracting: train/labels/ck0kmpmy67n4j08386u8554cs_jpeg.rf.89faad475147ff77905709359f200fb2.txt  \n",
      " extracting: train/labels/ck0kmr5ewkhpq0a46nuv73id4_jpeg.rf.eefd3b3e4bc495f0be37f429b5221ead.txt  \n",
      " extracting: train/labels/ck0kmrvn590jl0944asem2ofh_jpeg.rf.d2d17e7e7b937478c360cb889bc2dcda.txt  \n",
      " extracting: train/labels/ck0kmtk7c90w60944bjhqhm4j_jpeg.rf.7d0d231f2974389d1a30caa1e483200b.txt  \n",
      " extracting: train/labels/ck0kn591g92v60944tmg09bpa_jpeg.rf.e5899097b18526fc481119ec8f5b656c.txt  \n",
      " extracting: train/labels/ck0kn6a6093460944dnwl19so_jpeg.rf.eaa9e57f5453024b7f67474c23ce8fbd.txt  \n",
      " extracting: train/labels/ck0kn8eh393ib0944lkiizn3w_jpeg.rf.2a2ff93d00da25b7f769f204b8d67dfc.txt  \n",
      " extracting: train/labels/ck0kn9jfn6eb50794lzp777i0_jpeg.rf.2eace5fef4dbf7ba77de72c68b4aaaff.txt  \n",
      " extracting: train/labels/ck0knam319ybv0701clozevt3_jpeg.rf.01d252cb506d60495e9f965a4cf48418.txt  \n",
      " extracting: train/labels/ck0knvsi36h390794sjhcf0ri_jpeg.rf.38e187dbd800f3f50d6dd3290d370ab1.txt  \n",
      " extracting: train/labels/ck0knw1mc96cu09446iq0ugae_jpeg.rf.28c2e0ae1ad16136f73352045962d516.txt  \n",
      " extracting: train/labels/ck0koqfpl6g0x0863mmghhzwg_jpeg.rf.e4096a41d191d035f061c7e7be01d05c.txt  \n",
      " extracting: train/labels/ck0koqsqta39h0701f6xas96g_jpeg.rf.c02e070823cd4e7e32fc80985c39d789.txt  \n",
      " extracting: train/labels/ck0korwq7kq730a465vnctqhc_jpeg.rf.d31a5db033fffacd8293d649856293b9.txt  \n",
      " extracting: train/labels/ck0kosbce7vpn0838c5telfw3_jpeg.rf.9a37414f8df1d8ac3e50c0547ee9805e.txt  \n",
      " extracting: train/labels/ck0kosmizkqdq0a46xgz65fgt_jpeg.rf.0f153f3fc51f5bfcc7092ec75b52d92b.txt  \n",
      " extracting: train/labels/ck0kot81t6k5g079474qsyev2_jpeg.rf.c8ae702ba7632a54a7203ec46fef65ad.txt  \n",
      " extracting: train/labels/ck0kovirm99fg0944fdv57hd8_jpeg.rf.99290255a4d7b1b8397af118f9fa1f1b.txt  \n",
      " extracting: train/labels/ck0kow7lga3y30701f2yvt2b2_jpeg.rf.ecf01b0da90868c719b611d91b39ffaa.txt  \n",
      " extracting: train/labels/ck0l7xwvu94160794ed6vldx0_jpeg.rf.830f7a6710900b02f4c7a09e7a949c6e.txt  \n",
      " extracting: train/labels/ck0l8askp96bh0794bppil14t_jpeg.rf.d00754fce81830149f3584d6ade4e481.txt  \n",
      " extracting: train/labels/ck0l8b13joiy30848vj3d2ndb_jpeg.rf.378c69f82ef9c274a1e8eb6d835b6660.txt  \n",
      " extracting: train/labels/ck0l8bhz891hy086381o84nhd_jpeg.rf.b34dd7fedd0a245a89843faf85150ff9.txt  \n",
      " extracting: train/labels/ck0l8bqss96gu0794pchtppli_jpeg.rf.e17bf9e0a389c74071cbe09081eb69ff.txt  \n",
      " extracting: train/labels/ck0l8di4xoje408487bsrbpj9_jpeg.rf.5b4d11d296d120acdd63e1e54ccc2ace.txt  \n",
      " extracting: train/labels/ck0l8e146nb1h0a46oop6lane_jpeg.rf.3bef8e59f2111cbea0cc48015e63e698.txt  \n",
      " extracting: train/labels/ck0l939lbnftj0a46atyx4hh4_jpeg.rf.33eeef4de47224ea2043febf7b6fc3dc.txt  \n",
      " extracting: train/labels/ck0l97837c0ta0944wnryuimb_jpeg.rf.11d4e888f0875aa8b07ea67d4b3b4210.txt  \n",
      " extracting: train/labels/ck0l9d0tt981g0863dmttkl8h_jpeg.rf.cdc1449d65b480488a9804f446c402e7.txt  \n",
      " extracting: train/labels/ck0l9dfokcv7o07013t4kgamc_jpeg.rf.a96fed0753b14130e42f31fd8d68438d.txt  \n",
      " extracting: train/labels/ck0l9vmuparhg0838oe20j0bd_jpeg.rf.ef939ad40b43a4c66054c5da14275db8.txt  \n",
      " extracting: train/labels/ck0l9xgch9grx0794i0878xu3_jpeg.rf.cf1e618e34680202cdbffa88c5dde147.txt  \n",
      " extracting: train/labels/ck0l9xvyaot920848tv62nd7o_jpeg.rf.17c2d9afcd4a802758d2898de36e43dc.txt  \n",
      " extracting: train/labels/ck0l9zam2nl6c0a46g4g3m6c4_jpeg.rf.5e458c3dce687543aadd8a0f4ced2004.txt  \n",
      " extracting: train/labels/ck0lwextoec1a0863lou65q4l_jpeg.rf.617475107e06edf72f385c44eec2232f.txt  \n",
      " extracting: train/labels/ck0lwfg8yjmbz07219irceyfl_jpeg.rf.9b5a201db64bd64de373b3b6e5cd12a4.txt  \n",
      " extracting: train/labels/ck0lwg0retsfg0848hqi60tlt_jpeg.rf.3025c97e8deb2f2899cbe49461437ae6.txt  \n",
      " extracting: train/labels/ck0lwgsmatsrm0848br00vfki_jpeg.rf.324fd4d4db28e2d3e27e1ee048653fdb.txt  \n",
      " extracting: train/labels/ck0lwh1i7ed810863a8ql1pat_jpeg.rf.a985f44b16d2c79e1092dd1788f1a996.txt  \n",
      " extracting: train/labels/ck0lwirdeh6zk0944n5uj6q6i_jpeg.rf.beb382bc3df8be917ce1555d278bdc2a.txt  \n",
      " extracting: train/labels/ck0lwlv9fjpfg07217xwy7qne_jpeg.rf.1a89d41ad9addf3f1652773b1068412e.txt  \n",
      " extracting: train/labels/ck0lx3s62sysz0a46pq7rsuuw_jpeg.rf.41cc7ec49c9f3200873818a54c62ecb4.txt  \n",
      " extracting: train/labels/ck0lx4d8sg0df083816ox14r4_jpeg.rf.7a8604dc083afa6cdd0515b29af1d8de.txt  \n",
      " extracting: train/labels/ck0lx4sqkjw920721qbehquxz_jpeg.rf.e7d42763ee20d742ec143f95cbf373cf.txt  \n",
      " extracting: train/labels/ck0lx50eojwbq0721qtix2xqg_jpeg.rf.22fb33351d1489a8f6ae310f8044feb3.txt  \n",
      " extracting: train/labels/ck0lx5e5rhf4f0944ldgqzhf1_jpeg.rf.3d1684b7da6d298a3ddd6e9c51a4cbc2.txt  \n",
      " extracting: train/labels/ck0lx68q2szgt0a460zlk49kf_jpeg.rf.0f6a8471f17e56b15221fb885dd51f40.txt  \n",
      " extracting: train/labels/ck0lx7plvg1e50838ps3cuu9h_jpeg.rf.5df3f1a05e60204647ea601876ec7ac1.txt  \n",
      " extracting: train/labels/ck0lx8c34u38a08480v1hz7dz_jpeg.rf.62b4addf5b2865b979346e676db1f907.txt  \n",
      " extracting: train/labels/ck0lx9h4ejxlm07213g6pz1n5_jpeg.rf.4a30c435f5acc7f53903c9126e69da73.txt  \n",
      " extracting: train/labels/ck0lx9tk9g22n0838e6v5csum_jpeg.rf.4d09c9c7f3bd465a477a968d5e35616c.txt  \n",
      " extracting: train/labels/ck0lxcldkid0h0701q2hvnu98_jpeg.rf.e9d122974e39e352e0a7501ef768718f.txt  \n",
      " extracting: train/labels/ck0lxdhtohhdr0944vck0s787_jpeg.rf.3e2449768aa23a32f11eaad5e009f8b4.txt  \n",
      " extracting: train/labels/ck0lxekamu4wa0848z3xssbek_jpeg.rf.9dc2b9d0b5f9d423270c5cec27d575d3.txt  \n",
      " extracting: train/labels/ck0lxfa6uepfr0863exlzozuc_jpeg.rf.b31cd3b0caca370b4d2a7dfb3e9fee94.txt  \n",
      " extracting: train/labels/ck0lxgqhheq2b08638gu6tna1_jpeg.rf.a478e7551b36a9021292245c2c812166.txt  \n",
      " extracting: train/labels/ck0lxhbtdewio0794g9qrp7o9_jpeg.rf.570551b254670717f037da0e98d28863.txt  \n",
      " extracting: train/labels/ck0lxhudct3ac0a46446v80ie_jpeg.rf.e82cf40e85c95c941bb2f1e6b79fd863.txt  \n",
      " extracting: train/labels/ck0lyf2lnhyy10944t8eb842u_jpeg.rf.ce489168cc3c9f5e7df796c885a30097.txt  \n",
      " extracting: train/labels/ck0lyfhltum8h0848fs747twi_jpeg.rf.819ae8db656586c4feeb6b0da9a4eec8.txt  \n",
      " extracting: train/labels/ck0lyghgkfe8a0794h5pz92p7_jpeg.rf.8615b3d2078b8c0c37bfb2aab25e15d9.txt  \n",
      " extracting: train/labels/ck0lygt2vkh030721ufglqzq9_jpeg.rf.4b24424e16b0ad52d905945ef322ce40.txt  \n",
      " extracting: train/labels/ck0lyh3mpi04c094450wwwb9g_jpeg.rf.3a4f3cf6a9e2415a0bb50093f40212cb.txt  \n",
      " extracting: train/labels/ck0lzxfw9iyx50944qfn9yxxl_jpeg.rf.8e472728888dc25f5b0fd118abdfe15d.txt  \n",
      " extracting: train/labels/ck0lzyygqj00t0944qnwlwjf2_jpeg.rf.fbbbc2b4e6b9dd5b8242be555a897ed4.txt  \n",
      " extracting: train/labels/ck0m0ch9ugnna07940o8x989j_jpeg.rf.0101cdb46a16b3fde020710836b4af0b.txt  \n",
      " extracting: train/labels/ck0m0dejchvnj08381f1xtpqs_jpeg.rf.90bdfa908276f45cb20d30ebb225c40a.txt  \n",
      " extracting: train/labels/ck0m0f8x4hwsq0838adn9hkti_jpeg.rf.02c20dbd46efee307ec38486fc3f5da2.txt  \n",
      " extracting: train/labels/ck0m0gpkagpzy0794ulwtreu6_jpeg.rf.4bc502850e879dd40bd056961bec7f31.txt  \n",
      " extracting: train/labels/ck0m14kd9vbfd0a46f2gcpvjf_jpeg.rf.c49003cb0729e8f494413b31f42c151f.txt  \n",
      " extracting: train/labels/ck0m15edijrbs0944olo8aqra_jpeg.rf.52e8a4303ab036982c78805ec336835e.txt  \n",
      " extracting: train/labels/ck0m15mtdwdk30848aglnguy1_jpeg.rf.9fd271f87669440c9448fec8f0248336.txt  \n",
      " extracting: train/labels/ck0m1643sidi5083850vpmnkb_jpeg.rf.fbbe02a32c796d693e4d3c6f3e81a70e.txt  \n",
      " extracting: train/labels/ck0m1m206hgy907944qxlvo5i_jpeg.rf.e496ad2cbe926d62bf0963945c209928.txt  \n",
      " extracting: train/labels/ck0m1maf2vnl30a46vnjvga3r_jpeg.rf.eecd77e33b3da8be70b8d3390ace85df.txt  \n",
      " extracting: train/labels/ck0m1mrauhbpe0863qyvhhrcx_jpeg.rf.5dadeb671f3492e18f6ebcdd65285a54.txt  \n",
      " extracting: train/labels/ck0m1nvd7hi5g0794ixq4uhub_jpeg.rf.e775cb83a1957693c6e0d9d7d3f95317.txt  \n",
      " extracting: train/labels/ck0na20uvg69k0a46b7cgr9rd_jpeg.rf.b5c07e27352b2ab5b63f05e8d1aadbca.txt  \n",
      " extracting: train/labels/ck0na2cdf1uf40794qwk129rm_jpeg.rf.25bda548e55a3fd3f5158b780d168895.txt  \n",
      " extracting: train/labels/ck0na2ozl2ejz08633ausfi26_jpeg.rf.726e4ba9c48a347e68cc56479f131bf3.txt  \n",
      " extracting: train/labels/ck0na2zrshcs50848i2690yin_jpeg.rf.7a39d65d76617f693f52f6144332ea93.txt  \n",
      " extracting: train/labels/ck0na3ee97aa6072160kaqfv8_jpeg.rf.1bf6d86665234ceeb5fafb1ba804cb50.txt  \n",
      " extracting: train/labels/ck0na5s461w2n0794ifd5c5cs_jpeg.rf.fa60c06a0da1f8d35af461f44eb7b995.txt  \n",
      " extracting: train/labels/ck0na66fi7cky0721kx2rj68t_jpeg.rf.f0e6702bd324dc61cf4f31478c6b2603.txt  \n",
      " extracting: train/labels/ck0na7jmkg9gj0a46p7jofg58_jpeg.rf.023825dac5dc5fbd89bbd5d83f89a5a8.txt  \n",
      " extracting: train/labels/ck0na9q14gaaa0a46ghbnn940_jpeg.rf.2498c8c55a2484af381b64824743cf97.txt  \n",
      " extracting: train/labels/ck0nabd8whgv30848prwciv2b_jpeg.rf.460cd444851e64d108d16eeb3238199b.txt  \n",
      " extracting: train/labels/ck0nabl6wgb5q0a46x056c88j_jpeg.rf.7975be881984de1f7e172284326d5c4c.txt  \n",
      " extracting: train/labels/ck0ncji892we50794albpt7x4_jpeg.rf.9ff5e8dc64a0b04ce0a802bbd8e86f17.txt  \n",
      " extracting: train/labels/ck0ncrfj130c40794scji9fm2_jpeg.rf.e496f4b2df3e743bcb12f63182a3dbf6.txt  \n",
      " extracting: train/labels/ck0ncrvqe47qd08384wqzjlk9_jpeg.rf.65162b81b23566a46791ca9ef3018fcd.txt  \n",
      " extracting: train/labels/ck0nct2ia48au0838bivpmmn6_jpeg.rf.58f3be0857dad3341d9c78f815627923.txt  \n",
      " extracting: train/labels/ck0nctujv31lz0794ow6lj285_jpeg.rf.3f2f78a73479abe1321bc4ca31dfc497.txt  \n",
      " extracting: train/labels/ck0ncwdaxhgtf0a46wezybiq2_jpeg.rf.e1fafb3aba0497f4c834a16883672701.txt  \n",
      " extracting: train/labels/ck0ncwmnt6hyp07016zypssxs_jpeg.rf.5038ca1f5cdf93056bf4a55a345a13ca.txt  \n",
      " extracting: train/labels/ck0ncye0iiouc0848ostst7bq_jpeg.rf.be5d0f452dbe6f8a417b9dffc48b71ed.txt  \n",
      " extracting: train/labels/ck0nd98ujhlfg0a46hhco18rf_jpeg.rf.8e239f5ba8045c6acbf54234796128fd.txt  \n",
      " extracting: train/labels/ck0ndbtmr8oa50721hzgxpue8_jpeg.rf.98eed4485749aa292c11bfba07625367.txt  \n",
      " extracting: train/labels/ck0ndcirh69sn0944tmwamh75_jpeg.rf.189c54c4fb6ee1d72226e876b613b29a.txt  \n",
      " extracting: train/labels/ck0ndfo8l6ov10701vn095htn_jpeg.rf.9b84723a9e3806a07f4ba65c1ac89861.txt  \n",
      " extracting: train/labels/ck0ndgh043xns0863o9d4l0kk_jpeg.rf.ad4917ae707a577f9fef768e65029914.txt  \n",
      " extracting: train/labels/ck0ndoj9r8u8w07216trgrwuz_jpeg.rf.b43b5ab2970d7b610b7ec6ad50ae1e51.txt  \n",
      " extracting: train/labels/ck0ndugzs6hv90944q18viki9_jpeg.rf.ad8568fed3dc8b7b644c67efecbb9757.txt  \n",
      " extracting: train/labels/ck0ndwu8pj3180848zonjasmz_jpeg.rf.cf341dfba711fbaa425f7b0e8c5e456a.txt  \n",
      " extracting: train/labels/ck0ndxi6w6j5f0944tbx465xr_jpeg.rf.28d056588212efc17d54250b7f77b577.txt  \n",
      " extracting: train/labels/ck0ndxwjf3icx0794m3hlih4u_jpeg.rf.5f397085cad8af247c8a0674b9a67806.txt  \n",
      " extracting: train/labels/ck0ndy9p207ai0738n7khflbr_jpeg.rf.0e8ffba013c7dbdbca425451eaa90fd1.txt  \n",
      " extracting: train/labels/ck0nefzg24hv30863efhq3fp1_jpeg.rf.41edcde58daab549a1e3d2ac14b30449.txt  \n",
      " extracting: train/labels/ck0negpok9ao50721aw0ozvpl_jpeg.rf.a38e1ae1ffb81f88c8e7b13052a3e043.txt  \n",
      " extracting: train/labels/ck0neh5qnjfoh0848s35xyyj8_jpeg.rf.8ee77066e3ea2e00b914a2ca79353505.txt  \n",
      " extracting: train/labels/ck0nem99k9e9v0721yu2dtiqq_jpeg.rf.5a06cc52462c4dcadb3a74d3f3874cf3.txt  \n",
      " extracting: train/labels/ck0nene10jjcw08481qmhh4wj_jpeg.rf.c9871f3286e6f97e1d4d25d96df1d762.txt  \n",
      " extracting: train/labels/ck0nett9672gj0944feegfre7_jpeg.rf.867d54429e883f2896c934fd8ae99668.txt  \n",
      " extracting: train/labels/ck0nexpddii7b0a463cb74ti7_jpeg.rf.80335414ee9689f5ceb4a8a5feabd966.txt  \n",
      " extracting: train/labels/ck0nf3wev47fm0794xfr1xuhs_jpeg.rf.025a886c2323bc0eb8b24cabfc681aab.txt  \n",
      " extracting: train/labels/ck0nf4ks0js7z0848cku0h6t5_jpeg.rf.d406f9db90a5286932149187bb9ae070.txt  \n",
      " extracting: train/labels/ck0nf4rw3093h0a886by1nwca_jpeg.rf.3c169639b6d7abb01c879573821f91e6.txt  \n",
      " extracting: train/labels/ck0nf53eo78rg0944btmudhsc_jpeg.rf.7761bf0c5f266292eb35a0b1c51783eb.txt  \n",
      " extracting: train/labels/ck0nfms4c59l108632rf19agc_jpeg.rf.57b8d097c1ffb42ed602b8018753e42d.txt  \n",
      " extracting: train/labels/ck0nfnbw45srt083889319uj8_jpeg.rf.091dbaf5088a42db9bfecf39178eeebc.txt  \n",
      " extracting: train/labels/ck0nfoxrpj0xh0a46qv68gp45_jpeg.rf.2aea62f0d0ba459a9eb532369e5e529e.txt  \n",
      " extracting: train/labels/ck0nfpjig5u9z0838mgcq82oz_jpeg.rf.78af90cc8dcf3cde57438b0e2b576240.txt  \n",
      " extracting: train/labels/ck0nfrec983h90701yvzbsczw_jpeg.rf.42e7c50048de34469ef1fa90563790de.txt  \n",
      " extracting: train/labels/ck0nfuci585lm0701jw9i5zhj_jpeg.rf.780ea7d50c01236a2a9d4d03eda1d8ce.txt  \n",
      " extracting: train/labels/ck0nfxm5e5gq50863tqwxrgft_jpeg.rf.d58b0a6b0eb2a0d518d8454db06199a0.txt  \n",
      " extracting: train/labels/ck0nfz8fe60yr0838az9x331y_jpeg.rf.152d851a0f20d6f573a9f6f250204a9c.txt  \n",
      " extracting: train/labels/ck0ng3jtr5k7j08637da4685p_jpeg.rf.171ec9dcca7f2f15a6ea120b618d945f.txt  \n",
      " extracting: train/labels/ck0ng3zz98boz07013zyds00f_jpeg.rf.e40e57c921769f8371a0310f39e796d5.txt  \n",
      " extracting: train/labels/ck0ng4fa263vn083809qkbt4y_jpeg.rf.d577c7aecd3d674eac02e89ae4f5ce2f.txt  \n",
      " extracting: train/labels/ck0ng5zyb5lrz086320xihwm8_jpeg.rf.feb1d8a9088cbddc422d12bb51629620.txt  \n",
      " extracting: train/labels/ck0ngm4b3jk5e0a46nplsw4xb_jpeg.rf.a8bb6e7e544239d9fa85ac701cae37d1.txt  \n",
      " extracting: train/labels/ck0ngmfoyjka50a46cagrxpig_jpeg.rf.b56c9e63661229064c68f3360e6c3e0c.txt  \n",
      " extracting: train/labels/ck0oukbtwsjxp083897f03qo4_jpeg.rf.41ad39e5f5023959a03b1e61d93e7424.txt  \n",
      " extracting: train/labels/ck0oukw23toun0944nstsyx8g_jpeg.rf.725c1e40188ada6da183777c91520dbd.txt  \n",
      " extracting: train/labels/ck0oulkapr2bj0794zz57fbjp_jpeg.rf.ace3c245aa0f7dc06f29099284a1b1be.txt  \n",
      " extracting: train/labels/ck0oulyr8sldl0838tkv3hqk8_jpeg.rf.f3ac94ace79c957d33904e37a086349a.txt  \n",
      " extracting: train/labels/ck0oumds8r2ws0794yqsnls8v_jpeg.rf.012d2c43910a089d6fec492c2b914840.txt  \n",
      " extracting: train/labels/ck0ounp7qrrb80863c0xidr4j_jpeg.rf.fdcd05e62f85264689f32990913feadb.txt  \n",
      " extracting: train/labels/ck0ounuswsms108388flcbazi_jpeg.rf.a9f4e239c0f708a7ce7c767d7e968f61.txt  \n",
      " extracting: train/labels/ck0ovlupvx57v0721dn80vmur_jpeg.rf.20701caaa1c3c263bfba0b52914bc810.txt  \n",
      " extracting: train/labels/ck0ovtzvntedo08385kjpyx6a_jpeg.rf.e7f852447532daeefb963845a94e1f5b.txt  \n",
      " extracting: train/labels/ck0ovvrza6e0e0a46doaio091_jpeg.rf.f1700a3be120b1b80631405b50a8975d.txt  \n",
      " extracting: train/labels/ck0owo8knvext07012gernxb0_jpeg.rf.d59fd6116629a05a3c8e6b11e5465f55.txt  \n",
      " extracting: train/labels/ck0qb7h0asvnf0a46l0myka01_jpeg.rf.8ca32cb473bc329df2bbb29575c3e2d0.txt  \n",
      " extracting: train/labels/ck0qb7vltsvwp0a46e656bv6u_jpeg.rf.642b271f9f48a73deb97d24d2b471485.txt  \n",
      " extracting: train/labels/ck0qb8cz6tfnt0848glf38bpe_jpeg.rf.b27022571ef7b9a910830eeffde9bd30.txt  \n",
      " extracting: train/labels/ck0qb93azjo480721ojf86ytj_jpeg.rf.0658191ccf3ef3dc7533eca8568b60d1.txt  \n",
      " extracting: train/labels/ck0qb9do2fwc708385reizk6h_jpeg.rf.8353ce140548c4b5d4ab719c8245c229.txt  \n",
      " extracting: train/labels/ck0qb9rg6tgo40848b6pmbrod_jpeg.rf.1afb0937b46939a096fa2fffa2639d37.txt  \n",
      " extracting: train/labels/ck0qba5yvh45x0944qw0oaamw_jpeg.rf.d548f788d81a572f39907164ea6c1bba.txt  \n",
      " extracting: train/labels/ck0qbakbhjoyy0721qw4fut6n_jpeg.rf.86688323b760bc89ab6a94169de5910e.txt  \n",
      " extracting: train/labels/ck0qbaubof1z40863w0scvpra_jpeg.rf.0cf7f4324a6fecd547297a7e34fa21e9.txt  \n",
      " extracting: train/labels/ck0qbedgvf3qu08637yvo02cq_jpeg.rf.ebc6cb1fe15faeeb074bbef5df3a5ec8.txt  \n",
      " extracting: train/labels/ck0qbn4c2to820848neklprj5_jpeg.rf.edbf13d246dafcace687af99558821c9.txt  \n",
      " extracting: train/labels/ck0qbnvn6hk6w0701x0mcjvq8_jpeg.rf.dae439c3ddfdef76b1c1e360c545aac1.txt  \n",
      " extracting: train/labels/ck0qbo5snhkcv0701pwtwt35x_jpeg.rf.7dd6750b851e1f342192b20a93614c0a.txt  \n",
      " extracting: train/labels/ck0qbolrmhccn0944s970z7xn_jpeg.rf.0852866b4cc61c2dc67072fddf5b017b.txt  \n",
      " extracting: train/labels/ck0qbp5dkg5920838gygl8n4f_jpeg.rf.2b8f08f85050f64aa005b2f40b5b3684.txt  \n",
      " extracting: train/labels/ck0qbrxq0fc870863u9dy1xsl_jpeg.rf.109b574c27fa09fdc65125fc9214e872.txt  \n",
      " extracting: train/labels/ck0qbu8qqenrd0794vafe93ht_jpeg.rf.56922521101c85ef92f3a867c3081e9a.txt  \n",
      " extracting: train/labels/ck0qbwggghon207016zt7rz5a_jpeg.rf.b4942deb8997e12422a3fd6ab01ca2cd.txt  \n",
      " extracting: train/labels/ck0qc5zvxk5mi0721s96pwrwt_jpeg.rf.02fdb76282d22d4a6ab7a5b09b8cf6b9.txt  \n",
      " extracting: train/labels/ck0qc6lwsetj70794bennfrza_jpeg.rf.1dfce6db30573c065d5669ed2545479c.txt  \n",
      " extracting: train/labels/ck0qc7df7fjr30863hqmtj5i3_jpeg.rf.bb9c7f696d4c4186a11148ad463aa2f5.txt  \n",
      " extracting: train/labels/ck0qc7xskeu3r07948qg5ycne_jpeg.rf.a37fcfa48611702445cc9601afdba946.txt  \n",
      " extracting: train/labels/ck0qc8ib3k6v40721gt60o67m_jpeg.rf.e9516a96becadb93de954363e16ec5e1.txt  \n",
      " extracting: train/labels/ck0qc8qkohujb0701aq2988oa_jpeg.rf.f2a84ac565b7b243b36ae40493668d9e.txt  \n",
      " extracting: train/labels/ck0qd4sisfz1x0863riapvr9k_jpeg.rf.0d074512f215ea0855dc51c3be17779f.txt  \n",
      " extracting: train/labels/ck0qd50hwi1k10944i25e7al9_jpeg.rf.dc4e8422676e7baad2e36433c32553dd.txt  \n",
      " extracting: train/labels/ck0qd5it1i1wl0944fqp8vf9c_jpeg.rf.5f7b7bf98795a5a88fe2240e3a838059.txt  \n",
      " extracting: train/labels/ck0qd5yquiaiq07016q73qoz3_jpeg.rf.858d8803108224ec00b7d914b47b6aae.txt  \n",
      " extracting: train/labels/ck0qd6v51ib0j0701sf2wolfq_jpeg.rf.6358b8f49047b12d1f6c20668bff8a39.txt  \n",
      " extracting: train/labels/ck0qd7cyiib8f0701npyn63rc_jpeg.rf.0d08de7a03fcfca3e485ed18091f4b19.txt  \n",
      " extracting: train/labels/ck0qd7oxtgwug08385hhoh6c6_jpeg.rf.ed34a7e543981c7060fe65e63c03952f.txt  \n",
      " extracting: train/labels/ck0qd7zf9fax10794ucj3kmt5_jpeg.rf.4bdd8939122eb2279dbdf809cf9a9b39.txt  \n",
      " extracting: train/labels/ck0qd8gs6ko7j0721x25cv4o3_jpeg.rf.005f5707706e4d68702bbf8e0ce96a63.txt  \n",
      " extracting: train/labels/ck0qdf4hwkrzf0721pwn991sv_jpeg.rf.b361b52c1172c6504c67b4f19f9fc544.txt  \n",
      " extracting: train/labels/ck0rp7ech84jq0721s8wfw8tz_jpeg.rf.f49f246eef35370ed9da3d797409fa3c.txt  \n",
      " extracting: train/labels/ck0rp7n2684q30721hrzu5r15_jpeg.rf.0b0176d3f60909e544ab691e5ce7470d.txt  \n",
      " extracting: train/labels/ck0rp7ve43ul20863ldcq568m_jpeg.rf.2242e2aef5279e55b32ce34e7a154ea0.txt  \n",
      " extracting: train/labels/ck0rp8d7p858s0721qrjixerv_jpeg.rf.29ba67ef2f3092df9ebe3adf2a77e2e9.txt  \n",
      " extracting: train/labels/ck0rp95tf2vg70794wbjk2kk3_jpeg.rf.64942fab8cdbf6edab115881cc2180c3.txt  \n",
      " extracting: train/labels/ck0rp9iochje10a46pq920puz_jpeg.rf.b57dbfcab2e3f4b15b88f1895a440510.txt  \n",
      " extracting: train/labels/ck0rp9zh85rbh0944g0fanl6o_jpeg.rf.3e6d03d3e66153e3461f5a6ed25960b5.txt  \n",
      " extracting: train/labels/ck0rpaam92wcd0794b9wy12ks_jpeg.rf.ac541642eb5d4b002e19dbb0049e8273.txt  \n",
      " extracting: train/labels/ck0rpe8ja3z6m0863q1narygs_jpeg.rf.751b9497645f516d0e98cd415c7fad51.txt  \n",
      " extracting: train/labels/ck0rpemia2zhr0794cdnvuzck_jpeg.rf.ed929ea4f567b42d1bc217371c742329.txt  \n",
      " extracting: train/labels/ck0rpfqrnhnon0a46jv1r8s8w_jpeg.rf.a567ba27398a0c227fa75451bb27aa3d.txt  \n",
      " extracting: train/labels/ck0rpg5vz5vk20944kk0yhjy5_jpeg.rf.b492365ac3b96ced581dec7e1520b8b8.txt  \n",
      " extracting: train/labels/ck0rpimt3ifig0848hijlm44t_jpeg.rf.46ad991e0932f88c7b6acf6628566240.txt  \n",
      " extracting: train/labels/ck0rpixgt5x8l0944oojfpa2o_jpeg.rf.6c2183ba04dd7ec031b4d6c922aaf16c.txt  \n",
      " extracting: train/labels/ck0rpje8d32fg07940gwkympb_jpeg.rf.4f70a0ac72f6655d356cc9f414fe8eeb.txt  \n",
      " extracting: train/labels/ck0rpjxds42tv0863ke8nrsmn_jpeg.rf.3d619fc088a888f7c7cc57c98a4f6498.txt  \n",
      " extracting: train/labels/ck0rqflbw4lvd0863gyi0mzp1_jpeg.rf.69d64ebbcff31c6be13e7228d41d83d1.txt  \n",
      " extracting: train/labels/ck0rqfvfjizmt0848qs0rsd4l_jpeg.rf.5a5fcbfc5606e1668f8c201c7005090f.txt  \n",
      " extracting: train/labels/ck0rqgv1m8wok07216g2getrt_jpeg.rf.22c0ebfb67cc9ad7415929c8053d1f80.txt  \n",
      " extracting: train/labels/ck0rqkoz2587n08387o17rv73_jpeg.rf.dac0a1efdb35bccefe81abe469913116.txt  \n",
      " extracting: train/labels/ck0rqlgco58j50838724x6rym_jpeg.rf.b5b8263fb657e6a09f94583c21fc28ea.txt  \n",
      " extracting: train/labels/ck0rqph585aki0838q1hxpf6k_jpeg.rf.cf14cc4db9c987427a392c960f1c779a.txt  \n",
      " extracting: train/labels/ck0rqq0y3j4tu0848p884qvn1_jpeg.rf.654a70a2e86f0270af759b46d38ea769.txt  \n",
      " extracting: train/labels/ck0rqrdr86mhp09441c8d69w7_jpeg.rf.5d625e0924bab6f9f7d86084bff7af98.txt  \n",
      " extracting: train/labels/ck0rr05k797je0721hrz4bw9e_jpeg.rf.031b5346c52c69e28fc9345ca7b28010.txt  \n",
      " extracting: train/labels/ck0rr132a3x9r0794yhwyho26_jpeg.rf.23012d1f295110126949db4f75f9a8ea.txt  \n",
      " extracting: train/labels/ck0rr40pt71p40701fl50vzfa_jpeg.rf.6b2b4ec7e343403a173a2d8c9ec0d2c5.txt  \n",
      " extracting: train/labels/ck0rr4nj43za20794o7o3btuw_jpeg.rf.8657366d6deb4dc4f58216778b1159d6.txt  \n",
      " extracting: train/labels/ck0rr6bfa9b3w0721aw5unwdy_jpeg.rf.00982c053d66c090d55b3d775a722aff.txt  \n",
      " extracting: train/labels/ck0rr7nhf6w970944cb2nnlih_jpeg.rf.fad95509baaee973c9d5a6db10c3f314.txt  \n",
      " extracting: train/labels/ck0rrpwlvj04d0a46r4th0cjf_jpeg.rf.ae43d5efbbcc58b183c5ed045605b4c6.txt  \n",
      " extracting: train/labels/ck0t1qg3kyft90a46nddriu6k_jpeg.rf.c4b243f8509a87ad5bdb0ed3c1a4e953.txt  \n",
      " extracting: train/labels/ck0t1r1esms8s0701jmlvghkw_jpeg.rf.5acffb2bbf6c7f579d73f8ff3c85209a.txt  \n",
      " extracting: train/labels/ck0t1umd5jowc0794my89kbsj_jpeg.rf.3bec00ba14295b43ff0ca24e3582396d.txt  \n",
      " extracting: train/labels/ck0t1ywwdmqkf0944mhiw5huk_jpeg.rf.bb77413dc1cb70d1f2e52b6f003b2bd9.txt  \n",
      " extracting: train/labels/ck0t1zwemkseu08636i7fpksi_jpeg.rf.15e6c66d7c667787bfb8151a7751affb.txt  \n",
      " extracting: train/labels/ck0t20os6mrcb0944xrc0wamx_jpeg.rf.ee4ee7ff297cbc0aadd8bc31c4067d1d.txt  \n",
      " extracting: train/labels/ck0t235u3msgt0944a7jzn8hp_jpeg.rf.46fbbbd711da478f5db7e61287216aa5.txt  \n",
      " extracting: train/labels/ck0t24ndxkug60863id6f8pfc_jpeg.rf.5e489fbf3eadafbe13567c4cac0baad3.txt  \n",
      " extracting: train/labels/ck0t252udmxqz070188sd9z1u_jpeg.rf.662ccf2f0209e1cdf677221ac65da60e.txt  \n",
      " extracting: train/labels/ck0t2d3kbyou40a46a56kl6x8_jpeg.rf.3da673071f90e10d5f5161f42a8b7f85.txt  \n",
      " extracting: train/labels/ck0t2fzvhlj200838b26ckwda_jpeg.rf.1c8882654e4d82f7f030d590568a3382.txt  \n",
      " extracting: train/labels/ck0t2gf1wypnz0a4651vbm3b5_jpeg.rf.b93c64f987f4faa915f9df79de73fb86.txt  \n",
      " extracting: train/labels/ck0t2kogeyqy50a46u6e56yb9_jpeg.rf.20a8132299113e73e6263029256d5049.txt  \n",
      " extracting: train/labels/ck0t2pyk3l0ym08636r4hqnty_jpeg.rf.7ca69164d2ca64a00e9c2d1219e7d966.txt  \n",
      " extracting: train/labels/ck0t2tlmmzfds0848mvj42ujg_jpeg.rf.e9652791f14278f94e777c81d78f9857.txt  \n",
      " extracting: train/labels/ck0t2wfsipdoc07218586ezt0_jpeg.rf.4ec027210133d1a092f7cefe7f86c23a.txt  \n",
      " extracting: train/labels/ck0t2z9knn3060944ppcr9fkn_jpeg.rf.55fb31c0cd4fdfe0551c1da30f27713a.txt  \n",
      " extracting: train/labels/ck0t3htqxn88w09443dhqtzrh_jpeg.rf.51b48656089fe4ab9d7f0b0dc63d530e.txt  \n",
      " extracting: train/labels/ck0t3iu3flv0k0838lql92x5b_jpeg.rf.d9fe218889dedb1a545b98b76d43d41f.txt  \n",
      " extracting: train/labels/ck0t3kjngndaa0701i76i8q2c_jpeg.rf.7b33ab9af657e3432533388b4519bb60.txt  \n",
      " extracting: train/labels/ck0t3r291z3xb0a46a6hx1rak_jpeg.rf.f9feb1317bbf81fb69035cc286af96fe.txt  \n",
      " extracting: train/labels/ck0t3r8twkazh0794uxyta3xz_jpeg.rf.9ec29e65e34503b73401e911707d4fc1.txt  \n",
      " extracting: train/labels/ck0t3s74cnfks070126deykt2_jpeg.rf.e83ffc98b2dd129c1a6df088d5191aca.txt  \n",
      " extracting: train/labels/ck0t3zlhdz6180a46kq06kflk_jpeg.rf.695d8a1806cebba8ed79a9465c077b48.txt  \n",
      " extracting: train/labels/ck0t3zt3lnd7u0944gqvvuxtw_jpeg.rf.316a77febbcc8240fe5c521cdedbe5f0.txt  \n",
      " extracting: train/labels/ck0t40rhdz68s0a46ekx049a6_jpeg.rf.00403179fe5f0eb665e4af5845be125e.txt  \n",
      " extracting: train/labels/ck0t45urenix00701imio8cdw_jpeg.rf.a2ce10899a67ad830a33928f80299233.txt  \n",
      " extracting: train/labels/ck0t4kdl1nlyb07011sj8qjd8_jpeg.rf.0a712e797adaffd2ba69b30c0005fe83.txt  \n",
      " extracting: train/labels/ck0t4pic2zxuv0848rp6npxiw_jpeg.rf.51acc548074c7c4f16893509aaf50fa5.txt  \n",
      " extracting: train/labels/ck0t4s7ibnk170944ffcd9q57_jpeg.rf.54d950346af8537f20351059c79b91cf.txt  \n",
      " extracting: train/labels/ck0t4sh7pnk3v09447wbxifkk_jpeg.rf.d723fb8fb9b160e3b61d523345284d2a.txt  \n",
      " extracting: train/labels/ck0t50qh5zfpc0a46o2ppy49w_jpeg.rf.4260774858fd1aac08234c8601f3e984.txt  \n",
      " extracting: train/labels/ck0t5243y02ss0848d4w8z1bl_jpeg.rf.073eb5726a7f3fca2caa57b085c7b655.txt  \n",
      " extracting: train/labels/ck0t52agrlp0p0863vg9f8svy_jpeg.rf.3b90acd0b60f2a45cb879c106a4d11da.txt  \n",
      " extracting: train/labels/ck0t52natq0it07218mpku7q5_jpeg.rf.18fa7308a214c8870ca0ce19768957ba.txt  \n",
      " extracting: train/labels/ck0t58uo4nvw40701ubn1fua7_jpeg.rf.da5481cdd88087908cd2c42ad46b2658.txt  \n",
      " extracting: train/labels/ck0t592vckr6p07949h19oxce_jpeg.rf.4957f384420110763cc2a3d067da7ef2.txt  \n",
      " extracting: train/labels/ck0t5k7tonwo20944nfnbqogm_jpeg.rf.da7dd21c39b298b5d1354d7b0448c81e.txt  \n",
      " extracting: train/labels/ck0t5n2jlkxuc07940mygjo8f_jpeg.rf.743e0e7964a1983568c0323735ea9d91.txt  \n",
      " extracting: train/labels/ck0t5nqi3zqqj0a46iyhhhw7b_jpeg.rf.998b4f14452e077f192f88e3842b9501.txt  \n",
      " extracting: train/labels/ck0t5oyi1mlpd08385ihi4js3_jpeg.rf.a2dd8f265c56cd1b9ae4d1a0a2a3d30a.txt  \n",
      " extracting: train/labels/ck0t5tq5hmo8508389vjkpile_jpeg.rf.b7db6d196e09c4695d4da7fd0854a18a.txt  \n",
      " extracting: train/labels/ck0t5wu9ao70b0701rdv7c7af_jpeg.rf.cc0f00f739a08c1d6337f7f6e32ce03d.txt  \n",
      " extracting: train/labels/ck0t5xpty0hyp08488g6a7n6l_jpeg.rf.8884944ed861a984fd4fa4955e71cd48.txt  \n",
      " extracting: train/labels/ck0t6c6eg0n3m08483m1afytd_jpeg.rf.bd34ea97915de5348293b62b301df38f.txt  \n",
      " extracting: train/labels/ck0t6nixgmcop0863zbzsc32e_jpeg.rf.250078e3e4e42da9963f5edec7f25e88.txt  \n",
      " extracting: train/labels/ck0t6o7hrlbs407944kyd1i2r_jpeg.rf.1fcdad3f89301e29a312afd29b8be5fd.txt  \n",
      " extracting: train/labels/ck0t6v4mw07810a46gj9vqfvu_jpeg.rf.bb2af326ad7e053d0f41d82152936273.txt  \n",
      " extracting: train/labels/ck0t6z888oklq0701ri4jser9_jpeg.rf.d8566287c945e4bfc9a47f699bfc0fed.txt  \n",
      " extracting: train/labels/ck0t6zwah09e20a4695tura09_jpeg.rf.4f785256363fd90cb8a95a7d23e0f5a2.txt  \n",
      " extracting: train/labels/ck0t734s0mizv0863sujq0i7p_jpeg.rf.b37b89bf3712f1791e2f97c5a16aa48c.txt  \n",
      " extracting: train/labels/ck0t74gx40b5u0a46s72no2dg_jpeg.rf.57da3c38696a55082327c502be780c59.txt  \n",
      " extracting: train/labels/ck0t75ti6on9t07015p6wbjle_jpeg.rf.d4ca4e1f7adb43de81445ccbe0f71098.txt  \n",
      " extracting: train/labels/ck0t765i5mk8j0863od0a5ghy_jpeg.rf.e1c441f3237ce54181cc06b916ccf313.txt  \n",
      " extracting: train/labels/ck0t782sh0yo80848y50f5ugf_jpeg.rf.5429663116454a8c5ce5ebbfa41dbe3f.txt  \n",
      " extracting: train/labels/ck0t7czov10bf08489elv37go_jpeg.rf.17785297d266595162723c94f9bcf835.txt  \n",
      " extracting: train/labels/ck0t7hsj2on2s094444drdqs0_jpeg.rf.f52b5068fa822561ff8f0e200dc451a0.txt  \n",
      " extracting: train/labels/ck0t7iosiorq50701wgtb048m_jpeg.rf.1302b4c1947454fa5c96ee6b5377c641.txt  \n",
      " extracting: train/labels/ck0t7o8ovlpsl0794ci1p3k3a_jpeg.rf.7255338cf66d7fd15d9a75b7e87f0550.txt  \n",
      " extracting: train/labels/ck0t7s2o0ne4408387zvqn6pr_jpeg.rf.5524a3a3693d51037c48223b690362e2.txt  \n",
      " extracting: train/labels/ck0t7yaokmuhl0863v1rlsm5p_jpeg.rf.62c77619d32f766079b9e3320f8510a3.txt  \n",
      " extracting: train/labels/ck0t81ysfnhui0838yucfeszk_jpeg.rf.a0adf8c4222766877b5a807c7ac8b1cd.txt  \n",
      " extracting: train/labels/ck0tssirhrq1u0863eoicr5bp_jpeg.rf.3e1b0f61a6d074bec7c5b973a96f57e6.txt  \n",
      " extracting: train/labels/ck0tsvw19vzj90721zgwt6zcu_jpeg.rf.cf6612354723744280bb097e50446b3e.txt  \n",
      " extracting: train/labels/ck0tsw61gqm680794v186apwr_jpeg.rf.1dd2f58789da8b976d4822ffdab29b03.txt  \n",
      " extracting: train/labels/ck0tswxwqqmau0794imifdgnh_jpeg.rf.ec35749524df8e91f4398a24e9e87e55.txt  \n",
      " extracting: train/labels/ck0tsx6f1rqmc08631bs71ker_jpeg.rf.70f288faaf29ee8c354bc3f20320febe.txt  \n",
      " extracting: train/labels/ck0tsymgpsbmm0838ci72jvcf_jpeg.rf.d4d1f4ce36dfe12001ec0d35ea58dc2f.txt  \n",
      " extracting: train/labels/ck0tsyvp361ow084867dinue0_jpeg.rf.d47c7f4008f3cd76c7e1428677a676ce.txt  \n",
      " extracting: train/labels/ck0tsz3b0624008481fmfbt28_jpeg.rf.84cf8a28b2a98547fccdad89cc3cb3f2.txt  \n",
      " extracting: train/labels/ck0tszu61qmo10794stj6lmkj_jpeg.rf.74610774501419ad96bf232c9f58838e.txt  \n",
      " extracting: train/labels/ck0tt0dkysbs70838q7t3vnr9_jpeg.rf.164a535f7e60defc9ad1b4f58836ab31.txt  \n",
      " extracting: train/labels/ck0tt357asc4k0838zbkl0wrd_jpeg.rf.bbd799b63b5ccabf50da4f83c6f2434a.txt  \n",
      " extracting: train/labels/ck0tt3hm6tsh90701m4t0sq7e_jpeg.rf.bf573bb3cc96443e940c0e1b2a554dd1.txt  \n",
      " extracting: train/labels/ck0twb97n5uc20a46en2e2spb_jpeg.rf.e507096fae49dae5649e7f4e895d6f8f.txt  \n",
      " extracting: train/labels/ck0twbzbz6hga0848z3sx5lsi_jpeg.rf.9efd0db058b58c0e86f627c2ed3d328a.txt  \n",
      " extracting: train/labels/ck0twef0nu7ej0701ku08izg4_jpeg.rf.1fe4b32547d4ed034980da37cfa48a07.txt  \n",
      " extracting: train/labels/ck0twhqawsr970838xj2topr5_jpeg.rf.3f1612dab0ef612792c9866e780b52c4.txt  \n",
      " extracting: train/labels/ck0twi6d05v8f0a469q54h3iq_jpeg.rf.9e19708c84c6b0e1e696621aba134117.txt  \n",
      " extracting: train/labels/ck0twkzggsrnb0838b6na9joz_jpeg.rf.4144934d16650df3e5a346a1943793a0.txt  \n",
      " extracting: train/labels/ck0twl6pqwg6c0721ja81m52m_jpeg.rf.a8b03e4b1a1200e7ebbbec17e9a4e818.txt  \n",
      " extracting: train/labels/ck0twwuxz6k9i0848br68e8wm_jpeg.rf.e030f5f045919b341af6350a986d278b.txt  \n",
      " extracting: train/labels/ck0twzs19s8ld08632qx4gg12_jpeg.rf.17d7f2e556ae6c66c4f533fef4fe10ac.txt  \n",
      " extracting: train/labels/ck0tx10f0r4n40794pbbiu6iw_jpeg.rf.e2375405bbe7a5a307420051f164add7.txt  \n",
      " extracting: train/labels/ck0tx2twm5xya0a46rieclafo_jpeg.rf.6cb4bd5df71d1c5c2e0aedf48114f10c.txt  \n",
      " extracting: train/labels/ck0tx3bpm5y140a46ul6hlru8_jpeg.rf.5e4ca9c6161cc1cc916b43759c5651e3.txt  \n",
      " extracting: train/labels/ck0tx3rohwiml0721wn578q0e_jpeg.rf.c23153704db212f6fb1d673ef173b0f1.txt  \n",
      " extracting: train/labels/ck0tx7k0tr5rz0794r2twuz1o_jpeg.rf.67068839164b779c940323e5dc947e50.txt  \n",
      " extracting: train/labels/ck0tx9epawjk50721w6282v2c_jpeg.rf.adc7853dfe39ef993eeba0ed3292186a.txt  \n",
      " extracting: train/labels/ck0txdhj9wk390721me7hmajn_jpeg.rf.0b9072848081252656285ddaab966c7a.txt  \n",
      " extracting: train/labels/ck0txfme8sat90863ybrk8lzv_jpeg.rf.929ceb5b917912aa2761d897e28cf56c.txt  \n",
      " extracting: train/labels/ck0txgdlcsvs8083883yrxqar_jpeg.rf.b9cfd13cbd0644961135ac43731fe225.txt  \n",
      " extracting: train/labels/ck0txgnxxud4y0701d5z7lpx7_jpeg.rf.7c53c82d64933f2062ad37195fb14522.txt  \n",
      " extracting: train/labels/ck0txmpuosbkk0863coq4p42u_jpeg.rf.a752cde3b9f280f5aead544deb94aed0.txt  \n",
      " extracting: train/labels/ck0txn3y1uaec0944bo6m4q6c_jpeg.rf.f46ac4d6b598065a331421706191b669.txt  \n",
      " extracting: train/labels/ck0txo8iyue140701jnymorwf_jpeg.rf.3d9a2e443551de47ba1b2a88280d408a.txt  \n",
      " extracting: train/labels/ck0txp6s8ue5b0701zx9qjwwe_jpeg.rf.d99829abfdfcd1ac783cbf63afb2e141.txt  \n",
      " extracting: train/labels/ck0txrkyx611l0a46u3b4n8bb_jpeg.rf.aa1ad8376fd26661f3771abccbd1d143.txt  \n",
      " extracting: train/labels/ck0txs402uehd070195c9mfko_jpeg.rf.b47277846338d037c30f92e0213833d5.txt  \n",
      " extracting: train/labels/ck0txsj116ojr0848emet52dc_jpeg.rf.3b78709ffaa76d0042f6560a02eb3373.txt  \n",
      " extracting: train/labels/ck0txus39scfk0863py0w15qb_jpeg.rf.9576388a3db2bcfad7af2402710fae96.txt  \n",
      " extracting: train/labels/ck0txvj9m6otr0848fayj9tte_jpeg.rf.3c297c7d21cbe8563aba079db5bffc65.txt  \n",
      " extracting: train/labels/ck0txw47261iz0a46k76oyfzj_jpeg.rf.af3dfd2ec9adef7cd9c7e57e79ff8598.txt  \n",
      " extracting: train/labels/ck0txwcn1scmo0863p2fmcq09_jpeg.rf.5b5bf0ad74e7e8e33bce805420176d39.txt  \n",
      " extracting: train/labels/ck0txwk8k6owz0848gejqchq8_jpeg.rf.d431e6a3cf29ca3c97bda4035c2e26fa.txt  \n",
      " extracting: train/labels/ck0txx0ddscoq0863bm1ntw9g_jpeg.rf.d4a3a846ce3b75ac6df3f0290adc7ef8.txt  \n",
      " extracting: train/labels/ck0ty5rb66pry08483lgrlmhz_jpeg.rf.421725f5dafec43a5de105843c9def78.txt  \n",
      " extracting: train/labels/ck0ty7yegwn140721h5wixp2h_jpeg.rf.24f23d741874697a2aebd86b8968c470.txt  \n",
      " extracting: train/labels/ck0ty9cx4r9qk0794foscpnun_jpeg.rf.465ff93707dc7996d3cd3b7576117150.txt  \n",
      " extracting: train/labels/ck0tya1tfr9sz0794w5roonwp_jpeg.rf.0db0a4a0a57c433e550c669676380d58.txt  \n",
      " extracting: train/labels/ck0tyaitfuchg0944iz87630d_jpeg.rf.998c6176beeff89d6257ca171307b473.txt  \n",
      " extracting: train/labels/ck0tyexsuugj1070158ffdyyt_jpeg.rf.2e9d7c24d0366304aae6f03fdbbf349a.txt  \n",
      " extracting: train/labels/ck0tyfppk6qqc0848u6xtpzgx_jpeg.rf.288099a51913c76a030ce91555ac3929.txt  \n",
      " extracting: train/labels/ck0tyjzuxsewd0863g6vu5zec_jpeg.rf.1267d7caad633514f05f20a5279f9582.txt  \n",
      " extracting: train/labels/ck0tylooksf3f0863s6tbwxhx_jpeg.rf.8f4a749954974bc5e10dc29869c4cbdf.txt  \n",
      " extracting: train/labels/ck0tyq31o6ryb08488lus3geb_jpeg.rf.952ddb3f74c7e559d41ce47c20e0e9db.txt  \n",
      " extracting: train/labels/ck0tyt1orui7t0701sxkqcrnt_jpeg.rf.c36812de3c09ed71c03a3f269c2223b2.txt  \n",
      " extracting: train/labels/ck0tyt8nmui9l0701fr3lsu7s_jpeg.rf.1ad8f25014d4b35f799598a10661b7cb.txt  \n",
      " extracting: train/labels/ck0tyucu3uekj0944f3usafki_jpeg.rf.ad394d6c48fd8c0906ce0ac8f4568298.txt  \n",
      " extracting: train/labels/ck0tywg9ruew50944r0qom5i0_jpeg.rf.045581ac714cf654e0725d1f8e192ccb.txt  \n",
      " extracting: train/labels/ck0tyx4x7t16i0838grtlspkh_jpeg.rf.e1d9c642a95a536ae63fdbf498815c0d.txt  \n",
      " extracting: train/labels/ck0tyxvkx6t1d0848kk4vfkrb_jpeg.rf.a38ddfd3863bcaad9a265c57a56f02ef.txt  \n",
      " extracting: train/labels/ck0tyzb4kwq9407210i0lbk6v_jpeg.rf.10b0732365f4a35069e26031ae48603d.txt  \n",
      " extracting: train/labels/ck0tz2vh7wqqw0721qe4odmlu_jpeg.rf.8e9a88e1a568ff4f100cf57a219250d5.txt  \n",
      " extracting: train/labels/ck0tz35vrt1xh08382lzzsg2v_jpeg.rf.fbfc29bec37e3eae4805a0cc7f74ff80.txt  \n",
      " extracting: train/labels/ck0tz3qdjt20v0838pjjz36dn_jpeg.rf.d78b31fccbc803886b4037c800f2c5e7.txt  \n",
      " extracting: train/labels/ck0tz4dsmshgh08637pfl2z1c_jpeg.rf.b03bf3d9ee3f53a5e8ee298181290d1c.txt  \n",
      " extracting: train/labels/ck0tz4vu9wr2707210cs2d85i_jpeg.rf.0d07d523ff8a7385975c0546e3ed3013.txt  \n",
      " extracting: train/labels/ck0tz7lcnugfi0944xj04x69y_jpeg.rf.ae59697a3961edc473319ea1edf1566f.txt  \n",
      " extracting: train/labels/ck0tzh0mmsjb70863m9jdqypg_jpeg.rf.6b4347c866f9e0768115f0ce603f0b3b.txt  \n",
      " extracting: train/labels/ck0tzmo81wtq50721yer41mgt_jpeg.rf.afb4e1c9346de07f87219b9f5acf477a.txt  \n",
      " extracting: train/labels/ck0tzncx5rg970794klhrot7p_jpeg.rf.507c2a4d85d04020575e470af370337e.txt  \n",
      " extracting: train/labels/ck0tzox41umlv0701crxo159j_jpeg.rf.e8dbba80529101120c53cdbf682d6b3b.txt  \n",
      " extracting: train/labels/ck0tzp3rvummy07010t4dolzz_jpeg.rf.c714652d0c504a149b83071ca4b8bd13.txt  \n",
      " extracting: train/labels/ck0tzphn3t5by0838ge18vkq7_jpeg.rf.f15891396160c6c83e3b052fd5d235f2.txt  \n",
      " extracting: train/labels/ck0tzpp8dskmt0863jjiyujwl_jpeg.rf.8774dae60a89c1a7230a85abb2acb4a6.txt  \n",
      " extracting: train/labels/ck0tzpygswuae0721bhuvjofj_jpeg.rf.9be0b873779f91d86f8a0b713a67f134.txt  \n",
      " extracting: train/labels/ck0tzqdzqwucd07218blh12ir_jpeg.rf.7b142d2dda7d0e123d58679c4b321445.txt  \n",
      " extracting: train/labels/ck0tzu01r69vw0a464th4yn43_jpeg.rf.b3629ef5809d61bee0fa0208337eff76.txt  \n",
      " extracting: train/labels/ck0tzuao2wuuv0721d9vb3uvm_jpeg.rf.b22278e5e19f63a0a95634c876aeb3b1.txt  \n",
      " extracting: train/labels/ck0tzvykb6xxf0848pysx89eg_jpeg.rf.542cb9bc1eee62aa5eb4b4ac3e13a648.txt  \n",
      " extracting: train/labels/ck0tzw6en6xyw0848myghrsxc_jpeg.rf.a757a5641f161d4d3072d0f41e4afd3a.txt  \n",
      " extracting: train/labels/ck0tzxdcpslr10863f9172aju_jpeg.rf.1f702dd0c1a3d5ec2838bc92374f3222.txt  \n",
      " extracting: train/labels/ck0tzza3ut6ra0838aef1ubfa_jpeg.rf.d8738fff54d7ecf5e5d281969b2c4795.txt  \n",
      " extracting: train/labels/ck0u00h8m6yow0848u1pohlak_jpeg.rf.faa14c3337ceadc7f78c40379226f78f.txt  \n",
      " extracting: train/labels/ck0u01dbyuoe30701p6pfzb0q_jpeg.rf.dc34aba657747af88bf1eec63f19ea6b.txt  \n",
      " extracting: train/labels/ck0u02mwv6bah0a467209caub_jpeg.rf.4946e8ee4a4af8ff2dddd94c59d3d2ef.txt  \n",
      " extracting: train/labels/ck0u07w91ulq009446ol1bta4_jpeg.rf.05a02ac3bf9a27f86cc6c315a72ff6c7.txt  \n",
      " extracting: train/labels/ck0u095lit8ti08381w4noa0x_jpeg.rf.bd10a2fd9541e77cad818da589290152.txt  \n",
      " extracting: train/labels/ck0u0dcgdwy9r072177202gnd_jpeg.rf.ed8b6721555e8d9aba61dce9a162f6df.txt  \n",
      " extracting: train/labels/ck0u0dtzbt9mu08385juqmknt_jpeg.rf.07952a8adcc6bcd57f02407bb25c93cd.txt  \n",
      " extracting: train/labels/ck0u0gs1d71m70848obwsy04a_jpeg.rf.9d2a66f2846a0e53d523face7aa0ac1c.txt  \n",
      " extracting: train/labels/ck0u0hkwqurd207012dbpgjhf_jpeg.rf.147659f5c8eb1bc7d72e6038a08886ac.txt  \n",
      " extracting: train/labels/ck0u0i88bunv00944unevdbqg_jpeg.rf.d20e47a3a4c4cec68381d5f113f985d8.txt  \n",
      " extracting: train/labels/ck0u0ihp7sq1z086335c6h592_jpeg.rf.60d64a3d41a4fa422f94a17d8294b296.txt  \n",
      " extracting: train/labels/ck0u0iymarljc079432rld6ur_jpeg.rf.049e444971d411f2bc15d14189f8ebc9.txt  \n",
      " extracting: train/labels/ck0u0jzlqsqbn0863uii3azjh_jpeg.rf.fbdb4c44be18f3c2fa695b1b6b670b16.txt  \n",
      " extracting: train/labels/ck0u0l462sqjj0863jgtyd84b_jpeg.rf.c4ce1970c78664d09fd0e89d04c6b869.txt  \n",
      " extracting: train/labels/ck0u0muhduoik0944fwbze43u_jpeg.rf.74bd00e3d0c2bb38628bd3d60bc56572.txt  \n",
      " extracting: train/labels/ck0u0nf3ftb7n083861jt62o2_jpeg.rf.cd876ad735a6b63314285acf94d9b387.txt  \n",
      " extracting: train/labels/ck0u0obru6f6u0a46axncdx9n_jpeg.rf.a1d7c0c1b0cd06e7f8ba492cdfee2cf2.txt  \n",
      " extracting: train/labels/ck0u0y7byrnvd0794vpqdexro_jpeg.rf.513b6ca1d70a6023bc57e0040b811bb3.txt  \n",
      " extracting: train/labels/ck0u0zahz74ln0848lonhk1xg_jpeg.rf.7cb0fa04dc9b397b8ff07e625eb2aefa.txt  \n",
      " extracting: train/labels/ck0u0znmjuuay0701hyc6trun_jpeg.rf.57c4424df242fccdb67494c4d2bc22b7.txt  \n",
      " extracting: train/labels/ck0u101es74sl08484y0z9pb6_jpeg.rf.caf350c36e933cf2c1a1059225801aaa.txt  \n",
      " extracting: train/labels/ck0u10zeh74ym0848ow29lc1l_jpeg.rf.8de8ba24b1b198759056a236d93a7cbe.txt  \n",
      " extracting: train/labels/ck0u13g18uv1x070166k2ew3t_jpeg.rf.9105a3ace2fbeb2dfa3d74117355464c.txt  \n",
      " extracting: train/labels/ck0u13mbhte0v0838nxz2zdkf_jpeg.rf.ea7ac3c4de6eb11b8eb611eb4607088c.txt  \n",
      " extracting: train/labels/ck0u14y7arp5c0794llhscme5_jpeg.rf.b9a8d990ee70e43ff692e1ad75c6df7d.txt  \n",
      " extracting: train/labels/ck0u155em6hy90a46mm9izvjz_jpeg.rf.0307a95d00420a74d0682b038bcb13f5.txt  \n",
      " extracting: train/labels/ck0u15ceurp8s079478ps17by_jpeg.rf.01cba46fbff586f903728080476df7d9.txt  \n",
      " extracting: train/labels/ck0u97a47vo2h0944rwxehqpl_jpeg.rf.89ceb69362b56d99b46492fbb5397c2d.txt  \n",
      " extracting: train/labels/ck0u98ba1xzpe0721rgjjjun5_jpeg.rf.c8cc83fd4689caf4aff86fee001b8a16.txt  \n",
      " extracting: train/labels/ck0u98uysslwa0794bmd4n7fd_jpeg.rf.664b134d0c3a1562477a9687c044c745.txt  \n",
      " extracting: train/labels/ck0u9dw5dsmcv07947ss72195_jpeg.rf.1e895018c6b1b258086e70c22f9d37b4.txt  \n",
      " extracting: train/labels/ck0u9e8u77f9y0a46i2qc7hje_jpeg.rf.a3d2e2112949e6b909551dd3f33dddfd.txt  \n",
      " extracting: train/labels/ck0ug2o6ku8b708632bp2y2zn_jpeg.rf.42ce49a52b1b8f3c1cec74019dede23a.txt  \n",
      " extracting: train/labels/ck0ug2zaqt3zf0794joucwcgf_jpeg.rf.19cb77fe0f8cf5b9648d2056f4a5fbba.txt  \n",
      " extracting: train/labels/ck0ug3gjz7wk00a46ikj346zv_jpeg.rf.c965066b7e947133c6e047b4b977aa9e.txt  \n",
      " extracting: train/labels/ck0ug3zlfw61d09445i888ftl_jpeg.rf.24816998199d65c37ac73ca9a297dc81.txt  \n",
      " extracting: train/labels/ck0uj9sgjyq2b0721813otzrx_jpeg.rf.46cdc9351db024ad70108beebd5bc4f9.txt  \n",
      " extracting: train/labels/ck0ujb0z98s2k08487aup4zlv_jpeg.rf.f7782299c142e682f20fa934e9f8d5ce.txt  \n",
      " extracting: train/labels/ck0ujirqowixt07012814w3ox_jpeg.rf.af7d2c5ce6bcfedb6ffd891231b412c8.txt  \n",
      " extracting: train/labels/ck0ujle3ouhd20863udrln8yl_jpeg.rf.7fc4afb2782e4051e67f7107b0005f26.txt  \n",
      " extracting: train/labels/ck0ujo3wrv2130838pn66pvj4_jpeg.rf.ace164faea7387c83c08a68c7b37d736.txt  \n",
      " extracting: train/labels/ck0ujoiltwezp0944u48gk6wn_jpeg.rf.ff498f4094583e78e66034d107ad0285.txt  \n",
      " extracting: train/labels/ck0ujvtjvyrjx0721f1bk9yvy_jpeg.rf.7ced4af432a3d02214f5c6ed5159ba7f.txt  \n",
      " extracting: train/labels/ck0ujwlr98tkt0848fudx9cb3_jpeg.rf.a06824e458bc658304e03c577aa85c16.txt  \n",
      " extracting: train/labels/ck0ujxg4qyroe0721yt57ymqa_jpeg.rf.0c16dbb547f7c6d169dbb0234e411afd.txt  \n",
      " extracting: train/labels/ck0ujy91ete1p0794u8tbqbox_jpeg.rf.26e3ae02741d31dc087d31af9286950f.txt  \n",
      " extracting: train/labels/ck0ujzue9uicd08638rcyl1ro_jpeg.rf.5a0992ce884d2cfd32964002e7599489.txt  \n",
      " extracting: train/labels/ck0uk2i9z86xl0a46gizlif59_jpeg.rf.8729e25833976180a9f3b2a7511789e8.txt  \n",
      " extracting: train/labels/ck0uk4wf8875i0a46hztpqvip_jpeg.rf.7a25fd32be8f8e700adb8bfadb0061d1.txt  \n",
      " extracting: train/labels/ck0uk5cl3877p0a468qm2bfay_jpeg.rf.05f4f2a5f4efa69243aac572e05e5216.txt  \n",
      " extracting: train/labels/ck0uk5rawysf20721e35n6nk5_jpeg.rf.60dd824179a3b989558f39a245d746d6.txt  \n",
      " extracting: train/labels/ck0uk75x5ysls0721e5a9j891_jpeg.rf.00d7fd8503e1e0e6a66294f3db79b346.txt  \n",
      " extracting: train/labels/ck0ukgesfwh7f0944smkfpncd_jpeg.rf.796bc7793dcf63a411bbb692fc734dc5.txt  \n",
      " extracting: train/labels/ck0ukglh8v4be0838snyl10yu_jpeg.rf.d1be73932e5973c718b1635e2181b31f.txt  \n",
      " extracting: train/labels/ck0ukhfkfv4f10838ulu89xc8_jpeg.rf.1f875dfb8db3493d5d910236a5343bd0.txt  \n",
      " extracting: train/labels/ck0ukhrm7wh9z0944dld49omk_jpeg.rf.e34dffbbe4bdc445193672cf547bb600.txt  \n",
      " extracting: train/labels/ck0ukig53tfv30794pt4u6ude_jpeg.rf.2ecc68215cab4d68d0a22b78b0327018.txt  \n",
      " extracting: train/labels/ck0ukjmceuk3t0863k4o3i8g4_jpeg.rf.37d48b6e7770d656a7fdfbf311aa50c4.txt  \n",
      " extracting: train/labels/ck0ukjupkwhfa0944r6gu3mh8_jpeg.rf.1d0b41b95001867438a9867fda448ddb.txt  \n",
      " extracting: train/labels/ck0ukk30lwlt9070113ad7m2j_jpeg.rf.b11eceafee595fed74046181725c1d95.txt  \n",
      " extracting: train/labels/ck0ukkr2f8vml0848uyh1iw50_jpeg.rf.22c704f3f83a1947293534fb1cda1482.txt  \n",
      " extracting: train/labels/ck0ukkz8tytsn0721y70sud46_jpeg.rf.18cbd5352f166266b09e38e04afa7394.txt  \n",
      " extracting: train/labels/ck0uklx72wly70701px5wl6fw_jpeg.rf.cb1683418c777e1d072763d02d84465b.txt  \n",
      "   creating: valid/\n",
      "   creating: valid/images/\n",
      " extracting: valid/images/ck0k9aqm99o2o0721aml8qpqr_jpeg.rf.028c79a871f1964bd02ab8c4b5693e6d.jpg  \n",
      " extracting: valid/images/ck0k9dzyzirme0a46fhirxayi_jpeg.rf.595063b0fa6a501412d776c8f4d18b77.jpg  \n",
      " extracting: valid/images/ck0k9lqaz4ict0863typf3ngd_jpeg.rf.6a740fd0c445713ba9ab596507348319.jpg  \n",
      " extracting: valid/images/ck0kcko719xjn0721pujcl4if_jpeg.rf.1d67cb21acccca51457f05f350b961f5.jpg  \n",
      " extracting: valid/images/ck0kcnqqgk6li0848vp3bn5sx_jpeg.rf.461f5bbd8567d3bcae018ef74fc7577a.jpg  \n",
      " extracting: valid/images/ck0kcqhwf4qtf0863lv432phe_jpeg.rf.7f248e52ed50897c61674988a3d4a6c5.jpg  \n",
      " extracting: valid/images/ck0kd2lpc7kvu0944pq8xomg1_jpeg.rf.4ddea031f27434d712c6460f1de398a2.jpg  \n",
      " extracting: valid/images/ck0kdwh3o6akx0838c87v3jbu_jpeg.rf.cd8d10a97c432d2ced5e3936af32d70c.jpg  \n",
      " extracting: valid/images/ck0kewjljj9q20a46zd3hi5wl_jpeg.rf.769746ba2b4510f116ceeac1ff7fb7f2.jpg  \n",
      " extracting: valid/images/ck0kexd04j9w30a4628x0rzxi_jpeg.rf.6a174120a844ca0a1362c1ba4ce9dae5.jpg  \n",
      " extracting: valid/images/ck0kfm0ie6jf7083851froruk_jpeg.rf.8a836c6f48e18b716f74397b650fb8c8.jpg  \n",
      " extracting: valid/images/ck0kkhi2lb1b30721f7ltwn14_jpeg.rf.9f42dc2be9df8d044c78af835f631d80.jpg  \n",
      " extracting: valid/images/ck0kksymy5z9j0794x0i3rdvo_jpeg.rf.fd456fe4ab48c81800a19519d6b99ee9.jpg  \n",
      " extracting: valid/images/ck0kkta309jh807010cayyl5d_jpeg.rf.5477fdc05109b2e7b6994a918e9e4a1d.jpg  \n",
      " extracting: valid/images/ck0kkxngib3qh0721x6mgyttk_jpeg.rf.afb584262900b490af2914fa207e1231.jpg  \n",
      " extracting: valid/images/ck0kkz639le090848leseakdk_jpeg.rf.267b7bc17c741afa3ca592ad665bd127.jpg  \n",
      " extracting: valid/images/ck0kl2hwy5xu80863zi6j6gy4_jpeg.rf.ddccbaa04bde7122e10c81606113e0c8.jpg  \n",
      " extracting: valid/images/ck0km26n78w6b0944d8vapoyy_jpeg.rf.dca702237c131e91e5ff8aac7758251b.jpg  \n",
      " extracting: valid/images/ck0km4x1h672j0794gya4kfco_jpeg.rf.be683687d5e2a3dbc57c723064268dc3.jpg  \n",
      " extracting: valid/images/ck0km64lvbavu0721bhfm918u_jpeg.rf.0c0725e131840ffd52a94b2daa28d1a5.jpg  \n",
      " extracting: valid/images/ck0kmp3qy67dy08634jubsyx8_jpeg.rf.bc43299c892dc1bf312a387e30be3dbf.jpg  \n",
      " extracting: valid/images/ck0kn6xvv6ds10794waw8k1tx_jpeg.rf.45c0f9f2a5969746afccff92c29504b8.jpg  \n",
      " extracting: valid/images/ck0knae84lryw08485s94co4s_jpeg.rf.4152aedaab0aec6c19ddb649e8220097.jpg  \n",
      " extracting: valid/images/ck0l8culveaqb0721xkucococ_jpeg.rf.3c014d11d15df5d081b8e2646aa98d3e.jpg  \n",
      " extracting: valid/images/ck0l8drn7ahtr08388pnkoq7o_jpeg.rf.8d2ca8e98935e95bc0eb1140b6af2b7b.jpg  \n",
      " extracting: valid/images/ck0l9434gamzj0838n5rjdp1a_jpeg.rf.f34dcb5f9d087011d633219ce157d2ea.jpg  \n",
      " extracting: valid/images/ck0l95c8fegck072116xdbwp6_jpeg.rf.736faa47d133332358e2402abbc526f0.jpg  \n",
      " extracting: valid/images/ck0l967uheggs0721rz56fgry_jpeg.rf.f1c360b86b0c96c9b344ab26039a4189.jpg  \n",
      " extracting: valid/images/ck0l9fr16nhu20a46eqv4fvr8_jpeg.rf.d095d468665abbfcfc6ac5271b353dca.jpg  \n",
      " extracting: valid/images/ck0l9j6n6oqjo0848ps5blk3b_jpeg.rf.3d76bb206e4e360465219501507019c5.jpg  \n",
      " extracting: valid/images/ck0l9jo4f9eey0794uap3bxz6_jpeg.rf.11f4a3d2baf5a3be8938406c556ef229.jpg  \n",
      " extracting: valid/images/ck0l9y6snotc30848s7ciyz6j_jpeg.rf.de4f9e3037c2ccf5a9b22ca542412680.jpg  \n",
      " extracting: valid/images/ck0lwhatvfrid08386w2352zc_jpeg.rf.dacd120304e2ca7db373c2d1dabbf773.jpg  \n",
      " extracting: valid/images/ck0lwj354jo7n07218v6vgpvi_jpeg.rf.fc8902a56fee92645b70779e6e418ba6.jpg  \n",
      " extracting: valid/images/ck0lxaxgyeo150863mih7ypb7_jpeg.rf.dca30f8032e82112c6a2ce241de0d4d7.jpg  \n",
      " extracting: valid/images/ck0lxe157jywu0721jwuvnom0_jpeg.rf.5f5a4544cf28c60b90604ee45df40f53.jpg  \n",
      " extracting: valid/images/ck0lxh38zu5ri0848ra81j7ne_jpeg.rf.053a40bc4b01c6b1919eba1c31519126.jpg  \n",
      " extracting: valid/images/ck0lxi2vsiexh0701c7jcu934_jpeg.rf.aadfa69e5ab185de6dd6d9633dd8e964.jpg  \n",
      " extracting: valid/images/ck0lyhdgvtl1m0a46g6vawhau_jpeg.rf.39432d16b7de5df4361eda990593f43e.jpg  \n",
      " extracting: valid/images/ck0m0etrphwjo0838r9wzd6ia_jpeg.rf.3e69551d890c3a3e1e5b5dfe20c03220.jpg  \n",
      " extracting: valid/images/ck0m0fi9vgpgr0794ibqomk6e_jpeg.rf.28714f4122e30107d1ba2d92601e85d2.jpg  \n",
      " extracting: valid/images/ck0m14sd8vbk90a461shu6qbb_jpeg.rf.020c1c3376539f2a27fe0c17c35ad929.jpg  \n",
      " extracting: valid/images/ck0m1lu0nhb320863zyoofeiw_jpeg.rf.d1572810a2efaa39331be3bc04496e0f.jpg  \n",
      " extracting: valid/images/ck0na43fc1vfh0794pxban58i_jpeg.rf.615e23301c413804b4a02cee39907098.jpg  \n",
      " extracting: valid/images/ck0na55fy5b720701gr5xzev9_jpeg.rf.404b0004f131245c28e7c47769e09695.jpg  \n",
      " extracting: valid/images/ck0na7z5a7deh0721q2xhjvl6_jpeg.rf.d96638d5494b22dbba9a68683ae8523f.jpg  \n",
      " extracting: valid/images/ck0na8r4s7dor0721s8pn4uvo_jpeg.rf.efcbec0a9d4819657e1e9f50efec8f1a.jpg  \n",
      " extracting: valid/images/ck0nculry62mq0944n824zvzk_jpeg.rf.de8abeaa0043fe7af64f470b761f71ee.jpg  \n",
      " extracting: valid/images/ck0ncvnd332hj079400vhocib_jpeg.rf.01edcd18890b4b47784daa46af80c702.jpg  \n",
      " extracting: valid/images/ck0nd5toq009k0804lhknr6zt_jpeg.rf.7dbcdd37e0a5ddbbb3a5c9351577ae1f.jpg  \n",
      " extracting: valid/images/ck0nd794g00mz078022z17djb_jpeg.rf.4fce45b181dce1c7dff1fa4a93853169.jpg  \n",
      " extracting: valid/images/ck0ndqvn48v820721miq46qnl_jpeg.rf.372657353a99f3face1420407c427833.jpg  \n",
      " extracting: valid/images/ck0ndrnhi3fkn0794vbn53c08_jpeg.rf.00da459deaa785a516b03af232546618.jpg  \n",
      " extracting: valid/images/ck0ndu6n1059n0738t860ip47_jpeg.rf.33e4538bdf5485b061730ec0ff6e7b10.jpg  \n",
      " extracting: valid/images/ck0negbgs3uhi0794nkdvb6zi_jpeg.rf.a656faf516396e2b8f72d36c3d9024f0.jpg  \n",
      " extracting: valid/images/ck0neurvn42jv0794al16dzhw_jpeg.rf.d894dea0f83b1c2cb32bfe7d12575115.jpg  \n",
      " extracting: valid/images/ck0nevwgw73ne094401pqo8zp_jpeg.rf.6afb2f6c249a5ab268fd7a8b61b29ea0.jpg  \n",
      " extracting: valid/images/ck0nf44ililfz0a469cimeiu1_jpeg.rf.7e434bcb0feeb390e756630dcc84add0.jpg  \n",
      " extracting: valid/images/ck0nfobvt4msi07944oj7bzx6_jpeg.rf.75aeb95413f2c1471c857ff8b104fc1c.jpg  \n",
      " extracting: valid/images/ck0nfq2hsj1ro0a46o4gncg6r_jpeg.rf.cf37f869ea810dc8beaa5a20ee1810ba.jpg  \n",
      " extracting: valid/images/ck0ng67nbkhul0848gacp299b_jpeg.rf.501679d0dc13efc689d1b239b7a8a4d6.jpg  \n",
      " extracting: valid/images/ck0ngmuykjkh80a46a5qzv263_jpeg.rf.6bb3f531365367bd777a69128685e921.jpg  \n",
      " extracting: valid/images/ck0oul6eyrpa408637g72xnc4_jpeg.rf.3f29d39568b622b1be088c6944cf2a65.jpg  \n",
      " extracting: valid/images/ck0ouldkdrpic086327fu1wjk_jpeg.rf.3b69ecc4802bb2aa59f78f6526e9a727.jpg  \n",
      " extracting: valid/images/ck0ovnfap7g9u0848nlx6v59i_jpeg.rf.99cc5bd619a8c7a0a49e7a13b92b3e47.jpg  \n",
      " extracting: valid/images/ck0ovrdff7ir20848kelskyn8_jpeg.rf.1424f9ef8aad1bb4eb744770e709807f.jpg  \n",
      " extracting: valid/images/ck0ow39yt6j650a4633r8lu2g_jpeg.rf.0ff9229e05a7de5be42b478cd2eece5f.jpg  \n",
      " extracting: valid/images/ck0owog84vf1d0701sbf84fw6_jpeg.rf.23520b25c8438e04b437470b98686092.jpg  \n",
      " extracting: valid/images/ck0qb78lnsvjg0a46r1s6hxr1_jpeg.rf.273aca54132771c4373e51a94c697296.jpg  \n",
      " extracting: valid/images/ck0qbnoibg4ip0838na1tnqe8_jpeg.rf.ad378d67cf01636d2da92c6b7dd6c24d.jpg  \n",
      " extracting: valid/images/ck0qc6vn5htmh07016mtpli3w_jpeg.rf.e60499ad03ff2bd4bcb8317019bea8e6.jpg  \n",
      " extracting: valid/images/ck0qc86fnk6ox0721cb5kg3tl_jpeg.rf.997509bdbd74c9831b2bbc99373adb6f.jpg  \n",
      " extracting: valid/images/ck0qdeht7feba0794xskx01vd_jpeg.rf.d9915a67ae11f8d2f1e3851c21897b2e.jpg  \n",
      " extracting: valid/images/ck0qdhfh1uks20848pclbrty6_jpeg.rf.4d74288e60603e3d85f6410a6c32ea2a.jpg  \n",
      " extracting: valid/images/ck0rp4r7382md0721515r9ll0_jpeg.rf.6d3abd881fbf176850c4e73b4de2c96f.jpg  \n",
      " extracting: valid/images/ck0rp6q4583zz0721mrh6corb_jpeg.rf.6c9057672080ed7dbaadd8800ec48864.jpg  \n",
      " extracting: valid/images/ck0rp6xx53tvu0863dmbu45el_jpeg.rf.c6144f10939075dca1fe3b02fd34e2f9.jpg  \n",
      " extracting: valid/images/ck0rplig25z1n0944kpecwx3o_jpeg.rf.b722d566aa6aed2e9d6f2fefee001800.jpg  \n",
      " extracting: valid/images/ck0rqiv7l57ak0838i1l3rovg_jpeg.rf.e3446fdfb49bc8a12fdc5e08d1896379.jpg  \n",
      " extracting: valid/images/ck0rqjda68xrv07215zq41dpi_jpeg.rf.9f9fa0af9f30e2a38357b71670c6e210.jpg  \n",
      " extracting: valid/images/ck0rqjl29ibr20a46351u8ys5_jpeg.rf.4601cbf84aae3beb62f3c0c3ac40ae7b.jpg  \n",
      " extracting: valid/images/ck0rqlovu6jid0944lyedc9vj_jpeg.rf.fcfe421299b5647b6bf65dc598a0f152.jpg  \n",
      " extracting: valid/images/ck0rqqw9o6t8x07017cthtiom_jpeg.rf.4088a201b80151166dc8c550136b239f.jpg  \n",
      " extracting: valid/images/ck0rqzwam6rx20944o5eby5wd_jpeg.rf.8b89d2297e8a6b44294fc73ee9bc6c74.jpg  \n",
      " extracting: valid/images/ck0rr0ik14xk30863c291xijp_jpeg.rf.3c70093e86be1cc8829314752cdf5fb8.jpg  \n",
      " extracting: valid/images/ck0rr5vjd72og0701evwv8adg_jpeg.rf.d94e1d8dfa3e0ea7b62650fd9684e677.jpg  \n",
      " extracting: valid/images/ck0rr6kut5kx30838ethvdv5u_jpeg.rf.ffc29757cca1e5b43342f26a45b75680.jpg  \n",
      " extracting: valid/images/ck0t22nfcmwoj0701cj69tol6_jpeg.rf.ff89be120014bf39f48fade3791dc7c5.jpg  \n",
      " extracting: valid/images/ck0t2b97en04q0701ndyfepcr_jpeg.rf.ac281f6d5078708c7bca258d12259f9d.jpg  \n",
      " extracting: valid/images/ck0t2zw8elp2f0838ve84hm51_jpeg.rf.0a0d7134b3b6d03aa9e160080a3d70a7.jpg  \n",
      " extracting: valid/images/ck0t30z1wlpg60838dc6e4lcx_jpeg.rf.d04e3521ec190c980d01cdf80d00183d.jpg  \n",
      " extracting: valid/images/ck0t3m8z9z2js0a46b4ije63c_jpeg.rf.e2112bcdb1c4abf9c43d9275d3989ecf.jpg  \n",
      " extracting: valid/images/ck0t4mzl8ljds0863b0iswyfc_jpeg.rf.8199d7ed9b0e3dd7ed0ec1dcc90ca7f8.jpg  \n",
      " extracting: valid/images/ck0t4rrmsnjuy0944xt22ilg4_jpeg.rf.a8491d83b504197be76828935e6ea28e.jpg  \n",
      " extracting: valid/images/ck0t51xn3ns6t0701kue9baog_jpeg.rf.912654b44c63fb88e58c1dfb8c6292ca.jpg  \n",
      " extracting: valid/images/ck0t5sc8zo0px0944bab8o9n5_jpeg.rf.ed24a673bc38059b81e9b1cb7f87490f.jpg  \n",
      " extracting: valid/images/ck0t5t7ggo1650944q3cyegrd_jpeg.rf.71a993e873fb5ec17c624af24896f3f2.jpg  \n",
      " extracting: valid/images/ck0t5vqyazukh0a46v2hq9td6_jpeg.rf.e8d670c6548575aa1de98681d3de8f37.jpg  \n",
      " extracting: valid/images/ck0t6epc3ql720721yfbt878q_jpeg.rf.74358bee8f6f711ca90418354e56ca5f.jpg  \n",
      " extracting: valid/images/ck0t6flogo9bb094428fjegnm_jpeg.rf.24968f0ebefd06b8cbfc6efe4ef43e2a.jpg  \n",
      " extracting: valid/images/ck0t6p0chogef0701xhns6ujk_jpeg.rf.b11827418b3f4889727a8856ea298e76.jpg  \n",
      " extracting: valid/images/ck0t6yokymh1c0863qvlkbezb_jpeg.rf.af13bc05cce4474cbfac3ce1d2f18590.jpg  \n",
      " extracting: valid/images/ck0t7cnx9n84208386ufrbnj2_jpeg.rf.603ef7c7810b2ee2d60c20c1ccc7c410.jpg  \n",
      " extracting: valid/images/ck0tstact5eu60a46dakdr243_jpeg.rf.8cb8d173737e3db374506471fdf2f570.jpg  \n",
      " extracting: valid/images/ck0tswp1wtrfp0701idogph92_jpeg.rf.48f2ec4e96cbd6f8f5ab8543a1c6c64b.jpg  \n",
      " extracting: valid/images/ck0tt28fjsc1i0838s2ji5dhe_jpeg.rf.c3f4f27777b611db32c5217e26c8ccfd.jpg  \n",
      " extracting: valid/images/ck0tt2r6arrbl0863z4d7kz9g_jpeg.rf.056c467466b04d503546e788c565ee40.jpg  \n",
      " extracting: valid/images/ck0twempn5ur80a462q4bosuo_jpeg.rf.b42b86f1d34e6ac63047f2a363717eb5.jpg  \n",
      " extracting: valid/images/ck0twvkofr3wr0794xzv7br97_jpeg.rf.5539dbf6f306192f82b33bbe35aba242.jpg  \n",
      " extracting: valid/images/ck0twxu2f5xaj0a4648ury7hi_jpeg.rf.2a18a944178a760516a8a91860fb9934.jpg  \n",
      " extracting: valid/images/ck0twzaqtua2r0701hljesqvp_jpeg.rf.d7b7d7f014c611797e0b7de4e671d677.jpg  \n",
      " extracting: valid/images/ck0twzjvps8kb0863yht85hg8_jpeg.rf.48b5f89f41a83f725b1d339d1436f1ef.jpg  \n",
      " extracting: valid/images/ck0tx0999u6br0944s68atde0_jpeg.rf.0e5c93b75738cfc13558447f20a363cf.jpg  \n",
      " extracting: valid/images/ck0tx2mh0r4wk079479dvqbfl_jpeg.rf.cc995ca6a940ed03b0658b06190fa3d5.jpg  \n",
      " extracting: valid/images/ck0txbqlewjuv0721agjyhu78_jpeg.rf.4ae962b80ae40a97c44474b1c5bf8552.jpg  \n",
      " extracting: valid/images/ck0txrr4nswy40838d5s9tydp_jpeg.rf.550807706ebc58677813213acefcb8b2.jpg  \n",
      " extracting: valid/images/ck0txvtlisck20863fbb7u1gc_jpeg.rf.1437edb3301d4a0f88b143ccf99e6ec6.jpg  \n",
      " extracting: valid/images/ck0txxd8f6p0l08484tupben9_jpeg.rf.d0f6adf1317f2ca3ff2d9cf7fa31aa1b.jpg  \n",
      " extracting: valid/images/ck0tyhb0zszbr0838w1dyisjw_jpeg.rf.3b4b066a73ee310e6777e160cf5db091.jpg  \n",
      " extracting: valid/images/ck0tyk5ussex90863mbb4h9of_jpeg.rf.cef68a0c31485c36ad5ace1aaebfeacb.jpg  \n",
      " extracting: valid/images/ck0tyojsawouz0721wteyaxe4_jpeg.rf.88f3e4ec8f574a223416cc5cc47a1996.jpg  \n",
      " extracting: valid/images/ck0tyoro0uhpt0701sbzpdha0_jpeg.rf.3a1002e8bb11f0a4b28d7214e78e9fb4.jpg  \n",
      " extracting: valid/images/ck0tyv5y2wpox0721volr4z26_jpeg.rf.84155e1e7ab452294ff9be2cfdc3226f.jpg  \n",
      " extracting: valid/images/ck0tyvn3lwprq0721btsf3icr_jpeg.rf.776ca1fd987ef673ef3e481b21684525.jpg  \n",
      " extracting: valid/images/ck0tzinm26vvi0848hrzkprh2_jpeg.rf.8c764735a9990557e147153fcd4506ce.jpg  \n",
      " extracting: valid/images/ck0u00a7o6ask0a467afyogi5_jpeg.rf.21a70a87ad642ad0a69887527c397ff3.jpg  \n",
      " extracting: valid/images/ck0u00wpmuoae0701e4j4rgq4_jpeg.rf.c1eb8cdfeb7bc01ecf3823cce33b960c.jpg  \n",
      " extracting: valid/images/ck0u030x8uono0701kp4dvddz_jpeg.rf.ad0573bf20a8d7dd98be12a62fdcacf4.jpg  \n",
      " extracting: valid/images/ck0u086m36ca30a46uxou346g_jpeg.rf.d5df3dcc3c28ca226484ddd7aca37298.jpg  \n",
      " extracting: valid/images/ck0u09p0z70h60848av5vdh7v_jpeg.rf.78409e4eaeaf919bb93c444d2fdf0aae.jpg  \n",
      " extracting: valid/images/ck0u0fzglungw0944luype68g_jpeg.rf.72dd483404428808af29d85476e3c964.jpg  \n",
      " extracting: valid/images/ck0u0hs5pwywo0721zyjfy75h_jpeg.rf.94968a8f5354d89843e03cd41dca6fac.jpg  \n",
      " extracting: valid/images/ck0u0m0dqtaz70838kcm0o9w3_jpeg.rf.18bc37d578299e69072fb85c71c3c445.jpg  \n",
      " extracting: valid/images/ck0u0p0aix0240721eyb5n57o_jpeg.rf.e2b4c536158fc3365a9e8314f491c27e.jpg  \n",
      " extracting: valid/images/ck0u0raa96fpd0a46z626vh9b_jpeg.rf.5842bd880da3c2c2dfb849d575d967a5.jpg  \n",
      " extracting: valid/images/ck0u12y7v75dn0848omjgbtgs_jpeg.rf.9086814e27617dfb536f6b2349f24f92.jpg  \n",
      " extracting: valid/images/ck0u13xaxuv4k07010miwxisb_jpeg.rf.1d129e634e059f36fccf0b4ee8b46fed.jpg  \n",
      " extracting: valid/images/ck0u96z1nxzlx0721hdcmet81_jpeg.rf.2850df46aab5f3a950ff875f5351db8b.jpg  \n",
      " extracting: valid/images/ck0ug28sbusje083872me6leq_jpeg.rf.9a06c74cba3e847b305b34dc60c2fc24.jpg  \n",
      " extracting: valid/images/ck0uiwjhb843y0a46w2o985sl_jpeg.rf.25be775b2550b1c8db31461381184496.jpg  \n",
      " extracting: valid/images/ck0ujedh4wiln0701x3dugshl_jpeg.rf.a4026fd323930b246ccec57f4aa53cdf.jpg  \n",
      " extracting: valid/images/ck0ujob3n85zc0a46r0pdmhoy_jpeg.rf.6afc92c99814d4f4d59f7b1784507dd5.jpg  \n",
      " extracting: valid/images/ck0ujvlapv2j60838394p7rtf_jpeg.rf.c32cc5d640642b9142690c913a84b017.jpg  \n",
      " extracting: valid/images/ck0ujxwiv8tpa0848i4mm92da_jpeg.rf.f02746963b70948ea93bb823ce55ec26.jpg  \n",
      " extracting: valid/images/ck0uk19kvwftk0944hsc0vul0_jpeg.rf.154e4e24cb17837e919a5290bc7ad896.jpg  \n",
      " extracting: valid/images/ck0ukh756v4e308383pqia4e4_jpeg.rf.b0e5400cd908a2ff2798639d53133402.jpg  \n",
      " extracting: valid/images/ck0uki6ppytkz0721bttibej8_jpeg.rf.10295fd24970e780bf4c2c645bc2ea49.jpg  \n",
      "   creating: valid/labels/\n",
      " extracting: valid/labels/ck0k9aqm99o2o0721aml8qpqr_jpeg.rf.028c79a871f1964bd02ab8c4b5693e6d.txt  \n",
      " extracting: valid/labels/ck0k9dzyzirme0a46fhirxayi_jpeg.rf.595063b0fa6a501412d776c8f4d18b77.txt  \n",
      " extracting: valid/labels/ck0k9lqaz4ict0863typf3ngd_jpeg.rf.6a740fd0c445713ba9ab596507348319.txt  \n",
      " extracting: valid/labels/ck0kcko719xjn0721pujcl4if_jpeg.rf.1d67cb21acccca51457f05f350b961f5.txt  \n",
      " extracting: valid/labels/ck0kcnqqgk6li0848vp3bn5sx_jpeg.rf.461f5bbd8567d3bcae018ef74fc7577a.txt  \n",
      " extracting: valid/labels/ck0kcqhwf4qtf0863lv432phe_jpeg.rf.7f248e52ed50897c61674988a3d4a6c5.txt  \n",
      " extracting: valid/labels/ck0kd2lpc7kvu0944pq8xomg1_jpeg.rf.4ddea031f27434d712c6460f1de398a2.txt  \n",
      " extracting: valid/labels/ck0kdwh3o6akx0838c87v3jbu_jpeg.rf.cd8d10a97c432d2ced5e3936af32d70c.txt  \n",
      " extracting: valid/labels/ck0kewjljj9q20a46zd3hi5wl_jpeg.rf.769746ba2b4510f116ceeac1ff7fb7f2.txt  \n",
      " extracting: valid/labels/ck0kexd04j9w30a4628x0rzxi_jpeg.rf.6a174120a844ca0a1362c1ba4ce9dae5.txt  \n",
      " extracting: valid/labels/ck0kfm0ie6jf7083851froruk_jpeg.rf.8a836c6f48e18b716f74397b650fb8c8.txt  \n",
      " extracting: valid/labels/ck0kkhi2lb1b30721f7ltwn14_jpeg.rf.9f42dc2be9df8d044c78af835f631d80.txt  \n",
      " extracting: valid/labels/ck0kksymy5z9j0794x0i3rdvo_jpeg.rf.fd456fe4ab48c81800a19519d6b99ee9.txt  \n",
      " extracting: valid/labels/ck0kkta309jh807010cayyl5d_jpeg.rf.5477fdc05109b2e7b6994a918e9e4a1d.txt  \n",
      " extracting: valid/labels/ck0kkxngib3qh0721x6mgyttk_jpeg.rf.afb584262900b490af2914fa207e1231.txt  \n",
      " extracting: valid/labels/ck0kkz639le090848leseakdk_jpeg.rf.267b7bc17c741afa3ca592ad665bd127.txt  \n",
      " extracting: valid/labels/ck0kl2hwy5xu80863zi6j6gy4_jpeg.rf.ddccbaa04bde7122e10c81606113e0c8.txt  \n",
      " extracting: valid/labels/ck0km26n78w6b0944d8vapoyy_jpeg.rf.dca702237c131e91e5ff8aac7758251b.txt  \n",
      " extracting: valid/labels/ck0km4x1h672j0794gya4kfco_jpeg.rf.be683687d5e2a3dbc57c723064268dc3.txt  \n",
      " extracting: valid/labels/ck0km64lvbavu0721bhfm918u_jpeg.rf.0c0725e131840ffd52a94b2daa28d1a5.txt  \n",
      " extracting: valid/labels/ck0kmp3qy67dy08634jubsyx8_jpeg.rf.bc43299c892dc1bf312a387e30be3dbf.txt  \n",
      " extracting: valid/labels/ck0kn6xvv6ds10794waw8k1tx_jpeg.rf.45c0f9f2a5969746afccff92c29504b8.txt  \n",
      " extracting: valid/labels/ck0knae84lryw08485s94co4s_jpeg.rf.4152aedaab0aec6c19ddb649e8220097.txt  \n",
      " extracting: valid/labels/ck0l8culveaqb0721xkucococ_jpeg.rf.3c014d11d15df5d081b8e2646aa98d3e.txt  \n",
      " extracting: valid/labels/ck0l8drn7ahtr08388pnkoq7o_jpeg.rf.8d2ca8e98935e95bc0eb1140b6af2b7b.txt  \n",
      " extracting: valid/labels/ck0l9434gamzj0838n5rjdp1a_jpeg.rf.f34dcb5f9d087011d633219ce157d2ea.txt  \n",
      " extracting: valid/labels/ck0l95c8fegck072116xdbwp6_jpeg.rf.736faa47d133332358e2402abbc526f0.txt  \n",
      " extracting: valid/labels/ck0l967uheggs0721rz56fgry_jpeg.rf.f1c360b86b0c96c9b344ab26039a4189.txt  \n",
      " extracting: valid/labels/ck0l9fr16nhu20a46eqv4fvr8_jpeg.rf.d095d468665abbfcfc6ac5271b353dca.txt  \n",
      " extracting: valid/labels/ck0l9j6n6oqjo0848ps5blk3b_jpeg.rf.3d76bb206e4e360465219501507019c5.txt  \n",
      " extracting: valid/labels/ck0l9jo4f9eey0794uap3bxz6_jpeg.rf.11f4a3d2baf5a3be8938406c556ef229.txt  \n",
      " extracting: valid/labels/ck0l9y6snotc30848s7ciyz6j_jpeg.rf.de4f9e3037c2ccf5a9b22ca542412680.txt  \n",
      " extracting: valid/labels/ck0lwhatvfrid08386w2352zc_jpeg.rf.dacd120304e2ca7db373c2d1dabbf773.txt  \n",
      " extracting: valid/labels/ck0lwj354jo7n07218v6vgpvi_jpeg.rf.fc8902a56fee92645b70779e6e418ba6.txt  \n",
      " extracting: valid/labels/ck0lxaxgyeo150863mih7ypb7_jpeg.rf.dca30f8032e82112c6a2ce241de0d4d7.txt  \n",
      " extracting: valid/labels/ck0lxe157jywu0721jwuvnom0_jpeg.rf.5f5a4544cf28c60b90604ee45df40f53.txt  \n",
      " extracting: valid/labels/ck0lxh38zu5ri0848ra81j7ne_jpeg.rf.053a40bc4b01c6b1919eba1c31519126.txt  \n",
      " extracting: valid/labels/ck0lxi2vsiexh0701c7jcu934_jpeg.rf.aadfa69e5ab185de6dd6d9633dd8e964.txt  \n",
      " extracting: valid/labels/ck0lyhdgvtl1m0a46g6vawhau_jpeg.rf.39432d16b7de5df4361eda990593f43e.txt  \n",
      " extracting: valid/labels/ck0m0etrphwjo0838r9wzd6ia_jpeg.rf.3e69551d890c3a3e1e5b5dfe20c03220.txt  \n",
      " extracting: valid/labels/ck0m0fi9vgpgr0794ibqomk6e_jpeg.rf.28714f4122e30107d1ba2d92601e85d2.txt  \n",
      " extracting: valid/labels/ck0m14sd8vbk90a461shu6qbb_jpeg.rf.020c1c3376539f2a27fe0c17c35ad929.txt  \n",
      " extracting: valid/labels/ck0m1lu0nhb320863zyoofeiw_jpeg.rf.d1572810a2efaa39331be3bc04496e0f.txt  \n",
      " extracting: valid/labels/ck0na43fc1vfh0794pxban58i_jpeg.rf.615e23301c413804b4a02cee39907098.txt  \n",
      " extracting: valid/labels/ck0na55fy5b720701gr5xzev9_jpeg.rf.404b0004f131245c28e7c47769e09695.txt  \n",
      " extracting: valid/labels/ck0na7z5a7deh0721q2xhjvl6_jpeg.rf.d96638d5494b22dbba9a68683ae8523f.txt  \n",
      " extracting: valid/labels/ck0na8r4s7dor0721s8pn4uvo_jpeg.rf.efcbec0a9d4819657e1e9f50efec8f1a.txt  \n",
      " extracting: valid/labels/ck0nculry62mq0944n824zvzk_jpeg.rf.de8abeaa0043fe7af64f470b761f71ee.txt  \n",
      " extracting: valid/labels/ck0ncvnd332hj079400vhocib_jpeg.rf.01edcd18890b4b47784daa46af80c702.txt  \n",
      " extracting: valid/labels/ck0nd5toq009k0804lhknr6zt_jpeg.rf.7dbcdd37e0a5ddbbb3a5c9351577ae1f.txt  \n",
      " extracting: valid/labels/ck0nd794g00mz078022z17djb_jpeg.rf.4fce45b181dce1c7dff1fa4a93853169.txt  \n",
      " extracting: valid/labels/ck0ndqvn48v820721miq46qnl_jpeg.rf.372657353a99f3face1420407c427833.txt  \n",
      " extracting: valid/labels/ck0ndrnhi3fkn0794vbn53c08_jpeg.rf.00da459deaa785a516b03af232546618.txt  \n",
      " extracting: valid/labels/ck0ndu6n1059n0738t860ip47_jpeg.rf.33e4538bdf5485b061730ec0ff6e7b10.txt  \n",
      " extracting: valid/labels/ck0negbgs3uhi0794nkdvb6zi_jpeg.rf.a656faf516396e2b8f72d36c3d9024f0.txt  \n",
      " extracting: valid/labels/ck0neurvn42jv0794al16dzhw_jpeg.rf.d894dea0f83b1c2cb32bfe7d12575115.txt  \n",
      " extracting: valid/labels/ck0nevwgw73ne094401pqo8zp_jpeg.rf.6afb2f6c249a5ab268fd7a8b61b29ea0.txt  \n",
      " extracting: valid/labels/ck0nf44ililfz0a469cimeiu1_jpeg.rf.7e434bcb0feeb390e756630dcc84add0.txt  \n",
      " extracting: valid/labels/ck0nfobvt4msi07944oj7bzx6_jpeg.rf.75aeb95413f2c1471c857ff8b104fc1c.txt  \n",
      " extracting: valid/labels/ck0nfq2hsj1ro0a46o4gncg6r_jpeg.rf.cf37f869ea810dc8beaa5a20ee1810ba.txt  \n",
      " extracting: valid/labels/ck0ng67nbkhul0848gacp299b_jpeg.rf.501679d0dc13efc689d1b239b7a8a4d6.txt  \n",
      " extracting: valid/labels/ck0ngmuykjkh80a46a5qzv263_jpeg.rf.6bb3f531365367bd777a69128685e921.txt  \n",
      " extracting: valid/labels/ck0oul6eyrpa408637g72xnc4_jpeg.rf.3f29d39568b622b1be088c6944cf2a65.txt  \n",
      " extracting: valid/labels/ck0ouldkdrpic086327fu1wjk_jpeg.rf.3b69ecc4802bb2aa59f78f6526e9a727.txt  \n",
      " extracting: valid/labels/ck0ovnfap7g9u0848nlx6v59i_jpeg.rf.99cc5bd619a8c7a0a49e7a13b92b3e47.txt  \n",
      " extracting: valid/labels/ck0ovrdff7ir20848kelskyn8_jpeg.rf.1424f9ef8aad1bb4eb744770e709807f.txt  \n",
      " extracting: valid/labels/ck0ow39yt6j650a4633r8lu2g_jpeg.rf.0ff9229e05a7de5be42b478cd2eece5f.txt  \n",
      " extracting: valid/labels/ck0owog84vf1d0701sbf84fw6_jpeg.rf.23520b25c8438e04b437470b98686092.txt  \n",
      " extracting: valid/labels/ck0qb78lnsvjg0a46r1s6hxr1_jpeg.rf.273aca54132771c4373e51a94c697296.txt  \n",
      " extracting: valid/labels/ck0qbnoibg4ip0838na1tnqe8_jpeg.rf.ad378d67cf01636d2da92c6b7dd6c24d.txt  \n",
      " extracting: valid/labels/ck0qc6vn5htmh07016mtpli3w_jpeg.rf.e60499ad03ff2bd4bcb8317019bea8e6.txt  \n",
      " extracting: valid/labels/ck0qc86fnk6ox0721cb5kg3tl_jpeg.rf.997509bdbd74c9831b2bbc99373adb6f.txt  \n",
      " extracting: valid/labels/ck0qdeht7feba0794xskx01vd_jpeg.rf.d9915a67ae11f8d2f1e3851c21897b2e.txt  \n",
      " extracting: valid/labels/ck0qdhfh1uks20848pclbrty6_jpeg.rf.4d74288e60603e3d85f6410a6c32ea2a.txt  \n",
      " extracting: valid/labels/ck0rp4r7382md0721515r9ll0_jpeg.rf.6d3abd881fbf176850c4e73b4de2c96f.txt  \n",
      " extracting: valid/labels/ck0rp6q4583zz0721mrh6corb_jpeg.rf.6c9057672080ed7dbaadd8800ec48864.txt  \n",
      " extracting: valid/labels/ck0rp6xx53tvu0863dmbu45el_jpeg.rf.c6144f10939075dca1fe3b02fd34e2f9.txt  \n",
      " extracting: valid/labels/ck0rplig25z1n0944kpecwx3o_jpeg.rf.b722d566aa6aed2e9d6f2fefee001800.txt  \n",
      " extracting: valid/labels/ck0rqiv7l57ak0838i1l3rovg_jpeg.rf.e3446fdfb49bc8a12fdc5e08d1896379.txt  \n",
      " extracting: valid/labels/ck0rqjda68xrv07215zq41dpi_jpeg.rf.9f9fa0af9f30e2a38357b71670c6e210.txt  \n",
      " extracting: valid/labels/ck0rqjl29ibr20a46351u8ys5_jpeg.rf.4601cbf84aae3beb62f3c0c3ac40ae7b.txt  \n",
      " extracting: valid/labels/ck0rqlovu6jid0944lyedc9vj_jpeg.rf.fcfe421299b5647b6bf65dc598a0f152.txt  \n",
      " extracting: valid/labels/ck0rqqw9o6t8x07017cthtiom_jpeg.rf.4088a201b80151166dc8c550136b239f.txt  \n",
      " extracting: valid/labels/ck0rqzwam6rx20944o5eby5wd_jpeg.rf.8b89d2297e8a6b44294fc73ee9bc6c74.txt  \n",
      " extracting: valid/labels/ck0rr0ik14xk30863c291xijp_jpeg.rf.3c70093e86be1cc8829314752cdf5fb8.txt  \n",
      " extracting: valid/labels/ck0rr5vjd72og0701evwv8adg_jpeg.rf.d94e1d8dfa3e0ea7b62650fd9684e677.txt  \n",
      " extracting: valid/labels/ck0rr6kut5kx30838ethvdv5u_jpeg.rf.ffc29757cca1e5b43342f26a45b75680.txt  \n",
      " extracting: valid/labels/ck0t22nfcmwoj0701cj69tol6_jpeg.rf.ff89be120014bf39f48fade3791dc7c5.txt  \n",
      " extracting: valid/labels/ck0t2b97en04q0701ndyfepcr_jpeg.rf.ac281f6d5078708c7bca258d12259f9d.txt  \n",
      " extracting: valid/labels/ck0t2zw8elp2f0838ve84hm51_jpeg.rf.0a0d7134b3b6d03aa9e160080a3d70a7.txt  \n",
      " extracting: valid/labels/ck0t30z1wlpg60838dc6e4lcx_jpeg.rf.d04e3521ec190c980d01cdf80d00183d.txt  \n",
      " extracting: valid/labels/ck0t3m8z9z2js0a46b4ije63c_jpeg.rf.e2112bcdb1c4abf9c43d9275d3989ecf.txt  \n",
      " extracting: valid/labels/ck0t4mzl8ljds0863b0iswyfc_jpeg.rf.8199d7ed9b0e3dd7ed0ec1dcc90ca7f8.txt  \n",
      " extracting: valid/labels/ck0t4rrmsnjuy0944xt22ilg4_jpeg.rf.a8491d83b504197be76828935e6ea28e.txt  \n",
      " extracting: valid/labels/ck0t51xn3ns6t0701kue9baog_jpeg.rf.912654b44c63fb88e58c1dfb8c6292ca.txt  \n",
      " extracting: valid/labels/ck0t5sc8zo0px0944bab8o9n5_jpeg.rf.ed24a673bc38059b81e9b1cb7f87490f.txt  \n",
      " extracting: valid/labels/ck0t5t7ggo1650944q3cyegrd_jpeg.rf.71a993e873fb5ec17c624af24896f3f2.txt  \n",
      " extracting: valid/labels/ck0t5vqyazukh0a46v2hq9td6_jpeg.rf.e8d670c6548575aa1de98681d3de8f37.txt  \n",
      " extracting: valid/labels/ck0t6epc3ql720721yfbt878q_jpeg.rf.74358bee8f6f711ca90418354e56ca5f.txt  \n",
      " extracting: valid/labels/ck0t6flogo9bb094428fjegnm_jpeg.rf.24968f0ebefd06b8cbfc6efe4ef43e2a.txt  \n",
      " extracting: valid/labels/ck0t6p0chogef0701xhns6ujk_jpeg.rf.b11827418b3f4889727a8856ea298e76.txt  \n",
      " extracting: valid/labels/ck0t6yokymh1c0863qvlkbezb_jpeg.rf.af13bc05cce4474cbfac3ce1d2f18590.txt  \n",
      " extracting: valid/labels/ck0t7cnx9n84208386ufrbnj2_jpeg.rf.603ef7c7810b2ee2d60c20c1ccc7c410.txt  \n",
      " extracting: valid/labels/ck0tstact5eu60a46dakdr243_jpeg.rf.8cb8d173737e3db374506471fdf2f570.txt  \n",
      " extracting: valid/labels/ck0tswp1wtrfp0701idogph92_jpeg.rf.48f2ec4e96cbd6f8f5ab8543a1c6c64b.txt  \n",
      " extracting: valid/labels/ck0tt28fjsc1i0838s2ji5dhe_jpeg.rf.c3f4f27777b611db32c5217e26c8ccfd.txt  \n",
      " extracting: valid/labels/ck0tt2r6arrbl0863z4d7kz9g_jpeg.rf.056c467466b04d503546e788c565ee40.txt  \n",
      " extracting: valid/labels/ck0twempn5ur80a462q4bosuo_jpeg.rf.b42b86f1d34e6ac63047f2a363717eb5.txt  \n",
      " extracting: valid/labels/ck0twvkofr3wr0794xzv7br97_jpeg.rf.5539dbf6f306192f82b33bbe35aba242.txt  \n",
      " extracting: valid/labels/ck0twxu2f5xaj0a4648ury7hi_jpeg.rf.2a18a944178a760516a8a91860fb9934.txt  \n",
      " extracting: valid/labels/ck0twzaqtua2r0701hljesqvp_jpeg.rf.d7b7d7f014c611797e0b7de4e671d677.txt  \n",
      " extracting: valid/labels/ck0twzjvps8kb0863yht85hg8_jpeg.rf.48b5f89f41a83f725b1d339d1436f1ef.txt  \n",
      " extracting: valid/labels/ck0tx0999u6br0944s68atde0_jpeg.rf.0e5c93b75738cfc13558447f20a363cf.txt  \n",
      " extracting: valid/labels/ck0tx2mh0r4wk079479dvqbfl_jpeg.rf.cc995ca6a940ed03b0658b06190fa3d5.txt  \n",
      " extracting: valid/labels/ck0txbqlewjuv0721agjyhu78_jpeg.rf.4ae962b80ae40a97c44474b1c5bf8552.txt  \n",
      " extracting: valid/labels/ck0txrr4nswy40838d5s9tydp_jpeg.rf.550807706ebc58677813213acefcb8b2.txt  \n",
      " extracting: valid/labels/ck0txvtlisck20863fbb7u1gc_jpeg.rf.1437edb3301d4a0f88b143ccf99e6ec6.txt  \n",
      " extracting: valid/labels/ck0txxd8f6p0l08484tupben9_jpeg.rf.d0f6adf1317f2ca3ff2d9cf7fa31aa1b.txt  \n",
      " extracting: valid/labels/ck0tyhb0zszbr0838w1dyisjw_jpeg.rf.3b4b066a73ee310e6777e160cf5db091.txt  \n",
      " extracting: valid/labels/ck0tyk5ussex90863mbb4h9of_jpeg.rf.cef68a0c31485c36ad5ace1aaebfeacb.txt  \n",
      " extracting: valid/labels/ck0tyojsawouz0721wteyaxe4_jpeg.rf.88f3e4ec8f574a223416cc5cc47a1996.txt  \n",
      " extracting: valid/labels/ck0tyoro0uhpt0701sbzpdha0_jpeg.rf.3a1002e8bb11f0a4b28d7214e78e9fb4.txt  \n",
      " extracting: valid/labels/ck0tyv5y2wpox0721volr4z26_jpeg.rf.84155e1e7ab452294ff9be2cfdc3226f.txt  \n",
      " extracting: valid/labels/ck0tyvn3lwprq0721btsf3icr_jpeg.rf.776ca1fd987ef673ef3e481b21684525.txt  \n",
      " extracting: valid/labels/ck0tzinm26vvi0848hrzkprh2_jpeg.rf.8c764735a9990557e147153fcd4506ce.txt  \n",
      " extracting: valid/labels/ck0u00a7o6ask0a467afyogi5_jpeg.rf.21a70a87ad642ad0a69887527c397ff3.txt  \n",
      " extracting: valid/labels/ck0u00wpmuoae0701e4j4rgq4_jpeg.rf.c1eb8cdfeb7bc01ecf3823cce33b960c.txt  \n",
      " extracting: valid/labels/ck0u030x8uono0701kp4dvddz_jpeg.rf.ad0573bf20a8d7dd98be12a62fdcacf4.txt  \n",
      " extracting: valid/labels/ck0u086m36ca30a46uxou346g_jpeg.rf.d5df3dcc3c28ca226484ddd7aca37298.txt  \n",
      " extracting: valid/labels/ck0u09p0z70h60848av5vdh7v_jpeg.rf.78409e4eaeaf919bb93c444d2fdf0aae.txt  \n",
      " extracting: valid/labels/ck0u0fzglungw0944luype68g_jpeg.rf.72dd483404428808af29d85476e3c964.txt  \n",
      " extracting: valid/labels/ck0u0hs5pwywo0721zyjfy75h_jpeg.rf.94968a8f5354d89843e03cd41dca6fac.txt  \n",
      " extracting: valid/labels/ck0u0m0dqtaz70838kcm0o9w3_jpeg.rf.18bc37d578299e69072fb85c71c3c445.txt  \n",
      " extracting: valid/labels/ck0u0p0aix0240721eyb5n57o_jpeg.rf.e2b4c536158fc3365a9e8314f491c27e.txt  \n",
      " extracting: valid/labels/ck0u0raa96fpd0a46z626vh9b_jpeg.rf.5842bd880da3c2c2dfb849d575d967a5.txt  \n",
      " extracting: valid/labels/ck0u12y7v75dn0848omjgbtgs_jpeg.rf.9086814e27617dfb536f6b2349f24f92.txt  \n",
      " extracting: valid/labels/ck0u13xaxuv4k07010miwxisb_jpeg.rf.1d129e634e059f36fccf0b4ee8b46fed.txt  \n",
      " extracting: valid/labels/ck0u96z1nxzlx0721hdcmet81_jpeg.rf.2850df46aab5f3a950ff875f5351db8b.txt  \n",
      " extracting: valid/labels/ck0ug28sbusje083872me6leq_jpeg.rf.9a06c74cba3e847b305b34dc60c2fc24.txt  \n",
      " extracting: valid/labels/ck0uiwjhb843y0a46w2o985sl_jpeg.rf.25be775b2550b1c8db31461381184496.txt  \n",
      " extracting: valid/labels/ck0ujedh4wiln0701x3dugshl_jpeg.rf.a4026fd323930b246ccec57f4aa53cdf.txt  \n",
      " extracting: valid/labels/ck0ujob3n85zc0a46r0pdmhoy_jpeg.rf.6afc92c99814d4f4d59f7b1784507dd5.txt  \n",
      " extracting: valid/labels/ck0ujvlapv2j60838394p7rtf_jpeg.rf.c32cc5d640642b9142690c913a84b017.txt  \n",
      " extracting: valid/labels/ck0ujxwiv8tpa0848i4mm92da_jpeg.rf.f02746963b70948ea93bb823ce55ec26.txt  \n",
      " extracting: valid/labels/ck0uk19kvwftk0944hsc0vul0_jpeg.rf.154e4e24cb17837e919a5290bc7ad896.txt  \n",
      " extracting: valid/labels/ck0ukh756v4e308383pqia4e4_jpeg.rf.b0e5400cd908a2ff2798639d53133402.txt  \n",
      " extracting: valid/labels/ck0uki6ppytkz0721bttibej8_jpeg.rf.10295fd24970e780bf4c2c645bc2ea49.txt  \n"
     ]
    }
   ],
   "source": [
    "%cd dataset\n",
    "!curl -L \"https://public.roboflow.com/ds/BloPJqtduR?key=63MG0YMXyE\" > roboflow.zip; unzip roboflow.zip; rm roboflow.zip"
   ]
  },
  {
   "cell_type": "code",
   "execution_count": null,
   "metadata": {
    "id": "yNDVvV2btE9n"
   },
   "outputs": [],
   "source": [
    "import os\n",
    "import shutil\n",
    "\n",
    "# 이미지가 위치한 디렉토리 경로\n",
    "source_image_dir = \"/content/dataset/test/images\"\n",
    "source_label_dir = \"/content/dataset/test/labels\"\n",
    "\n",
    "# 이동할 디렉토리 경로\n",
    "target_image_dir = \"/content/dataset/train/images\"\n",
    "target_label_dir = \"/content/dataset/train/labels\"\n",
    "\n",
    "# 이미지 이동\n",
    "for filename in os.listdir(source_image_dir):\n",
    "    source_file = os.path.join(source_image_dir, filename)\n",
    "    target_file = os.path.join(target_image_dir, filename)\n",
    "    shutil.move(source_file, target_file)\n",
    "\n",
    "# 레이블 이동\n",
    "for filename in os.listdir(source_label_dir):\n",
    "    source_file = os.path.join(source_label_dir, filename)\n",
    "    target_file = os.path.join(target_label_dir, filename)\n",
    "    shutil.move(source_file, target_file)\n"
   ]
  },
  {
   "cell_type": "code",
   "execution_count": null,
   "metadata": {
    "colab": {
     "base_uri": "https://localhost:8080/"
    },
    "id": "8p1603VijJ_x",
    "outputId": "7f9036e9-3f7b-4eda-96da-6ed04366a825"
   },
   "outputs": [
    {
     "name": "stdout",
     "output_type": "stream",
     "text": [
      "/content\n",
      "Cloning into 'ultralytics'...\n",
      "remote: Enumerating objects: 12370, done.\u001b[K\n",
      "remote: Counting objects: 100% (1644/1644), done.\u001b[K\n",
      "remote: Compressing objects: 100% (1073/1073), done.\u001b[K\n",
      "remote: Total 12370 (delta 982), reused 1005 (delta 562), pack-reused 10726\u001b[K\n",
      "Receiving objects: 100% (12370/12370), 7.69 MiB | 22.12 MiB/s, done.\n",
      "Resolving deltas: 100% (8144/8144), done.\n"
     ]
    }
   ],
   "source": [
    "%cd /content\n",
    "!git clone https://github.com/ultralytics/ultralytics"
   ]
  },
  {
   "cell_type": "code",
   "execution_count": null,
   "metadata": {
    "colab": {
     "base_uri": "https://localhost:8080/"
    },
    "id": "WnS0XLAcj1aO",
    "outputId": "6943e4af-427f-4b60-8e56-934d70cab41a"
   },
   "outputs": [
    {
     "name": "stdout",
     "output_type": "stream",
     "text": [
      "/content/ultralytics\n",
      "Requirement already satisfied: matplotlib>=3.2.2 in /usr/local/lib/python3.10/dist-packages (from -r requirements.txt (line 5)) (3.7.1)\n",
      "Requirement already satisfied: opencv-python>=4.6.0 in /usr/local/lib/python3.10/dist-packages (from -r requirements.txt (line 6)) (4.7.0.72)\n",
      "Requirement already satisfied: Pillow>=7.1.2 in /usr/local/lib/python3.10/dist-packages (from -r requirements.txt (line 7)) (8.4.0)\n",
      "Requirement already satisfied: PyYAML>=5.3.1 in /usr/local/lib/python3.10/dist-packages (from -r requirements.txt (line 8)) (6.0)\n",
      "Requirement already satisfied: requests>=2.23.0 in /usr/local/lib/python3.10/dist-packages (from -r requirements.txt (line 9)) (2.27.1)\n",
      "Requirement already satisfied: scipy>=1.4.1 in /usr/local/lib/python3.10/dist-packages (from -r requirements.txt (line 10)) (1.10.1)\n",
      "Requirement already satisfied: torch>=1.7.0 in /usr/local/lib/python3.10/dist-packages (from -r requirements.txt (line 11)) (2.0.1+cu118)\n",
      "Requirement already satisfied: torchvision>=0.8.1 in /usr/local/lib/python3.10/dist-packages (from -r requirements.txt (line 12)) (0.15.2+cu118)\n",
      "Requirement already satisfied: tqdm>=4.64.0 in /usr/local/lib/python3.10/dist-packages (from -r requirements.txt (line 13)) (4.65.0)\n",
      "Requirement already satisfied: pandas>=1.1.4 in /usr/local/lib/python3.10/dist-packages (from -r requirements.txt (line 22)) (1.5.3)\n",
      "Requirement already satisfied: seaborn>=0.11.0 in /usr/local/lib/python3.10/dist-packages (from -r requirements.txt (line 23)) (0.12.2)\n",
      "Requirement already satisfied: psutil in /usr/local/lib/python3.10/dist-packages (from -r requirements.txt (line 38)) (5.9.5)\n",
      "Requirement already satisfied: contourpy>=1.0.1 in /usr/local/lib/python3.10/dist-packages (from matplotlib>=3.2.2->-r requirements.txt (line 5)) (1.1.0)\n",
      "Requirement already satisfied: cycler>=0.10 in /usr/local/lib/python3.10/dist-packages (from matplotlib>=3.2.2->-r requirements.txt (line 5)) (0.11.0)\n",
      "Requirement already satisfied: fonttools>=4.22.0 in /usr/local/lib/python3.10/dist-packages (from matplotlib>=3.2.2->-r requirements.txt (line 5)) (4.40.0)\n",
      "Requirement already satisfied: kiwisolver>=1.0.1 in /usr/local/lib/python3.10/dist-packages (from matplotlib>=3.2.2->-r requirements.txt (line 5)) (1.4.4)\n",
      "Requirement already satisfied: numpy>=1.20 in /usr/local/lib/python3.10/dist-packages (from matplotlib>=3.2.2->-r requirements.txt (line 5)) (1.22.4)\n",
      "Requirement already satisfied: packaging>=20.0 in /usr/local/lib/python3.10/dist-packages (from matplotlib>=3.2.2->-r requirements.txt (line 5)) (23.1)\n",
      "Requirement already satisfied: pyparsing>=2.3.1 in /usr/local/lib/python3.10/dist-packages (from matplotlib>=3.2.2->-r requirements.txt (line 5)) (3.1.0)\n",
      "Requirement already satisfied: python-dateutil>=2.7 in /usr/local/lib/python3.10/dist-packages (from matplotlib>=3.2.2->-r requirements.txt (line 5)) (2.8.2)\n",
      "Requirement already satisfied: urllib3<1.27,>=1.21.1 in /usr/local/lib/python3.10/dist-packages (from requests>=2.23.0->-r requirements.txt (line 9)) (1.26.16)\n",
      "Requirement already satisfied: certifi>=2017.4.17 in /usr/local/lib/python3.10/dist-packages (from requests>=2.23.0->-r requirements.txt (line 9)) (2023.5.7)\n",
      "Requirement already satisfied: charset-normalizer~=2.0.0 in /usr/local/lib/python3.10/dist-packages (from requests>=2.23.0->-r requirements.txt (line 9)) (2.0.12)\n",
      "Requirement already satisfied: idna<4,>=2.5 in /usr/local/lib/python3.10/dist-packages (from requests>=2.23.0->-r requirements.txt (line 9)) (3.4)\n",
      "Requirement already satisfied: filelock in /usr/local/lib/python3.10/dist-packages (from torch>=1.7.0->-r requirements.txt (line 11)) (3.12.2)\n",
      "Requirement already satisfied: typing-extensions in /usr/local/lib/python3.10/dist-packages (from torch>=1.7.0->-r requirements.txt (line 11)) (4.7.1)\n",
      "Requirement already satisfied: sympy in /usr/local/lib/python3.10/dist-packages (from torch>=1.7.0->-r requirements.txt (line 11)) (1.11.1)\n",
      "Requirement already satisfied: networkx in /usr/local/lib/python3.10/dist-packages (from torch>=1.7.0->-r requirements.txt (line 11)) (3.1)\n",
      "Requirement already satisfied: jinja2 in /usr/local/lib/python3.10/dist-packages (from torch>=1.7.0->-r requirements.txt (line 11)) (3.1.2)\n",
      "Requirement already satisfied: triton==2.0.0 in /usr/local/lib/python3.10/dist-packages (from torch>=1.7.0->-r requirements.txt (line 11)) (2.0.0)\n",
      "Requirement already satisfied: cmake in /usr/local/lib/python3.10/dist-packages (from triton==2.0.0->torch>=1.7.0->-r requirements.txt (line 11)) (3.25.2)\n",
      "Requirement already satisfied: lit in /usr/local/lib/python3.10/dist-packages (from triton==2.0.0->torch>=1.7.0->-r requirements.txt (line 11)) (16.0.6)\n",
      "Requirement already satisfied: pytz>=2020.1 in /usr/local/lib/python3.10/dist-packages (from pandas>=1.1.4->-r requirements.txt (line 22)) (2022.7.1)\n",
      "Requirement already satisfied: six>=1.5 in /usr/local/lib/python3.10/dist-packages (from python-dateutil>=2.7->matplotlib>=3.2.2->-r requirements.txt (line 5)) (1.16.0)\n",
      "Requirement already satisfied: MarkupSafe>=2.0 in /usr/local/lib/python3.10/dist-packages (from jinja2->torch>=1.7.0->-r requirements.txt (line 11)) (2.1.3)\n",
      "Requirement already satisfied: mpmath>=0.19 in /usr/local/lib/python3.10/dist-packages (from sympy->torch>=1.7.0->-r requirements.txt (line 11)) (1.3.0)\n"
     ]
    }
   ],
   "source": [
    "%cd /content/ultralytics/\n",
    "!pip install -r requirements.txt"
   ]
  },
  {
   "cell_type": "code",
   "execution_count": null,
   "metadata": {
    "colab": {
     "base_uri": "https://localhost:8080/"
    },
    "id": "Wmum2kbAj-h3",
    "outputId": "3bb5325e-4aac-4070-c8c3-9ea1e47fd5d5"
   },
   "outputs": [
    {
     "name": "stdout",
     "output_type": "stream",
     "text": [
      "train: ../train/images\n",
      "val: ../valid/images\n",
      "test: ../test/images\n",
      "\n",
      "nc: 1\n",
      "names: ['smoke']\n",
      "\n",
      "roboflow:\n",
      "  workspace: brad-dwyer\n",
      "  project: wildfire-smoke\n",
      "  version: 1\n",
      "  license: BY-NC-SA 4.0\n",
      "  url: https://universe.roboflow.com/brad-dwyer/wildfire-smoke/dataset/1"
     ]
    }
   ],
   "source": [
    "%cat /content/dataset/data.yaml"
   ]
  },
  {
   "cell_type": "code",
   "execution_count": null,
   "metadata": {
    "colab": {
     "base_uri": "https://localhost:8080/"
    },
    "id": "59bxmTd0krk4",
    "outputId": "6ba9631b-a8e8-48ac-e571-8e34418582e4"
   },
   "outputs": [
    {
     "name": "stdout",
     "output_type": "stream",
     "text": [
      "/\n",
      "590 147\n"
     ]
    }
   ],
   "source": [
    "%cd /\n",
    "from glob import glob\n",
    "\n",
    "train_img_list = glob('/content/dataset/train/images/*.jpg')\n",
    "val_img_list = glob('/content/dataset/valid/images/*.jpg')\n",
    "\n",
    "\n",
    "print(len(train_img_list), len(val_img_list))"
   ]
  },
  {
   "cell_type": "code",
   "execution_count": null,
   "metadata": {
    "id": "YewU3sWClTyh"
   },
   "outputs": [],
   "source": [
    "with open('/content/dataset/train.txt', 'w') as f:\n",
    "  f.write('\\n'.join(train_img_list) + '\\n')\n",
    "\n",
    "with open('/content/dataset/val.txt', 'w') as f:\n",
    "  f.write('\\n'.join(val_img_list) + '\\n')"
   ]
  },
  {
   "cell_type": "code",
   "execution_count": null,
   "metadata": {
    "colab": {
     "base_uri": "https://localhost:8080/"
    },
    "id": "w8JhXyYBlrrW",
    "outputId": "1b8afcf8-0b2e-4f77-e2d1-3d8931c172f2"
   },
   "outputs": [
    {
     "name": "stdout",
     "output_type": "stream",
     "text": [
      "{'train': '../train/images', 'val': '../valid/images', 'test': '../test/images', 'nc': 1, 'names': ['smoke'], 'roboflow': {'workspace': 'brad-dwyer', 'project': 'wildfire-smoke', 'version': 1, 'license': 'BY-NC-SA 4.0', 'url': 'https://universe.roboflow.com/brad-dwyer/wildfire-smoke/dataset/1'}}\n",
      "{'train': '/content/dataset/train.txt', 'val': '/content/dataset/val.txt', 'test': '../test/images', 'nc': 1, 'names': ['smoke'], 'roboflow': {'workspace': 'brad-dwyer', 'project': 'wildfire-smoke', 'version': 1, 'license': 'BY-NC-SA 4.0', 'url': 'https://universe.roboflow.com/brad-dwyer/wildfire-smoke/dataset/1'}}\n"
     ]
    }
   ],
   "source": [
    "import yaml\n",
    "\n",
    "with open('/content/dataset/data.yaml', 'r') as f:\n",
    "  data = yaml.safe_load(f)\n",
    "\n",
    "print(data)\n",
    "\n",
    "data['train'] = '/content/dataset/train.txt'\n",
    "data['val'] = '/content/dataset/val.txt'\n",
    "\n",
    "with open('/content/dataset/data.yaml', 'w') as f:\n",
    "  yaml.dump(data, f)\n",
    "\n",
    "print(data)\n"
   ]
  },
  {
   "cell_type": "code",
   "execution_count": 3,
   "metadata": {
    "colab": {
     "base_uri": "https://localhost:8080/"
    },
    "id": "Das7YGgqmSUL",
    "outputId": "8c447c0d-0dc8-4fbc-b8cd-90c147c81a35"
   },
   "outputs": [
    {
     "name": "stdout",
     "output_type": "stream",
     "text": [
      "Requirement already satisfied: ultralytics in c:\\users\\joeup\\anaconda3\\lib\\site-packages (8.2.52)\n",
      "Requirement already satisfied: numpy<2.0.0,>=1.23.0 in c:\\users\\joeup\\anaconda3\\lib\\site-packages (from ultralytics) (1.24.3)\n",
      "Requirement already satisfied: matplotlib>=3.3.0 in c:\\users\\joeup\\anaconda3\\lib\\site-packages (from ultralytics) (3.7.2)\n",
      "Requirement already satisfied: opencv-python>=4.6.0 in c:\\users\\joeup\\anaconda3\\lib\\site-packages (from ultralytics) (4.9.0.80)\n",
      "Requirement already satisfied: pillow>=7.1.2 in c:\\users\\joeup\\anaconda3\\lib\\site-packages (from ultralytics) (10.3.0)\n",
      "Requirement already satisfied: pyyaml>=5.3.1 in c:\\users\\joeup\\anaconda3\\lib\\site-packages (from ultralytics) (6.0)\n",
      "Requirement already satisfied: requests>=2.23.0 in c:\\users\\joeup\\anaconda3\\lib\\site-packages (from ultralytics) (2.31.0)\n",
      "Requirement already satisfied: scipy>=1.4.1 in c:\\users\\joeup\\anaconda3\\lib\\site-packages (from ultralytics) (1.11.1)\n",
      "Requirement already satisfied: torch>=1.8.0 in c:\\users\\joeup\\anaconda3\\lib\\site-packages (from ultralytics) (2.1.0)\n",
      "Requirement already satisfied: torchvision>=0.9.0 in c:\\users\\joeup\\anaconda3\\lib\\site-packages (from ultralytics) (0.16.0)\n",
      "Requirement already satisfied: tqdm>=4.64.0 in c:\\users\\joeup\\anaconda3\\lib\\site-packages (from ultralytics) (4.65.0)\n",
      "Requirement already satisfied: psutil in c:\\users\\joeup\\anaconda3\\lib\\site-packages (from ultralytics) (5.9.0)\n",
      "Requirement already satisfied: py-cpuinfo in c:\\users\\joeup\\anaconda3\\lib\\site-packages (from ultralytics) (8.0.0)\n",
      "Requirement already satisfied: pandas>=1.1.4 in c:\\users\\joeup\\anaconda3\\lib\\site-packages (from ultralytics) (2.0.3)\n",
      "Requirement already satisfied: seaborn>=0.11.0 in c:\\users\\joeup\\anaconda3\\lib\\site-packages (from ultralytics) (0.12.2)\n",
      "Requirement already satisfied: ultralytics-thop>=2.0.0 in c:\\users\\joeup\\anaconda3\\lib\\site-packages (from ultralytics) (2.0.0)\n",
      "Requirement already satisfied: contourpy>=1.0.1 in c:\\users\\joeup\\anaconda3\\lib\\site-packages (from matplotlib>=3.3.0->ultralytics) (1.0.5)\n",
      "Requirement already satisfied: cycler>=0.10 in c:\\users\\joeup\\anaconda3\\lib\\site-packages (from matplotlib>=3.3.0->ultralytics) (0.10.0)\n",
      "Requirement already satisfied: fonttools>=4.22.0 in c:\\users\\joeup\\anaconda3\\lib\\site-packages (from matplotlib>=3.3.0->ultralytics) (4.25.0)\n",
      "Requirement already satisfied: kiwisolver>=1.0.1 in c:\\users\\joeup\\anaconda3\\lib\\site-packages (from matplotlib>=3.3.0->ultralytics) (1.4.4)\n",
      "Requirement already satisfied: packaging>=20.0 in c:\\users\\joeup\\anaconda3\\lib\\site-packages (from matplotlib>=3.3.0->ultralytics) (23.1)\n",
      "Requirement already satisfied: pyparsing<3.1,>=2.3.1 in c:\\users\\joeup\\anaconda3\\lib\\site-packages (from matplotlib>=3.3.0->ultralytics) (3.0.9)\n",
      "Requirement already satisfied: python-dateutil>=2.7 in c:\\users\\joeup\\anaconda3\\lib\\site-packages (from matplotlib>=3.3.0->ultralytics) (2.8.2)\n",
      "Requirement already satisfied: pytz>=2020.1 in c:\\users\\joeup\\anaconda3\\lib\\site-packages (from pandas>=1.1.4->ultralytics) (2023.3.post1)\n",
      "Requirement already satisfied: tzdata>=2022.1 in c:\\users\\joeup\\anaconda3\\lib\\site-packages (from pandas>=1.1.4->ultralytics) (2023.3)\n",
      "Requirement already satisfied: charset-normalizer<4,>=2 in c:\\users\\joeup\\anaconda3\\lib\\site-packages (from requests>=2.23.0->ultralytics) (2.0.4)\n",
      "Requirement already satisfied: idna<4,>=2.5 in c:\\users\\joeup\\anaconda3\\lib\\site-packages (from requests>=2.23.0->ultralytics) (2.10)\n",
      "Requirement already satisfied: urllib3<3,>=1.21.1 in c:\\users\\joeup\\anaconda3\\lib\\site-packages (from requests>=2.23.0->ultralytics) (1.26.16)\n",
      "Requirement already satisfied: certifi>=2017.4.17 in c:\\users\\joeup\\anaconda3\\lib\\site-packages (from requests>=2.23.0->ultralytics) (2023.7.22)\n",
      "Requirement already satisfied: filelock in c:\\users\\joeup\\anaconda3\\lib\\site-packages (from torch>=1.8.0->ultralytics) (3.9.0)\n",
      "Requirement already satisfied: typing-extensions in c:\\users\\joeup\\anaconda3\\lib\\site-packages (from torch>=1.8.0->ultralytics) (4.7.1)\n",
      "Requirement already satisfied: sympy in c:\\users\\joeup\\anaconda3\\lib\\site-packages (from torch>=1.8.0->ultralytics) (1.11.1)\n",
      "Requirement already satisfied: networkx in c:\\users\\joeup\\anaconda3\\lib\\site-packages (from torch>=1.8.0->ultralytics) (3.1)\n",
      "Requirement already satisfied: jinja2 in c:\\users\\joeup\\anaconda3\\lib\\site-packages (from torch>=1.8.0->ultralytics) (3.1.2)\n",
      "Requirement already satisfied: fsspec in c:\\users\\joeup\\anaconda3\\lib\\site-packages (from torch>=1.8.0->ultralytics) (2023.4.0)\n",
      "Requirement already satisfied: colorama in c:\\users\\joeup\\anaconda3\\lib\\site-packages (from tqdm>=4.64.0->ultralytics) (0.4.6)\n",
      "Requirement already satisfied: six in c:\\users\\joeup\\anaconda3\\lib\\site-packages (from cycler>=0.10->matplotlib>=3.3.0->ultralytics) (1.16.0)\n",
      "Requirement already satisfied: MarkupSafe>=2.0 in c:\\users\\joeup\\anaconda3\\lib\\site-packages (from jinja2->torch>=1.8.0->ultralytics) (2.1.1)\n",
      "Requirement already satisfied: mpmath>=0.19 in c:\\users\\joeup\\anaconda3\\lib\\site-packages (from sympy->torch>=1.8.0->ultralytics) (1.3.0)\n"
     ]
    },
    {
     "name": "stderr",
     "output_type": "stream",
     "text": [
      "\n",
      "[notice] A new release of pip is available: 24.1.1 -> 24.1.2\n",
      "[notice] To update, run: python.exe -m pip install --upgrade pip\n"
     ]
    }
   ],
   "source": [
    "!pip install ultralytics"
   ]
  },
  {
   "cell_type": "code",
   "execution_count": 2,
   "metadata": {
    "colab": {
     "base_uri": "https://localhost:8080/"
    },
    "id": "ADVmoUUPyXpV",
    "outputId": "a01d3caf-2fd3-41b7-82e1-062a31ac93e7"
   },
   "outputs": [
    {
     "name": "stdout",
     "output_type": "stream",
     "text": [
      "Ultralytics YOLOv8.2.52  Python-3.11.5 torch-2.1.0+cpu CPU (AMD Ryzen 5 5600U with Radeon Graphics)\n",
      "Setup complete  (12 CPUs, 15.4 GB RAM, 221.7/476.1 GB disk)\n"
     ]
    }
   ],
   "source": [
    "import ultralytics\n",
    "\n",
    "ultralytics.checks()"
   ]
  },
  {
   "cell_type": "code",
   "execution_count": 5,
   "metadata": {},
   "outputs": [
    {
     "name": "stdout",
     "output_type": "stream",
     "text": [
      "YOLO(\n",
      "  (model): DetectionModel(\n",
      "    (model): Sequential(\n",
      "      (0): Conv(\n",
      "        (conv): Conv2d(3, 16, kernel_size=(3, 3), stride=(2, 2), padding=(1, 1), bias=False)\n",
      "        (bn): BatchNorm2d(16, eps=0.001, momentum=0.03, affine=True, track_running_stats=True)\n",
      "        (act): SiLU(inplace=True)\n",
      "      )\n",
      "      (1): Conv(\n",
      "        (conv): Conv2d(16, 32, kernel_size=(3, 3), stride=(2, 2), padding=(1, 1), bias=False)\n",
      "        (bn): BatchNorm2d(32, eps=0.001, momentum=0.03, affine=True, track_running_stats=True)\n",
      "        (act): SiLU(inplace=True)\n",
      "      )\n",
      "      (2): C2f(\n",
      "        (cv1): Conv(\n",
      "          (conv): Conv2d(32, 32, kernel_size=(1, 1), stride=(1, 1), bias=False)\n",
      "          (bn): BatchNorm2d(32, eps=0.001, momentum=0.03, affine=True, track_running_stats=True)\n",
      "          (act): SiLU(inplace=True)\n",
      "        )\n",
      "        (cv2): Conv(\n",
      "          (conv): Conv2d(48, 32, kernel_size=(1, 1), stride=(1, 1), bias=False)\n",
      "          (bn): BatchNorm2d(32, eps=0.001, momentum=0.03, affine=True, track_running_stats=True)\n",
      "          (act): SiLU(inplace=True)\n",
      "        )\n",
      "        (m): ModuleList(\n",
      "          (0): Bottleneck(\n",
      "            (cv1): Conv(\n",
      "              (conv): Conv2d(16, 16, kernel_size=(3, 3), stride=(1, 1), padding=(1, 1), bias=False)\n",
      "              (bn): BatchNorm2d(16, eps=0.001, momentum=0.03, affine=True, track_running_stats=True)\n",
      "              (act): SiLU(inplace=True)\n",
      "            )\n",
      "            (cv2): Conv(\n",
      "              (conv): Conv2d(16, 16, kernel_size=(3, 3), stride=(1, 1), padding=(1, 1), bias=False)\n",
      "              (bn): BatchNorm2d(16, eps=0.001, momentum=0.03, affine=True, track_running_stats=True)\n",
      "              (act): SiLU(inplace=True)\n",
      "            )\n",
      "          )\n",
      "        )\n",
      "      )\n",
      "      (3): Conv(\n",
      "        (conv): Conv2d(32, 64, kernel_size=(3, 3), stride=(2, 2), padding=(1, 1), bias=False)\n",
      "        (bn): BatchNorm2d(64, eps=0.001, momentum=0.03, affine=True, track_running_stats=True)\n",
      "        (act): SiLU(inplace=True)\n",
      "      )\n",
      "      (4): C2f(\n",
      "        (cv1): Conv(\n",
      "          (conv): Conv2d(64, 64, kernel_size=(1, 1), stride=(1, 1), bias=False)\n",
      "          (bn): BatchNorm2d(64, eps=0.001, momentum=0.03, affine=True, track_running_stats=True)\n",
      "          (act): SiLU(inplace=True)\n",
      "        )\n",
      "        (cv2): Conv(\n",
      "          (conv): Conv2d(128, 64, kernel_size=(1, 1), stride=(1, 1), bias=False)\n",
      "          (bn): BatchNorm2d(64, eps=0.001, momentum=0.03, affine=True, track_running_stats=True)\n",
      "          (act): SiLU(inplace=True)\n",
      "        )\n",
      "        (m): ModuleList(\n",
      "          (0-1): 2 x Bottleneck(\n",
      "            (cv1): Conv(\n",
      "              (conv): Conv2d(32, 32, kernel_size=(3, 3), stride=(1, 1), padding=(1, 1), bias=False)\n",
      "              (bn): BatchNorm2d(32, eps=0.001, momentum=0.03, affine=True, track_running_stats=True)\n",
      "              (act): SiLU(inplace=True)\n",
      "            )\n",
      "            (cv2): Conv(\n",
      "              (conv): Conv2d(32, 32, kernel_size=(3, 3), stride=(1, 1), padding=(1, 1), bias=False)\n",
      "              (bn): BatchNorm2d(32, eps=0.001, momentum=0.03, affine=True, track_running_stats=True)\n",
      "              (act): SiLU(inplace=True)\n",
      "            )\n",
      "          )\n",
      "        )\n",
      "      )\n",
      "      (5): Conv(\n",
      "        (conv): Conv2d(64, 128, kernel_size=(3, 3), stride=(2, 2), padding=(1, 1), bias=False)\n",
      "        (bn): BatchNorm2d(128, eps=0.001, momentum=0.03, affine=True, track_running_stats=True)\n",
      "        (act): SiLU(inplace=True)\n",
      "      )\n",
      "      (6): C2f(\n",
      "        (cv1): Conv(\n",
      "          (conv): Conv2d(128, 128, kernel_size=(1, 1), stride=(1, 1), bias=False)\n",
      "          (bn): BatchNorm2d(128, eps=0.001, momentum=0.03, affine=True, track_running_stats=True)\n",
      "          (act): SiLU(inplace=True)\n",
      "        )\n",
      "        (cv2): Conv(\n",
      "          (conv): Conv2d(256, 128, kernel_size=(1, 1), stride=(1, 1), bias=False)\n",
      "          (bn): BatchNorm2d(128, eps=0.001, momentum=0.03, affine=True, track_running_stats=True)\n",
      "          (act): SiLU(inplace=True)\n",
      "        )\n",
      "        (m): ModuleList(\n",
      "          (0-1): 2 x Bottleneck(\n",
      "            (cv1): Conv(\n",
      "              (conv): Conv2d(64, 64, kernel_size=(3, 3), stride=(1, 1), padding=(1, 1), bias=False)\n",
      "              (bn): BatchNorm2d(64, eps=0.001, momentum=0.03, affine=True, track_running_stats=True)\n",
      "              (act): SiLU(inplace=True)\n",
      "            )\n",
      "            (cv2): Conv(\n",
      "              (conv): Conv2d(64, 64, kernel_size=(3, 3), stride=(1, 1), padding=(1, 1), bias=False)\n",
      "              (bn): BatchNorm2d(64, eps=0.001, momentum=0.03, affine=True, track_running_stats=True)\n",
      "              (act): SiLU(inplace=True)\n",
      "            )\n",
      "          )\n",
      "        )\n",
      "      )\n",
      "      (7): Conv(\n",
      "        (conv): Conv2d(128, 256, kernel_size=(3, 3), stride=(2, 2), padding=(1, 1), bias=False)\n",
      "        (bn): BatchNorm2d(256, eps=0.001, momentum=0.03, affine=True, track_running_stats=True)\n",
      "        (act): SiLU(inplace=True)\n",
      "      )\n",
      "      (8): C2f(\n",
      "        (cv1): Conv(\n",
      "          (conv): Conv2d(256, 256, kernel_size=(1, 1), stride=(1, 1), bias=False)\n",
      "          (bn): BatchNorm2d(256, eps=0.001, momentum=0.03, affine=True, track_running_stats=True)\n",
      "          (act): SiLU(inplace=True)\n",
      "        )\n",
      "        (cv2): Conv(\n",
      "          (conv): Conv2d(384, 256, kernel_size=(1, 1), stride=(1, 1), bias=False)\n",
      "          (bn): BatchNorm2d(256, eps=0.001, momentum=0.03, affine=True, track_running_stats=True)\n",
      "          (act): SiLU(inplace=True)\n",
      "        )\n",
      "        (m): ModuleList(\n",
      "          (0): Bottleneck(\n",
      "            (cv1): Conv(\n",
      "              (conv): Conv2d(128, 128, kernel_size=(3, 3), stride=(1, 1), padding=(1, 1), bias=False)\n",
      "              (bn): BatchNorm2d(128, eps=0.001, momentum=0.03, affine=True, track_running_stats=True)\n",
      "              (act): SiLU(inplace=True)\n",
      "            )\n",
      "            (cv2): Conv(\n",
      "              (conv): Conv2d(128, 128, kernel_size=(3, 3), stride=(1, 1), padding=(1, 1), bias=False)\n",
      "              (bn): BatchNorm2d(128, eps=0.001, momentum=0.03, affine=True, track_running_stats=True)\n",
      "              (act): SiLU(inplace=True)\n",
      "            )\n",
      "          )\n",
      "        )\n",
      "      )\n",
      "      (9): SPPF(\n",
      "        (cv1): Conv(\n",
      "          (conv): Conv2d(256, 128, kernel_size=(1, 1), stride=(1, 1), bias=False)\n",
      "          (bn): BatchNorm2d(128, eps=0.001, momentum=0.03, affine=True, track_running_stats=True)\n",
      "          (act): SiLU(inplace=True)\n",
      "        )\n",
      "        (cv2): Conv(\n",
      "          (conv): Conv2d(512, 256, kernel_size=(1, 1), stride=(1, 1), bias=False)\n",
      "          (bn): BatchNorm2d(256, eps=0.001, momentum=0.03, affine=True, track_running_stats=True)\n",
      "          (act): SiLU(inplace=True)\n",
      "        )\n",
      "        (m): MaxPool2d(kernel_size=5, stride=1, padding=2, dilation=1, ceil_mode=False)\n",
      "      )\n",
      "      (10): Upsample(scale_factor=2.0, mode='nearest')\n",
      "      (11): Concat()\n",
      "      (12): C2f(\n",
      "        (cv1): Conv(\n",
      "          (conv): Conv2d(384, 128, kernel_size=(1, 1), stride=(1, 1), bias=False)\n",
      "          (bn): BatchNorm2d(128, eps=0.001, momentum=0.03, affine=True, track_running_stats=True)\n",
      "          (act): SiLU(inplace=True)\n",
      "        )\n",
      "        (cv2): Conv(\n",
      "          (conv): Conv2d(192, 128, kernel_size=(1, 1), stride=(1, 1), bias=False)\n",
      "          (bn): BatchNorm2d(128, eps=0.001, momentum=0.03, affine=True, track_running_stats=True)\n",
      "          (act): SiLU(inplace=True)\n",
      "        )\n",
      "        (m): ModuleList(\n",
      "          (0): Bottleneck(\n",
      "            (cv1): Conv(\n",
      "              (conv): Conv2d(64, 64, kernel_size=(3, 3), stride=(1, 1), padding=(1, 1), bias=False)\n",
      "              (bn): BatchNorm2d(64, eps=0.001, momentum=0.03, affine=True, track_running_stats=True)\n",
      "              (act): SiLU(inplace=True)\n",
      "            )\n",
      "            (cv2): Conv(\n",
      "              (conv): Conv2d(64, 64, kernel_size=(3, 3), stride=(1, 1), padding=(1, 1), bias=False)\n",
      "              (bn): BatchNorm2d(64, eps=0.001, momentum=0.03, affine=True, track_running_stats=True)\n",
      "              (act): SiLU(inplace=True)\n",
      "            )\n",
      "          )\n",
      "        )\n",
      "      )\n",
      "      (13): Upsample(scale_factor=2.0, mode='nearest')\n",
      "      (14): Concat()\n",
      "      (15): C2f(\n",
      "        (cv1): Conv(\n",
      "          (conv): Conv2d(192, 64, kernel_size=(1, 1), stride=(1, 1), bias=False)\n",
      "          (bn): BatchNorm2d(64, eps=0.001, momentum=0.03, affine=True, track_running_stats=True)\n",
      "          (act): SiLU(inplace=True)\n",
      "        )\n",
      "        (cv2): Conv(\n",
      "          (conv): Conv2d(96, 64, kernel_size=(1, 1), stride=(1, 1), bias=False)\n",
      "          (bn): BatchNorm2d(64, eps=0.001, momentum=0.03, affine=True, track_running_stats=True)\n",
      "          (act): SiLU(inplace=True)\n",
      "        )\n",
      "        (m): ModuleList(\n",
      "          (0): Bottleneck(\n",
      "            (cv1): Conv(\n",
      "              (conv): Conv2d(32, 32, kernel_size=(3, 3), stride=(1, 1), padding=(1, 1), bias=False)\n",
      "              (bn): BatchNorm2d(32, eps=0.001, momentum=0.03, affine=True, track_running_stats=True)\n",
      "              (act): SiLU(inplace=True)\n",
      "            )\n",
      "            (cv2): Conv(\n",
      "              (conv): Conv2d(32, 32, kernel_size=(3, 3), stride=(1, 1), padding=(1, 1), bias=False)\n",
      "              (bn): BatchNorm2d(32, eps=0.001, momentum=0.03, affine=True, track_running_stats=True)\n",
      "              (act): SiLU(inplace=True)\n",
      "            )\n",
      "          )\n",
      "        )\n",
      "      )\n",
      "      (16): Conv(\n",
      "        (conv): Conv2d(64, 64, kernel_size=(3, 3), stride=(2, 2), padding=(1, 1), bias=False)\n",
      "        (bn): BatchNorm2d(64, eps=0.001, momentum=0.03, affine=True, track_running_stats=True)\n",
      "        (act): SiLU(inplace=True)\n",
      "      )\n",
      "      (17): Concat()\n",
      "      (18): C2f(\n",
      "        (cv1): Conv(\n",
      "          (conv): Conv2d(192, 128, kernel_size=(1, 1), stride=(1, 1), bias=False)\n",
      "          (bn): BatchNorm2d(128, eps=0.001, momentum=0.03, affine=True, track_running_stats=True)\n",
      "          (act): SiLU(inplace=True)\n",
      "        )\n",
      "        (cv2): Conv(\n",
      "          (conv): Conv2d(192, 128, kernel_size=(1, 1), stride=(1, 1), bias=False)\n",
      "          (bn): BatchNorm2d(128, eps=0.001, momentum=0.03, affine=True, track_running_stats=True)\n",
      "          (act): SiLU(inplace=True)\n",
      "        )\n",
      "        (m): ModuleList(\n",
      "          (0): Bottleneck(\n",
      "            (cv1): Conv(\n",
      "              (conv): Conv2d(64, 64, kernel_size=(3, 3), stride=(1, 1), padding=(1, 1), bias=False)\n",
      "              (bn): BatchNorm2d(64, eps=0.001, momentum=0.03, affine=True, track_running_stats=True)\n",
      "              (act): SiLU(inplace=True)\n",
      "            )\n",
      "            (cv2): Conv(\n",
      "              (conv): Conv2d(64, 64, kernel_size=(3, 3), stride=(1, 1), padding=(1, 1), bias=False)\n",
      "              (bn): BatchNorm2d(64, eps=0.001, momentum=0.03, affine=True, track_running_stats=True)\n",
      "              (act): SiLU(inplace=True)\n",
      "            )\n",
      "          )\n",
      "        )\n",
      "      )\n",
      "      (19): Conv(\n",
      "        (conv): Conv2d(128, 128, kernel_size=(3, 3), stride=(2, 2), padding=(1, 1), bias=False)\n",
      "        (bn): BatchNorm2d(128, eps=0.001, momentum=0.03, affine=True, track_running_stats=True)\n",
      "        (act): SiLU(inplace=True)\n",
      "      )\n",
      "      (20): Concat()\n",
      "      (21): C2f(\n",
      "        (cv1): Conv(\n",
      "          (conv): Conv2d(384, 256, kernel_size=(1, 1), stride=(1, 1), bias=False)\n",
      "          (bn): BatchNorm2d(256, eps=0.001, momentum=0.03, affine=True, track_running_stats=True)\n",
      "          (act): SiLU(inplace=True)\n",
      "        )\n",
      "        (cv2): Conv(\n",
      "          (conv): Conv2d(384, 256, kernel_size=(1, 1), stride=(1, 1), bias=False)\n",
      "          (bn): BatchNorm2d(256, eps=0.001, momentum=0.03, affine=True, track_running_stats=True)\n",
      "          (act): SiLU(inplace=True)\n",
      "        )\n",
      "        (m): ModuleList(\n",
      "          (0): Bottleneck(\n",
      "            (cv1): Conv(\n",
      "              (conv): Conv2d(128, 128, kernel_size=(3, 3), stride=(1, 1), padding=(1, 1), bias=False)\n",
      "              (bn): BatchNorm2d(128, eps=0.001, momentum=0.03, affine=True, track_running_stats=True)\n",
      "              (act): SiLU(inplace=True)\n",
      "            )\n",
      "            (cv2): Conv(\n",
      "              (conv): Conv2d(128, 128, kernel_size=(3, 3), stride=(1, 1), padding=(1, 1), bias=False)\n",
      "              (bn): BatchNorm2d(128, eps=0.001, momentum=0.03, affine=True, track_running_stats=True)\n",
      "              (act): SiLU(inplace=True)\n",
      "            )\n",
      "          )\n",
      "        )\n",
      "      )\n",
      "      (22): Detect(\n",
      "        (cv2): ModuleList(\n",
      "          (0): Sequential(\n",
      "            (0): Conv(\n",
      "              (conv): Conv2d(64, 64, kernel_size=(3, 3), stride=(1, 1), padding=(1, 1), bias=False)\n",
      "              (bn): BatchNorm2d(64, eps=0.001, momentum=0.03, affine=True, track_running_stats=True)\n",
      "              (act): SiLU(inplace=True)\n",
      "            )\n",
      "            (1): Conv(\n",
      "              (conv): Conv2d(64, 64, kernel_size=(3, 3), stride=(1, 1), padding=(1, 1), bias=False)\n",
      "              (bn): BatchNorm2d(64, eps=0.001, momentum=0.03, affine=True, track_running_stats=True)\n",
      "              (act): SiLU(inplace=True)\n",
      "            )\n",
      "            (2): Conv2d(64, 64, kernel_size=(1, 1), stride=(1, 1))\n",
      "          )\n",
      "          (1): Sequential(\n",
      "            (0): Conv(\n",
      "              (conv): Conv2d(128, 64, kernel_size=(3, 3), stride=(1, 1), padding=(1, 1), bias=False)\n",
      "              (bn): BatchNorm2d(64, eps=0.001, momentum=0.03, affine=True, track_running_stats=True)\n",
      "              (act): SiLU(inplace=True)\n",
      "            )\n",
      "            (1): Conv(\n",
      "              (conv): Conv2d(64, 64, kernel_size=(3, 3), stride=(1, 1), padding=(1, 1), bias=False)\n",
      "              (bn): BatchNorm2d(64, eps=0.001, momentum=0.03, affine=True, track_running_stats=True)\n",
      "              (act): SiLU(inplace=True)\n",
      "            )\n",
      "            (2): Conv2d(64, 64, kernel_size=(1, 1), stride=(1, 1))\n",
      "          )\n",
      "          (2): Sequential(\n",
      "            (0): Conv(\n",
      "              (conv): Conv2d(256, 64, kernel_size=(3, 3), stride=(1, 1), padding=(1, 1), bias=False)\n",
      "              (bn): BatchNorm2d(64, eps=0.001, momentum=0.03, affine=True, track_running_stats=True)\n",
      "              (act): SiLU(inplace=True)\n",
      "            )\n",
      "            (1): Conv(\n",
      "              (conv): Conv2d(64, 64, kernel_size=(3, 3), stride=(1, 1), padding=(1, 1), bias=False)\n",
      "              (bn): BatchNorm2d(64, eps=0.001, momentum=0.03, affine=True, track_running_stats=True)\n",
      "              (act): SiLU(inplace=True)\n",
      "            )\n",
      "            (2): Conv2d(64, 64, kernel_size=(1, 1), stride=(1, 1))\n",
      "          )\n",
      "        )\n",
      "        (cv3): ModuleList(\n",
      "          (0): Sequential(\n",
      "            (0): Conv(\n",
      "              (conv): Conv2d(64, 80, kernel_size=(3, 3), stride=(1, 1), padding=(1, 1), bias=False)\n",
      "              (bn): BatchNorm2d(80, eps=0.001, momentum=0.03, affine=True, track_running_stats=True)\n",
      "              (act): SiLU(inplace=True)\n",
      "            )\n",
      "            (1): Conv(\n",
      "              (conv): Conv2d(80, 80, kernel_size=(3, 3), stride=(1, 1), padding=(1, 1), bias=False)\n",
      "              (bn): BatchNorm2d(80, eps=0.001, momentum=0.03, affine=True, track_running_stats=True)\n",
      "              (act): SiLU(inplace=True)\n",
      "            )\n",
      "            (2): Conv2d(80, 80, kernel_size=(1, 1), stride=(1, 1))\n",
      "          )\n",
      "          (1): Sequential(\n",
      "            (0): Conv(\n",
      "              (conv): Conv2d(128, 80, kernel_size=(3, 3), stride=(1, 1), padding=(1, 1), bias=False)\n",
      "              (bn): BatchNorm2d(80, eps=0.001, momentum=0.03, affine=True, track_running_stats=True)\n",
      "              (act): SiLU(inplace=True)\n",
      "            )\n",
      "            (1): Conv(\n",
      "              (conv): Conv2d(80, 80, kernel_size=(3, 3), stride=(1, 1), padding=(1, 1), bias=False)\n",
      "              (bn): BatchNorm2d(80, eps=0.001, momentum=0.03, affine=True, track_running_stats=True)\n",
      "              (act): SiLU(inplace=True)\n",
      "            )\n",
      "            (2): Conv2d(80, 80, kernel_size=(1, 1), stride=(1, 1))\n",
      "          )\n",
      "          (2): Sequential(\n",
      "            (0): Conv(\n",
      "              (conv): Conv2d(256, 80, kernel_size=(3, 3), stride=(1, 1), padding=(1, 1), bias=False)\n",
      "              (bn): BatchNorm2d(80, eps=0.001, momentum=0.03, affine=True, track_running_stats=True)\n",
      "              (act): SiLU(inplace=True)\n",
      "            )\n",
      "            (1): Conv(\n",
      "              (conv): Conv2d(80, 80, kernel_size=(3, 3), stride=(1, 1), padding=(1, 1), bias=False)\n",
      "              (bn): BatchNorm2d(80, eps=0.001, momentum=0.03, affine=True, track_running_stats=True)\n",
      "              (act): SiLU(inplace=True)\n",
      "            )\n",
      "            (2): Conv2d(80, 80, kernel_size=(1, 1), stride=(1, 1))\n",
      "          )\n",
      "        )\n",
      "        (dfl): DFL(\n",
      "          (conv): Conv2d(16, 1, kernel_size=(1, 1), stride=(1, 1), bias=False)\n",
      "        )\n",
      "      )\n",
      "    )\n",
      "  )\n",
      ")\n"
     ]
    }
   ],
   "source": [
    "from ultralytics import YOLO\n",
    "\n",
    "# 다운로드한 파일의 경로를 지정하여 모델 로드\n",
    "model = YOLO('C:/Users/joeup/Desktop/hand/yolov8n.pt')\n",
    "\n",
    "# 모델 정보 출력\n",
    "print(model)"
   ]
  },
  {
   "cell_type": "code",
   "execution_count": 9,
   "metadata": {
    "colab": {
     "base_uri": "https://localhost:8080/",
     "height": 431
    },
    "id": "hRq25lRoyZiz",
    "outputId": "5571c87f-0c9a-44a8-e92e-291e0f87b258",
    "scrolled": true
   },
   "outputs": [],
   "source": [
    "# from ultralytics.yolo.engine.model import YOLO\n",
    "# from ultralytics.vit.rtdetr import model\n",
    "# from ultralytics import yolo\n",
    "\n",
    "# model = YOLO('yolov8n.pt')"
   ]
  },
  {
   "cell_type": "code",
   "execution_count": null,
   "metadata": {
    "colab": {
     "background_save": true,
     "base_uri": "https://localhost:8080/"
    },
    "id": "NdG7p8sYybm0",
    "outputId": "b73958a1-17cb-4c80-8f00-4c891d8a691d",
    "scrolled": false
   },
   "outputs": [
    {
     "name": "stdout",
     "output_type": "stream",
     "text": [
      "New https://pypi.org/project/ultralytics/8.2.53 available  Update with 'pip install -U ultralytics'\n",
      "Ultralytics YOLOv8.2.52  Python-3.11.5 torch-2.1.0+cpu CPU (AMD Ryzen 5 5600U with Radeon Graphics)\n",
      "\u001b[34m\u001b[1mengine\\trainer: \u001b[0mtask=detect, mode=train, model=C:/Users/joeup/Desktop/hand/yolov8n.pt, data=C:/Users/joeup/Desktop/hand/dataset/data.yaml, epochs=50, time=None, patience=30, batch=32, imgsz=416, save=True, save_period=-1, cache=False, device=None, workers=8, project=None, name=train4, exist_ok=False, pretrained=True, optimizer=auto, verbose=True, seed=0, deterministic=True, single_cls=False, rect=False, cos_lr=False, close_mosaic=10, resume=False, amp=True, fraction=1.0, profile=False, freeze=None, multi_scale=False, overlap_mask=True, mask_ratio=4, dropout=0.0, val=True, split=val, save_json=False, save_hybrid=False, conf=None, iou=0.7, max_det=300, half=False, dnn=False, plots=True, source=None, vid_stride=1, stream_buffer=False, visualize=False, augment=False, agnostic_nms=False, classes=None, retina_masks=False, embed=None, show=False, save_frames=False, save_txt=False, save_conf=False, save_crop=False, show_labels=True, show_conf=True, show_boxes=True, line_width=None, format=torchscript, keras=False, optimize=False, int8=False, dynamic=False, simplify=False, opset=None, workspace=4, nms=False, lr0=0.01, lrf=0.01, momentum=0.937, weight_decay=0.0005, warmup_epochs=3.0, warmup_momentum=0.8, warmup_bias_lr=0.1, box=7.5, cls=0.5, dfl=1.5, pose=12.0, kobj=1.0, label_smoothing=0.0, nbs=64, hsv_h=0.015, hsv_s=0.7, hsv_v=0.4, degrees=0.0, translate=0.1, scale=0.5, shear=0.0, perspective=0.0, flipud=0.0, fliplr=0.5, bgr=0.0, mosaic=1.0, mixup=0.0, copy_paste=0.0, auto_augment=randaugment, erasing=0.4, crop_fraction=1.0, cfg=None, tracker=botsort.yaml, save_dir=runs\\detect\\train4\n",
      "\n",
      "                   from  n    params  module                                       arguments                     \n",
      "  0                  -1  1       464  ultralytics.nn.modules.conv.Conv             [3, 16, 3, 2]                 \n",
      "  1                  -1  1      4672  ultralytics.nn.modules.conv.Conv             [16, 32, 3, 2]                \n",
      "  2                  -1  1      7360  ultralytics.nn.modules.block.C2f             [32, 32, 1, True]             \n",
      "  3                  -1  1     18560  ultralytics.nn.modules.conv.Conv             [32, 64, 3, 2]                \n",
      "  4                  -1  2     49664  ultralytics.nn.modules.block.C2f             [64, 64, 2, True]             \n",
      "  5                  -1  1     73984  ultralytics.nn.modules.conv.Conv             [64, 128, 3, 2]               \n",
      "  6                  -1  2    197632  ultralytics.nn.modules.block.C2f             [128, 128, 2, True]           \n",
      "  7                  -1  1    295424  ultralytics.nn.modules.conv.Conv             [128, 256, 3, 2]              \n",
      "  8                  -1  1    460288  ultralytics.nn.modules.block.C2f             [256, 256, 1, True]           \n",
      "  9                  -1  1    164608  ultralytics.nn.modules.block.SPPF            [256, 256, 5]                 \n",
      " 10                  -1  1         0  torch.nn.modules.upsampling.Upsample         [None, 2, 'nearest']          \n",
      " 11             [-1, 6]  1         0  ultralytics.nn.modules.conv.Concat           [1]                           \n",
      " 12                  -1  1    148224  ultralytics.nn.modules.block.C2f             [384, 128, 1]                 \n",
      " 13                  -1  1         0  torch.nn.modules.upsampling.Upsample         [None, 2, 'nearest']          \n",
      " 14             [-1, 4]  1         0  ultralytics.nn.modules.conv.Concat           [1]                           \n",
      " 15                  -1  1     37248  ultralytics.nn.modules.block.C2f             [192, 64, 1]                  \n",
      " 16                  -1  1     36992  ultralytics.nn.modules.conv.Conv             [64, 64, 3, 2]                \n",
      " 17            [-1, 12]  1         0  ultralytics.nn.modules.conv.Concat           [1]                           \n",
      " 18                  -1  1    123648  ultralytics.nn.modules.block.C2f             [192, 128, 1]                 \n",
      " 19                  -1  1    147712  ultralytics.nn.modules.conv.Conv             [128, 128, 3, 2]              \n",
      " 20             [-1, 9]  1         0  ultralytics.nn.modules.conv.Concat           [1]                           \n",
      " 21                  -1  1    493056  ultralytics.nn.modules.block.C2f             [384, 256, 1]                 \n",
      " 22        [15, 18, 21]  1    751897  ultralytics.nn.modules.head.Detect           [3, [64, 128, 256]]           \n",
      "Model summary: 225 layers, 3011433 parameters, 3011417 gradients, 8.2 GFLOPs\n",
      "\n",
      "Transferred 355/355 items from pretrained weights\n",
      "\u001b[34m\u001b[1mTensorBoard: \u001b[0mStart with 'tensorboard --logdir runs\\detect\\train4', view at http://localhost:6006/\n",
      "Freezing layer 'model.22.dfl.conv.weight'\n"
     ]
    },
    {
     "name": "stderr",
     "output_type": "stream",
     "text": [
      "\u001b[34m\u001b[1mtrain: \u001b[0mScanning \\Users\\joeup\\Desktop\\hand\\dataset\\train\\labels.cache... 6759 images, 2634 back\u001b[0m\n",
      "\u001b[34m\u001b[1mval: \u001b[0mScanning C:\\Users\\joeup\\Desktop\\hand\\dataset\\valid\\labels... 576 images, 238 backgrounds,\u001b[0m"
     ]
    },
    {
     "name": "stdout",
     "output_type": "stream",
     "text": [
      "\u001b[34m\u001b[1mval: \u001b[0mNew cache created: C:\\Users\\joeup\\Desktop\\hand\\dataset\\valid\\labels.cache\n"
     ]
    },
    {
     "name": "stderr",
     "output_type": "stream",
     "text": [
      "\n"
     ]
    },
    {
     "name": "stdout",
     "output_type": "stream",
     "text": [
      "Plotting labels to runs\\detect\\train4\\labels.jpg... \n",
      "\u001b[34m\u001b[1moptimizer:\u001b[0m 'optimizer=auto' found, ignoring 'lr0=0.01' and 'momentum=0.937' and determining best 'optimizer', 'lr0' and 'momentum' automatically... \n",
      "\u001b[34m\u001b[1moptimizer:\u001b[0m AdamW(lr=0.001429, momentum=0.9) with parameter groups 57 weight(decay=0.0), 64 weight(decay=0.0005), 63 bias(decay=0.0)\n",
      "\u001b[34m\u001b[1mTensorBoard: \u001b[0mmodel graph visualization added \n",
      "Image sizes 416 train, 416 val\n",
      "Using 0 dataloader workers\n",
      "Logging results to \u001b[1mruns\\detect\\train4\u001b[0m\n",
      "Starting training for 50 epochs...\n",
      "\n",
      "      Epoch    GPU_mem   box_loss   cls_loss   dfl_loss  Instances       Size\n"
     ]
    },
    {
     "name": "stderr",
     "output_type": "stream",
     "text": [
      "       1/50         0G      1.286      2.544      1.361         12        416: 100%|██████████\n",
      "                 Class     Images  Instances      Box(P          R      mAP50  mAP50-95): 100%"
     ]
    },
    {
     "name": "stdout",
     "output_type": "stream",
     "text": [
      "                   all        576        400      0.251      0.545      0.375      0.216\n"
     ]
    },
    {
     "name": "stderr",
     "output_type": "stream",
     "text": [
      "\n"
     ]
    },
    {
     "name": "stdout",
     "output_type": "stream",
     "text": [
      "\n",
      "      Epoch    GPU_mem   box_loss   cls_loss   dfl_loss  Instances       Size\n"
     ]
    },
    {
     "name": "stderr",
     "output_type": "stream",
     "text": [
      "       2/50         0G      1.319      1.888      1.362         13        416: 100%|██████████\n",
      "                 Class     Images  Instances      Box(P          R      mAP50  mAP50-95): 100%"
     ]
    },
    {
     "name": "stdout",
     "output_type": "stream",
     "text": [
      "                   all        576        400      0.621      0.661      0.655      0.399\n"
     ]
    },
    {
     "name": "stderr",
     "output_type": "stream",
     "text": [
      "\n"
     ]
    },
    {
     "name": "stdout",
     "output_type": "stream",
     "text": [
      "\n",
      "      Epoch    GPU_mem   box_loss   cls_loss   dfl_loss  Instances       Size\n"
     ]
    },
    {
     "name": "stderr",
     "output_type": "stream",
     "text": [
      "       3/50         0G      1.345      1.696      1.373          9        416: 100%|██████████\n",
      "                 Class     Images  Instances      Box(P          R      mAP50  mAP50-95): 100%"
     ]
    },
    {
     "name": "stdout",
     "output_type": "stream",
     "text": [
      "                   all        576        400      0.568      0.588       0.57      0.338\n"
     ]
    },
    {
     "name": "stderr",
     "output_type": "stream",
     "text": [
      "\n"
     ]
    },
    {
     "name": "stdout",
     "output_type": "stream",
     "text": [
      "\n",
      "      Epoch    GPU_mem   box_loss   cls_loss   dfl_loss  Instances       Size\n"
     ]
    },
    {
     "name": "stderr",
     "output_type": "stream",
     "text": [
      "       4/50         0G      1.321      1.583      1.365         14        416: 100%|██████████\n",
      "                 Class     Images  Instances      Box(P          R      mAP50  mAP50-95): 100%"
     ]
    },
    {
     "name": "stdout",
     "output_type": "stream",
     "text": [
      "                   all        576        400      0.702      0.679      0.721       0.45\n"
     ]
    },
    {
     "name": "stderr",
     "output_type": "stream",
     "text": [
      "\n"
     ]
    },
    {
     "name": "stdout",
     "output_type": "stream",
     "text": [
      "\n",
      "      Epoch    GPU_mem   box_loss   cls_loss   dfl_loss  Instances       Size\n"
     ]
    },
    {
     "name": "stderr",
     "output_type": "stream",
     "text": [
      "       5/50         0G      1.243      1.422      1.327         11        416: 100%|██████████\n",
      "                 Class     Images  Instances      Box(P          R      mAP50  mAP50-95): 100%"
     ]
    },
    {
     "name": "stdout",
     "output_type": "stream",
     "text": [
      "                   all        576        400      0.781      0.743      0.804       0.55\n"
     ]
    },
    {
     "name": "stderr",
     "output_type": "stream",
     "text": [
      "\n"
     ]
    },
    {
     "name": "stdout",
     "output_type": "stream",
     "text": [
      "\n",
      "      Epoch    GPU_mem   box_loss   cls_loss   dfl_loss  Instances       Size\n"
     ]
    },
    {
     "name": "stderr",
     "output_type": "stream",
     "text": [
      "       6/50         0G      1.193      1.306      1.286         11        416: 100%|██████████\n",
      "                 Class     Images  Instances      Box(P          R      mAP50  mAP50-95): 100%"
     ]
    },
    {
     "name": "stdout",
     "output_type": "stream",
     "text": [
      "                   all        576        400      0.782      0.743      0.807      0.569\n"
     ]
    },
    {
     "name": "stderr",
     "output_type": "stream",
     "text": [
      "\n"
     ]
    },
    {
     "name": "stdout",
     "output_type": "stream",
     "text": [
      "\n",
      "      Epoch    GPU_mem   box_loss   cls_loss   dfl_loss  Instances       Size\n"
     ]
    },
    {
     "name": "stderr",
     "output_type": "stream",
     "text": [
      "       7/50         0G       1.17      1.249      1.276          8        416: 100%|██████████\n",
      "                 Class     Images  Instances      Box(P          R      mAP50  mAP50-95): 100%"
     ]
    },
    {
     "name": "stdout",
     "output_type": "stream",
     "text": [
      "                   all        576        400      0.835      0.814      0.876      0.628\n"
     ]
    },
    {
     "name": "stderr",
     "output_type": "stream",
     "text": [
      "\n"
     ]
    },
    {
     "name": "stdout",
     "output_type": "stream",
     "text": [
      "\n",
      "      Epoch    GPU_mem   box_loss   cls_loss   dfl_loss  Instances       Size\n"
     ]
    },
    {
     "name": "stderr",
     "output_type": "stream",
     "text": [
      "       8/50         0G      1.129      1.158      1.252          9        416: 100%|██████████\n",
      "                 Class     Images  Instances      Box(P          R      mAP50  mAP50-95): 100%"
     ]
    },
    {
     "name": "stdout",
     "output_type": "stream",
     "text": [
      "                   all        576        400      0.845      0.837      0.878      0.625\n"
     ]
    },
    {
     "name": "stderr",
     "output_type": "stream",
     "text": [
      "\n"
     ]
    },
    {
     "name": "stdout",
     "output_type": "stream",
     "text": [
      "\n",
      "      Epoch    GPU_mem   box_loss   cls_loss   dfl_loss  Instances       Size\n"
     ]
    },
    {
     "name": "stderr",
     "output_type": "stream",
     "text": [
      "       9/50         0G      1.111      1.107      1.236          9        416: 100%|██████████\n",
      "                 Class     Images  Instances      Box(P          R      mAP50  mAP50-95): 100%"
     ]
    },
    {
     "name": "stdout",
     "output_type": "stream",
     "text": [
      "                   all        576        400      0.834      0.828      0.863      0.604\n"
     ]
    },
    {
     "name": "stderr",
     "output_type": "stream",
     "text": [
      "\n"
     ]
    },
    {
     "name": "stdout",
     "output_type": "stream",
     "text": [
      "\n",
      "      Epoch    GPU_mem   box_loss   cls_loss   dfl_loss  Instances       Size\n"
     ]
    },
    {
     "name": "stderr",
     "output_type": "stream",
     "text": [
      "      10/50         0G      1.092       1.09       1.23          9        416: 100%|██████████\n",
      "                 Class     Images  Instances      Box(P          R      mAP50  mAP50-95): 100%"
     ]
    },
    {
     "name": "stdout",
     "output_type": "stream",
     "text": [
      "                   all        576        400      0.869      0.827      0.888      0.625\n"
     ]
    },
    {
     "name": "stderr",
     "output_type": "stream",
     "text": [
      "\n"
     ]
    },
    {
     "name": "stdout",
     "output_type": "stream",
     "text": [
      "\n",
      "      Epoch    GPU_mem   box_loss   cls_loss   dfl_loss  Instances       Size\n"
     ]
    },
    {
     "name": "stderr",
     "output_type": "stream",
     "text": [
      "      11/50         0G      1.073       1.05      1.222          6        416: 100%|██████████\n",
      "                 Class     Images  Instances      Box(P          R      mAP50  mAP50-95): 100%"
     ]
    },
    {
     "name": "stdout",
     "output_type": "stream",
     "text": [
      "                   all        576        400      0.874      0.817      0.876       0.66\n"
     ]
    },
    {
     "name": "stderr",
     "output_type": "stream",
     "text": [
      "\n"
     ]
    },
    {
     "name": "stdout",
     "output_type": "stream",
     "text": [
      "\n",
      "      Epoch    GPU_mem   box_loss   cls_loss   dfl_loss  Instances       Size\n"
     ]
    },
    {
     "name": "stderr",
     "output_type": "stream",
     "text": [
      "      12/50         0G      1.057      1.023      1.209          6        416: 100%|██████████\n",
      "                 Class     Images  Instances      Box(P          R      mAP50  mAP50-95): 100%"
     ]
    },
    {
     "name": "stdout",
     "output_type": "stream",
     "text": [
      "                   all        576        400      0.882      0.836      0.893      0.656\n"
     ]
    },
    {
     "name": "stderr",
     "output_type": "stream",
     "text": [
      "\n"
     ]
    },
    {
     "name": "stdout",
     "output_type": "stream",
     "text": [
      "\n",
      "      Epoch    GPU_mem   box_loss   cls_loss   dfl_loss  Instances       Size\n"
     ]
    },
    {
     "name": "stderr",
     "output_type": "stream",
     "text": [
      "      13/50         0G      1.039      1.002      1.201         10        416: 100%|██████████\n",
      "                 Class     Images  Instances      Box(P          R      mAP50  mAP50-95): 100%"
     ]
    },
    {
     "name": "stdout",
     "output_type": "stream",
     "text": [
      "                   all        576        400      0.828       0.82      0.884      0.653\n"
     ]
    },
    {
     "name": "stderr",
     "output_type": "stream",
     "text": [
      "\n"
     ]
    },
    {
     "name": "stdout",
     "output_type": "stream",
     "text": [
      "\n",
      "      Epoch    GPU_mem   box_loss   cls_loss   dfl_loss  Instances       Size\n"
     ]
    },
    {
     "name": "stderr",
     "output_type": "stream",
     "text": [
      "      14/50         0G      1.024     0.9465       1.19          7        416: 100%|██████████\n",
      "                 Class     Images  Instances      Box(P          R      mAP50  mAP50-95): 100%"
     ]
    },
    {
     "name": "stdout",
     "output_type": "stream",
     "text": [
      "                   all        576        400      0.917       0.88      0.929      0.705\n"
     ]
    },
    {
     "name": "stderr",
     "output_type": "stream",
     "text": [
      "\n"
     ]
    },
    {
     "name": "stdout",
     "output_type": "stream",
     "text": [
      "\n",
      "      Epoch    GPU_mem   box_loss   cls_loss   dfl_loss  Instances       Size\n"
     ]
    },
    {
     "name": "stderr",
     "output_type": "stream",
     "text": [
      "      15/50         0G      1.009     0.9223      1.184          7        416: 100%|██████████\n",
      "                 Class     Images  Instances      Box(P          R      mAP50  mAP50-95): 100%"
     ]
    },
    {
     "name": "stdout",
     "output_type": "stream",
     "text": [
      "                   all        576        400      0.899      0.906      0.928       0.71\n"
     ]
    },
    {
     "name": "stderr",
     "output_type": "stream",
     "text": [
      "\n"
     ]
    },
    {
     "name": "stdout",
     "output_type": "stream",
     "text": [
      "\n",
      "      Epoch    GPU_mem   box_loss   cls_loss   dfl_loss  Instances       Size\n"
     ]
    },
    {
     "name": "stderr",
     "output_type": "stream",
     "text": [
      "      16/50         0G      1.001     0.8984      1.179          8        416: 100%|██████████\n",
      "                 Class     Images  Instances      Box(P          R      mAP50  mAP50-95): 100%"
     ]
    },
    {
     "name": "stdout",
     "output_type": "stream",
     "text": [
      "                   all        576        400      0.927      0.885      0.935       0.72\n"
     ]
    },
    {
     "name": "stderr",
     "output_type": "stream",
     "text": [
      "\n"
     ]
    },
    {
     "name": "stdout",
     "output_type": "stream",
     "text": [
      "\n",
      "      Epoch    GPU_mem   box_loss   cls_loss   dfl_loss  Instances       Size\n"
     ]
    },
    {
     "name": "stderr",
     "output_type": "stream",
     "text": [
      "      17/50         0G     0.9708     0.8553      1.154         10        416: 100%|██████████\n",
      "                 Class     Images  Instances      Box(P          R      mAP50  mAP50-95): 100%"
     ]
    },
    {
     "name": "stdout",
     "output_type": "stream",
     "text": [
      "                   all        576        400      0.905      0.864      0.923       0.69\n"
     ]
    },
    {
     "name": "stderr",
     "output_type": "stream",
     "text": [
      "\n"
     ]
    },
    {
     "name": "stdout",
     "output_type": "stream",
     "text": [
      "\n",
      "      Epoch    GPU_mem   box_loss   cls_loss   dfl_loss  Instances       Size\n"
     ]
    },
    {
     "name": "stderr",
     "output_type": "stream",
     "text": [
      "      18/50         0G     0.9564     0.8547      1.151          9        416: 100%|██████████\n",
      "                 Class     Images  Instances      Box(P          R      mAP50  mAP50-95): 100%"
     ]
    },
    {
     "name": "stdout",
     "output_type": "stream",
     "text": [
      "                   all        576        400      0.894      0.885      0.929      0.704\n"
     ]
    },
    {
     "name": "stderr",
     "output_type": "stream",
     "text": [
      "\n"
     ]
    },
    {
     "name": "stdout",
     "output_type": "stream",
     "text": [
      "\n",
      "      Epoch    GPU_mem   box_loss   cls_loss   dfl_loss  Instances       Size\n"
     ]
    },
    {
     "name": "stderr",
     "output_type": "stream",
     "text": [
      "      19/50         0G      0.953      0.823      1.146          9        416: 100%|██████████\n",
      "                 Class     Images  Instances      Box(P          R      mAP50  mAP50-95): 100%"
     ]
    },
    {
     "name": "stdout",
     "output_type": "stream",
     "text": [
      "                   all        576        400      0.924      0.894      0.942      0.733\n"
     ]
    },
    {
     "name": "stderr",
     "output_type": "stream",
     "text": [
      "\n"
     ]
    },
    {
     "name": "stdout",
     "output_type": "stream",
     "text": [
      "\n",
      "      Epoch    GPU_mem   box_loss   cls_loss   dfl_loss  Instances       Size\n"
     ]
    },
    {
     "name": "stderr",
     "output_type": "stream",
     "text": [
      "      20/50         0G     0.9394     0.8288       1.14         13        416: 100%|██████████\n",
      "                 Class     Images  Instances      Box(P          R      mAP50  mAP50-95): 100%"
     ]
    },
    {
     "name": "stdout",
     "output_type": "stream",
     "text": [
      "                   all        576        400      0.924      0.896      0.935      0.732\n"
     ]
    },
    {
     "name": "stderr",
     "output_type": "stream",
     "text": [
      "\n"
     ]
    },
    {
     "name": "stdout",
     "output_type": "stream",
     "text": [
      "\n",
      "      Epoch    GPU_mem   box_loss   cls_loss   dfl_loss  Instances       Size\n"
     ]
    },
    {
     "name": "stderr",
     "output_type": "stream",
     "text": [
      "      21/50         0G      0.934     0.8048      1.134          7        416: 100%|██████████\n",
      "                 Class     Images  Instances      Box(P          R      mAP50  mAP50-95): 100%"
     ]
    },
    {
     "name": "stdout",
     "output_type": "stream",
     "text": [
      "                   all        576        400      0.917       0.91      0.937      0.726\n"
     ]
    },
    {
     "name": "stderr",
     "output_type": "stream",
     "text": [
      "\n"
     ]
    },
    {
     "name": "stdout",
     "output_type": "stream",
     "text": [
      "\n",
      "      Epoch    GPU_mem   box_loss   cls_loss   dfl_loss  Instances       Size\n"
     ]
    },
    {
     "name": "stderr",
     "output_type": "stream",
     "text": [
      "      22/50         0G     0.9221     0.7895      1.131          9        416: 100%|██████████\n",
      "                 Class     Images  Instances      Box(P          R      mAP50  mAP50-95): 100%"
     ]
    },
    {
     "name": "stdout",
     "output_type": "stream",
     "text": [
      "                   all        576        400      0.931      0.908       0.93      0.731\n"
     ]
    },
    {
     "name": "stderr",
     "output_type": "stream",
     "text": [
      "\n"
     ]
    },
    {
     "name": "stdout",
     "output_type": "stream",
     "text": [
      "\n",
      "      Epoch    GPU_mem   box_loss   cls_loss   dfl_loss  Instances       Size\n"
     ]
    },
    {
     "name": "stderr",
     "output_type": "stream",
     "text": [
      "      23/50         0G     0.9057     0.7687      1.127          5        416: 100%|██████████\n",
      "                 Class     Images  Instances      Box(P          R      mAP50  mAP50-95): 100%"
     ]
    },
    {
     "name": "stdout",
     "output_type": "stream",
     "text": [
      "                   all        576        400      0.938      0.888      0.944      0.732\n"
     ]
    },
    {
     "name": "stderr",
     "output_type": "stream",
     "text": [
      "\n"
     ]
    },
    {
     "name": "stdout",
     "output_type": "stream",
     "text": [
      "\n",
      "      Epoch    GPU_mem   box_loss   cls_loss   dfl_loss  Instances       Size\n"
     ]
    },
    {
     "name": "stderr",
     "output_type": "stream",
     "text": [
      "      24/50         0G     0.9026     0.7535      1.119         11        416: 100%|██████████\n",
      "                 Class     Images  Instances      Box(P          R      mAP50  mAP50-95): 100%"
     ]
    },
    {
     "name": "stdout",
     "output_type": "stream",
     "text": [
      "                   all        576        400      0.919      0.933      0.937      0.741\n"
     ]
    },
    {
     "name": "stderr",
     "output_type": "stream",
     "text": [
      "\n"
     ]
    },
    {
     "name": "stdout",
     "output_type": "stream",
     "text": [
      "\n",
      "      Epoch    GPU_mem   box_loss   cls_loss   dfl_loss  Instances       Size\n"
     ]
    },
    {
     "name": "stderr",
     "output_type": "stream",
     "text": [
      "      25/50         0G     0.9077     0.7552      1.124         13        416: 100%|██████████\n",
      "                 Class     Images  Instances      Box(P          R      mAP50  mAP50-95): 100%"
     ]
    },
    {
     "name": "stdout",
     "output_type": "stream",
     "text": [
      "                   all        576        400      0.943      0.888      0.935       0.73\n"
     ]
    },
    {
     "name": "stderr",
     "output_type": "stream",
     "text": [
      "\n"
     ]
    },
    {
     "name": "stdout",
     "output_type": "stream",
     "text": [
      "\n",
      "      Epoch    GPU_mem   box_loss   cls_loss   dfl_loss  Instances       Size\n"
     ]
    },
    {
     "name": "stderr",
     "output_type": "stream",
     "text": [
      "      26/50         0G     0.8792     0.7257      1.108          8        416: 100%|██████████\n",
      "                 Class     Images  Instances      Box(P          R      mAP50  mAP50-95): 100%"
     ]
    },
    {
     "name": "stdout",
     "output_type": "stream",
     "text": [
      "                   all        576        400      0.926      0.944      0.951      0.755\n"
     ]
    },
    {
     "name": "stderr",
     "output_type": "stream",
     "text": [
      "\n"
     ]
    },
    {
     "name": "stdout",
     "output_type": "stream",
     "text": [
      "\n",
      "      Epoch    GPU_mem   box_loss   cls_loss   dfl_loss  Instances       Size\n"
     ]
    },
    {
     "name": "stderr",
     "output_type": "stream",
     "text": [
      "      27/50         0G     0.8716     0.7111      1.106          8        416: 100%|██████████\n",
      "                 Class     Images  Instances      Box(P          R      mAP50  mAP50-95): 100%"
     ]
    },
    {
     "name": "stdout",
     "output_type": "stream",
     "text": [
      "                   all        576        400      0.925      0.928      0.949      0.749\n"
     ]
    },
    {
     "name": "stderr",
     "output_type": "stream",
     "text": [
      "\n"
     ]
    },
    {
     "name": "stdout",
     "output_type": "stream",
     "text": [
      "\n",
      "      Epoch    GPU_mem   box_loss   cls_loss   dfl_loss  Instances       Size\n"
     ]
    },
    {
     "name": "stderr",
     "output_type": "stream",
     "text": [
      "      28/50         0G     0.8593      0.704        1.1          6        416: 100%|██████████\n",
      "                 Class     Images  Instances      Box(P          R      mAP50  mAP50-95): 100%"
     ]
    },
    {
     "name": "stdout",
     "output_type": "stream",
     "text": [
      "                   all        576        400      0.942      0.926      0.954       0.75\n"
     ]
    },
    {
     "name": "stderr",
     "output_type": "stream",
     "text": [
      "\n"
     ]
    },
    {
     "name": "stdout",
     "output_type": "stream",
     "text": [
      "\n",
      "      Epoch    GPU_mem   box_loss   cls_loss   dfl_loss  Instances       Size\n"
     ]
    },
    {
     "name": "stderr",
     "output_type": "stream",
     "text": [
      "      29/50         0G     0.8401     0.6829      1.086          8        416: 100%|██████████\n",
      "                 Class     Images  Instances      Box(P          R      mAP50  mAP50-95): 100%"
     ]
    },
    {
     "name": "stdout",
     "output_type": "stream",
     "text": [
      "                   all        576        400      0.921      0.927       0.95      0.754\n"
     ]
    },
    {
     "name": "stderr",
     "output_type": "stream",
     "text": [
      "\n"
     ]
    },
    {
     "name": "stdout",
     "output_type": "stream",
     "text": [
      "\n",
      "      Epoch    GPU_mem   box_loss   cls_loss   dfl_loss  Instances       Size\n"
     ]
    },
    {
     "name": "stderr",
     "output_type": "stream",
     "text": [
      "      30/50         0G     0.8254     0.6709       1.09         12        416: 100%|██████████\n",
      "                 Class     Images  Instances      Box(P          R      mAP50  mAP50-95): 100%"
     ]
    },
    {
     "name": "stdout",
     "output_type": "stream",
     "text": [
      "                   all        576        400      0.944      0.929      0.952      0.749\n"
     ]
    },
    {
     "name": "stderr",
     "output_type": "stream",
     "text": [
      "\n"
     ]
    },
    {
     "name": "stdout",
     "output_type": "stream",
     "text": [
      "\n",
      "      Epoch    GPU_mem   box_loss   cls_loss   dfl_loss  Instances       Size\n"
     ]
    },
    {
     "name": "stderr",
     "output_type": "stream",
     "text": [
      "      31/50         0G     0.8329     0.6613      1.088          4        416: 100%|██████████\n",
      "                 Class     Images  Instances      Box(P          R      mAP50  mAP50-95): 100%"
     ]
    },
    {
     "name": "stdout",
     "output_type": "stream",
     "text": [
      "                   all        576        400      0.937      0.929      0.954      0.756\n"
     ]
    },
    {
     "name": "stderr",
     "output_type": "stream",
     "text": [
      "\n"
     ]
    },
    {
     "name": "stdout",
     "output_type": "stream",
     "text": [
      "\n",
      "      Epoch    GPU_mem   box_loss   cls_loss   dfl_loss  Instances       Size\n"
     ]
    },
    {
     "name": "stderr",
     "output_type": "stream",
     "text": [
      "      32/50         0G     0.8085     0.6465      1.075         15        416: 100%|██████████\n",
      "                 Class     Images  Instances      Box(P          R      mAP50  mAP50-95): 100%"
     ]
    },
    {
     "name": "stdout",
     "output_type": "stream",
     "text": [
      "                   all        576        400      0.949      0.927      0.949      0.764\n"
     ]
    },
    {
     "name": "stderr",
     "output_type": "stream",
     "text": [
      "\n"
     ]
    },
    {
     "name": "stdout",
     "output_type": "stream",
     "text": [
      "\n",
      "      Epoch    GPU_mem   box_loss   cls_loss   dfl_loss  Instances       Size\n"
     ]
    },
    {
     "name": "stderr",
     "output_type": "stream",
     "text": [
      "      33/50         0G     0.8037     0.6523      1.069         12        416: 100%|██████████\n",
      "                 Class     Images  Instances      Box(P          R      mAP50  mAP50-95): 100%"
     ]
    },
    {
     "name": "stdout",
     "output_type": "stream",
     "text": [
      "                   all        576        400      0.937      0.947      0.953      0.766\n"
     ]
    },
    {
     "name": "stderr",
     "output_type": "stream",
     "text": [
      "\n"
     ]
    },
    {
     "name": "stdout",
     "output_type": "stream",
     "text": [
      "\n",
      "      Epoch    GPU_mem   box_loss   cls_loss   dfl_loss  Instances       Size\n"
     ]
    },
    {
     "name": "stderr",
     "output_type": "stream",
     "text": [
      "      34/50         0G     0.7978     0.6249      1.067          7        416: 100%|██████████\n",
      "                 Class     Images  Instances      Box(P          R      mAP50  mAP50-95): 100%"
     ]
    },
    {
     "name": "stdout",
     "output_type": "stream",
     "text": [
      "                   all        576        400       0.94       0.95      0.959      0.768\n"
     ]
    },
    {
     "name": "stderr",
     "output_type": "stream",
     "text": [
      "\n"
     ]
    },
    {
     "name": "stdout",
     "output_type": "stream",
     "text": [
      "\n",
      "      Epoch    GPU_mem   box_loss   cls_loss   dfl_loss  Instances       Size\n"
     ]
    },
    {
     "name": "stderr",
     "output_type": "stream",
     "text": [
      "      35/50         0G     0.7958     0.6212      1.064         13        416: 100%|██████████\n",
      "                 Class     Images  Instances      Box(P          R      mAP50  mAP50-95): 100%"
     ]
    },
    {
     "name": "stdout",
     "output_type": "stream",
     "text": [
      "                   all        576        400      0.943      0.942      0.958       0.78\n"
     ]
    },
    {
     "name": "stderr",
     "output_type": "stream",
     "text": [
      "\n"
     ]
    },
    {
     "name": "stdout",
     "output_type": "stream",
     "text": [
      "\n",
      "      Epoch    GPU_mem   box_loss   cls_loss   dfl_loss  Instances       Size\n"
     ]
    },
    {
     "name": "stderr",
     "output_type": "stream",
     "text": [
      "      36/50         0G     0.7771     0.6054      1.058          8        416: 100%|██████████\n",
      "                 Class     Images  Instances      Box(P          R      mAP50  mAP50-95): 100%"
     ]
    },
    {
     "name": "stdout",
     "output_type": "stream",
     "text": [
      "                   all        576        400      0.956      0.918      0.949      0.761\n"
     ]
    },
    {
     "name": "stderr",
     "output_type": "stream",
     "text": [
      "\n"
     ]
    },
    {
     "name": "stdout",
     "output_type": "stream",
     "text": [
      "\n",
      "      Epoch    GPU_mem   box_loss   cls_loss   dfl_loss  Instances       Size\n"
     ]
    },
    {
     "name": "stderr",
     "output_type": "stream",
     "text": [
      "      37/50         0G     0.7802     0.5971      1.059         12        416: 100%|██████████\n",
      "                 Class     Images  Instances      Box(P          R      mAP50  mAP50-95): 100%"
     ]
    },
    {
     "name": "stdout",
     "output_type": "stream",
     "text": [
      "                   all        576        400       0.95       0.93      0.955      0.769\n"
     ]
    },
    {
     "name": "stderr",
     "output_type": "stream",
     "text": [
      "\n"
     ]
    },
    {
     "name": "stdout",
     "output_type": "stream",
     "text": [
      "\n",
      "      Epoch    GPU_mem   box_loss   cls_loss   dfl_loss  Instances       Size\n"
     ]
    },
    {
     "name": "stderr",
     "output_type": "stream",
     "text": [
      "      38/50         0G     0.7662     0.5903      1.053          8        416: 100%|██████████\n",
      "                 Class     Images  Instances      Box(P          R      mAP50  mAP50-95): 100%"
     ]
    },
    {
     "name": "stdout",
     "output_type": "stream",
     "text": [
      "                   all        576        400      0.945      0.929       0.95      0.769\n"
     ]
    },
    {
     "name": "stderr",
     "output_type": "stream",
     "text": [
      "\n"
     ]
    },
    {
     "name": "stdout",
     "output_type": "stream",
     "text": [
      "\n",
      "      Epoch    GPU_mem   box_loss   cls_loss   dfl_loss  Instances       Size\n"
     ]
    },
    {
     "name": "stderr",
     "output_type": "stream",
     "text": [
      "      39/50         0G     0.6906     0.5208      1.006         46        416:   2%|▏         "
     ]
    }
   ],
   "source": [
    "model.train(data = 'C:/Users/joeup/Desktop/hand/dataset/data.yaml', epochs = 50, patience=30, batch=32, imgsz=416)"
   ]
  },
  {
   "cell_type": "code",
   "execution_count": null,
   "metadata": {
    "id": "3WOirnVAw58i"
   },
   "outputs": [],
   "source": [
    "%load_ext tensorboard\n",
    "%tensorboard --logdir runs/detect/train/weights\n",
    "\n",
    "# /content/yolov5/runs"
   ]
  },
  {
   "cell_type": "code",
   "execution_count": null,
   "metadata": {},
   "outputs": [],
   "source": []
  }
 ],
 "metadata": {
  "accelerator": "GPU",
  "colab": {
   "provenance": []
  },
  "kernelspec": {
   "display_name": "Python 3 (ipykernel)",
   "language": "python",
   "name": "python3"
  },
  "language_info": {
   "codemirror_mode": {
    "name": "ipython",
    "version": 3
   },
   "file_extension": ".py",
   "mimetype": "text/x-python",
   "name": "python",
   "nbconvert_exporter": "python",
   "pygments_lexer": "ipython3",
   "version": "3.11.5"
  }
 },
 "nbformat": 4,
 "nbformat_minor": 1
}
